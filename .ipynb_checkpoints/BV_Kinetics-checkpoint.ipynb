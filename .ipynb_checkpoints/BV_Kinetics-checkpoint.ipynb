{
 "cells": [
  {
   "cell_type": "code",
   "execution_count": 25,
   "metadata": {},
   "outputs": [],
   "source": [
    "import numpy as np\n",
    "%matplotlib inline\n",
    "from matplotlib import pyplot as plt\n",
    "from scipy.optimize import minimize\n",
    "from scipy.optimize import least_squares, fsolve"
   ]
  },
  {
   "cell_type": "code",
   "execution_count": 26,
   "metadata": {},
   "outputs": [],
   "source": [
    "R = 8.3144626 #J/mol-K\n",
    "F = 96485.33212 #C/mol\n",
    "\n",
    "# import parameters from fitting data\n",
    "%store -r air_params\n",
    "%store -r zn_params"
   ]
  },
  {
   "cell_type": "markdown",
   "metadata": {},
   "source": [
    "# Air electrode = cathode\n",
    "O2 + 2H20 +4e- = 2OH-\n",
    "# Zn electrode = anode\n",
    "Zn + 4OH- = Zn(OH)4^2- +2e-"
   ]
  },
  {
   "cell_type": "markdown",
   "metadata": {},
   "source": [
    "### Butler Volmer equations to describe kinetics\n",
    "    i_0 = exchange current density - the value of the current density at equilibrium\n",
    "    alpha_a = anodic charge transfer coefficient\n",
    "    alpha_c = cathodic charge transfer coefficient\n",
    "    alpha_a + alpha_c = number of electrons transferred in reaction\n",
    "    eta = surface overpotential = potential - equilibrium potential"
   ]
  },
  {
   "cell_type": "code",
   "execution_count": 27,
   "metadata": {},
   "outputs": [],
   "source": [
    "# General Butler-Volmer equation\n",
    "def bv_eq(i_0, alpha_a, alpha_c, eta):\n",
    "    R = 8.3144626\n",
    "    T = 273 #K\n",
    "    i = i_0*(np.exp((alpha_a*F*eta)/(R*T)) - np.exp((-alpha_c*F*eta)/(R*T)))\n",
    "    return i"
   ]
  },
  {
   "cell_type": "code",
   "execution_count": 28,
   "metadata": {},
   "outputs": [
    {
     "name": "stdout",
     "output_type": "stream",
     "text": [
      "[ 0.49531063 -0.06603417]\n",
      "1.3366036141442847\n",
      "1.3366036141429438\n"
     ]
    }
   ],
   "source": [
    "# Implement one version of BV equation for each reaction\n",
    "# Model parameters for oxidation reduction reaction at air electrode\n",
    "\n",
    "i_0_air = air_params[0] #A/m2\n",
    "alpha_a_air = air_params[1] #unitless\n",
    "alpha_c_air = air_params[2] #unitless\n",
    "\n",
    "\n",
    "# Model parameters for zinc to zincate reaction at air electrode\n",
    "i_0_zn = zn_params[0] #A \n",
    "alpha_a_zn = zn_params[1] #good approximation 0.5*4 electrons #unitless\n",
    "alpha_c_zn = zn_params[2] #good approximation 0.5*4 electrons #unitless\n",
    "\n",
    "# Equilibrium Potential\n",
    "U_air = 0.55416954 #V - from experiment\n",
    "U_zn = -0.62327188 #V - from experiment\n",
    "U_cell = U_air - U_zn #V doublecheck - also should be pos or neg?\n",
    "\n",
    "def current(X, *data):\n",
    "    eta_air, eta_zn = X\n",
    "    z = 2\n",
    "    i_0_air, alpha_a_air, alpha_c_air, i_0_zn, alpha_a_zn, alpha_c_zn, R, T, U_cell, P = data\n",
    "    i_air = i_0_air*(np.exp((z*alpha_a_air*F*eta_air)/(R*T)) - np.exp((-alpha_c_air*z*F*eta_air)/(R*T)))\n",
    "    i_zn = i_0_zn*(np.exp((alpha_a_zn*z*F*eta_zn)/(R*T)) - np.exp((-alpha_c_zn*z*F*eta_zn)/(R*T)))\n",
    "    \n",
    "    V_cell = U_cell - eta_air - eta_zn\n",
    "    \n",
    "    return [i_air - i_zn, P - i_air*V_cell]\n",
    "\n",
    "\n",
    "def currentNew(X, *data):\n",
    "    eta_air, eta_zn = X\n",
    "    z = 2\n",
    "    i_0_air, alpha_a_air, alpha_c_air, i_0_zn, alpha_a_zn, alpha_c_zn, R, T, U_cell, i = data\n",
    "    \n",
    "    return [i - (i_0_air*(np.exp((z*alpha_a_air*F*eta_air)/(R*T)) - np.exp((-alpha_c_air*z*F*eta_air)/(R*T)))),  - (i_0_zn*(np.exp((alpha_a_zn*z*F*eta_zn)/(R*T)) - np.exp((-alpha_c_zn*z*F*eta_zn)/(R*T))))]\n",
    "\n",
    "\n",
    "\n",
    "T = 293 #K\n",
    "P = 1 #W - for now\n",
    "A = 5 #m2\n",
    "z = 2\n",
    "data = (i_0_air, alpha_a_air, alpha_c_air, i_0_zn, alpha_a_zn, alpha_c_zn, R, T, U_cell, P)\n",
    "eta_air_0, eta_zn_0, A_0 = 0, 0, 0\n",
    "guess = [eta_air_0, eta_zn_0]\n",
    "sol = fsolve(current, guess, args=data)\n",
    "print(sol)\n",
    "eta_air_calc = sol[0]\n",
    "eta_zn_calc = sol[1]\n",
    "i_air = i_0_air*(np.exp((alpha_a_air*z*F*eta_air_calc)/(R*T)) - np.exp((-alpha_c_air*z*F*eta_air_calc)/(R*T)))\n",
    "i_zn = i_0_zn*(np.exp((alpha_a_zn*z*F*eta_zn_calc)/(R*T)) - np.exp((-alpha_c_zn*z*F*eta_zn_calc)/(R*T)))\n",
    "print(i_air)\n",
    "print(i_zn)\n"
   ]
  },
  {
   "cell_type": "code",
   "execution_count": 41,
   "metadata": {},
   "outputs": [
    {
     "data": {
      "image/png": "[encoded data removed]",
      "text/plain": [
       "<Figure size 432x288 with 2 Axes>"
      ]
     },
     "metadata": {
      "needs_background": "light"
     },
     "output_type": "display_data"
    }
   ],
   "source": [
    "current_densities = []\n",
    "voltages = []\n",
    "power = []\n",
    "eqvoltage = []\n",
    "volt_minus_eta_air = []\n",
    "power_densities = np.linspace(0,6,45)\n",
    "\n",
    "for P in power_densities:\n",
    "    #print('Power density =',P)\n",
    "    data = (i_0_air, alpha_a_air, alpha_c_air, i_0_zn, alpha_a_zn, alpha_c_zn, R, T, U_cell, P)\n",
    "    sol = fsolve(current, guess, args=data)\n",
    "    #print('solution =', sol)\n",
    "    eta_air_calc = sol[0]\n",
    "    eta_zn_calc = sol[1]\n",
    "    i_air = i_0_air*(np.exp((alpha_a_air*z*F*eta_air_calc)/(R*T)) - np.exp((-alpha_c_air*z*F*eta_air_calc)/(R*T)))\n",
    "    current_densities.append(i_air)\n",
    "    V_cell = U_cell - eta_air_calc - eta_zn_calc\n",
    "    voltages.append(V_cell)\n",
    "    volt_minus_eta_air.append(U_cell - eta_air_calc)\n",
    "    #print('current density =', i_air)\n",
    "    #print('voltage =', V_cell)\n",
    "    #try area of 1\n",
    "    A=1\n",
    "    power.append(V_cell*A*i_air)\n",
    "    eqvoltage.append(U_cell)\n",
    "\n",
    "    \n",
    "fig, ax1 = plt.subplots()\n",
    "\n",
    "ax2 = ax1.twinx()\n",
    "ax1.plot(current_densities, voltages)\n",
    "ax1.plot(current_densities, eqvoltage, label='Equilibrium Voltage')\n",
    "ax1.plot(current_densities, volt_minus_eta_air, label='Actual Voltage')\n",
    "#ax2.plot(current_densities, power)\n",
    "#np.ones_like(current_densities)*U_cell\n",
    "\n",
    "ax1.set_xlabel('Current Density (A/m^2)')\n",
    "ax1.set_ylabel('Cell Voltage (V)')\n",
    "ax1.legend()\n",
    "#ax2.set_ylabel('Power (W)')    \n",
    "\n",
    "plt.savefig('./poster/current_vs_voltage.png',dpi=500)\n",
    "#plt.plot(current_densities, voltages)\n",
    "#plt.plot(current_densities, power)\n",
    "#plt.ylabel('Cell Voltage (V)')\n",
    "#plt.xlabel('Current Density (A/m^2)')"
   ]
  },
  {
   "cell_type": "code",
   "execution_count": null,
   "metadata": {},
   "outputs": [],
   "source": [
    "def currentNew(X, *data):\n",
    "    eta_air, eta_zn = X\n",
    "    z = 2\n",
    "    i_0_air, alpha_a_air, alpha_c_air, i_0_zn, alpha_a_zn, alpha_c_zn, R, T, i = data\n",
    "    \n",
    "    return [i - (i_0_air*(np.exp((z*alpha_a_air*F*eta_air)/(R*T)) - np.exp((-alpha_c_air*z*F*eta_air)/(R*T)))),  - (i_0_zn*(np.exp((alpha_a_zn*z*F*eta_zn)/(R*T)) - np.exp((-alpha_c_zn*z*F*eta_zn)/(R*T))))\n",
    "   \n",
    "            \n",
    "\n",
    "current_densities = range(0,100)\n",
    "voltages = []\n",
    "#power = []\n",
    "power_densities = []\n",
    "\n",
    "eta_air_0, eta_zn_0 = 0, 0\n",
    "guess = [eta_air_0, eta_zn_0]            \n",
    "            \n",
    "for i in current_densities:\n",
    "    #print('Power density =',P)\n",
    "    data = (i_0_air, alpha_a_air, alpha_c_air, i_0_zn, alpha_a_zn, alpha_c_zn, R, T, i)\n",
    "    sol = fsolve(current, guess, args=data)\n",
    "    #print('solution =', sol)\n",
    "    eta_air_calc = sol[0]\n",
    "    eta_zn_calc = sol[1]\n",
    "    V_cell = U_cell - eta_air_calc - eta_zn_calc\n",
    "    voltages.append(V_cell)\n",
    "    #print('current density =', i_air)\n",
    "    #print('voltage =', V_cell)\n",
    "    #try area of 1\n",
    "    #A=1\n",
    "    power_densities.append(V_cell*i)\n",
    "\n",
    "    \n",
    "fig, ax1 = plt.subplots()\n",
    "\n",
    "ax2 = ax1.twinx()\n",
    "ax1.plot(current_densities, voltages)\n",
    "ax2.plot(current_densities, power)\n",
    "\n",
    "ax1.set_xlabel('Current Density (A/m^2)')\n",
    "ax1.set_ylabel('Cell Voltage"
   ]
  },
  {
   "cell_type": "code",
   "execution_count": null,
   "metadata": {},
   "outputs": [],
   "source": []
  }
 ],
 "metadata": {
  "kernelspec": {
   "display_name": "Python 3",
   "language": "python",
   "name": "python3"
  },
  "language_info": {
   "codemirror_mode": {
    "name": "ipython",
    "version": 3
   },
   "file_extension": ".py",
   "mimetype": "text/x-python",
   "name": "python",
   "nbconvert_exporter": "python",
   "pygments_lexer": "ipython3",
   "version": "3.7.4"
  }
 },
 "nbformat": 4,
 "nbformat_minor": 2
}
