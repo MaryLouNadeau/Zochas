{
 "cells": [
  {
   "cell_type": "code",
   "execution_count": 1,
   "metadata": {},
   "outputs": [],
   "source": [
    "import numpy as np\n",
    "%matplotlib inline\n",
    "from matplotlib import pyplot as plt\n",
    "from scipy.optimize import minimize\n",
    "from scipy.optimize import least_squares, fsolve"
   ]
  },
  {
   "cell_type": "code",
   "execution_count": 2,
   "metadata": {},
   "outputs": [],
   "source": [
    "R = 8.3144626 #J/mol-K\n",
    "F = 96485.33212 #C/mol\n",
    "\n",
    "# import parameters from fitting data\n",
    "%store -r params\n",
    "air_params = params"
   ]
  },
  {
   "cell_type": "markdown",
   "metadata": {},
   "source": [
    "# Air electrode = cathode\n",
    "O2 + 2H20 +4e- = 2OH-\n",
    "# Zn electrode = anode\n",
    "Zn + 4OH- = Zn(OH)4^2- +2e-"
   ]
  },
  {
   "cell_type": "markdown",
   "metadata": {},
   "source": [
    "### Butler Volmer equations to describe kinetics\n",
    "    i_0 = exchange current density - the value of the current density at equilibrium\n",
    "    alpha_a = anodic charge transfer coefficient\n",
    "    alpha_c = cathodic charge transfer coefficient\n",
    "    alpha_a + alpha_c = number of electrons transferred in reaction\n",
    "    eta = surface overpotential = potential - equilibrium potential"
   ]
  },
  {
   "cell_type": "code",
   "execution_count": 3,
   "metadata": {},
   "outputs": [],
   "source": [
    "# General Butler-Volmer equation\n",
    "def bv_eq(i_0, alpha_a, alpha_c, eta):\n",
    "    R = 8.3144626\n",
    "    T = 273 #K\n",
    "    i = i_0*(np.exp((alpha_a*F*eta)/(R*T)) - np.exp((-alpha_c*F*eta)/(R*T)))\n",
    "    return i"
   ]
  },
  {
   "cell_type": "code",
   "execution_count": 32,
   "metadata": {},
   "outputs": [
    {
     "name": "stdout",
     "output_type": "stream",
     "text": [
      "[0.00266033 0.00532065]\n"
     ]
    }
   ],
   "source": [
    "# Implement one version of BV equation for each reaction\n",
    "# Model parameters for oxidation reduction reaction at air electrode\n",
    "i_0_air = 1 #A \n",
    "alpha_a_air = 2 #good approximation 0.5*4 electrons #unitless\n",
    "alpha_c_air = 2 #good approximation 0.5*4 electrons #unitless\n",
    "\n",
    "# Model parameters for zinc to zincate reaction at air electrode\n",
    "i_0_zn = 1 #A \n",
    "alpha_a_zn = 1 #good approximation 0.5*4 electrons #unitless\n",
    "alpha_c_zn = 1 #good approximation 0.5*4 electrons #unitless\n",
    "\n",
    "# Equilibrium Potential\n",
    "U_air = 1.2 #V\n",
    "U_zn = -1 #V\n",
    "U_cell = U_air - U_zn #V doublecheck - also should be pos or neg?\n",
    "\n",
    "\n",
    "# Need to solve this system of equations??\n",
    "# need to initialize etas?\n",
    "# Cell potential\n",
    "#V_cell = U_cell - eta_air - eta_zn\n",
    "\n",
    "# Calculate current\n",
    "# CURRENTS MUST EQUAL EACH OTHER - THAT HOW SYSTEM IS FULLY SPECIFIED\n",
    "\n",
    "#i_air = bv_eq(i_o_air, alpha_a_air, alpha_c_air, eta_air)\n",
    "#i_zn = bv_eq(i_o_zn, alpha_a_zn, alpha_c_zn, eta_zn)\n",
    "#i_air = i_zn\n",
    "\n",
    "def current(X, *data):\n",
    "    eta_air, eta_zn = X\n",
    "    #eta_zn = .5\n",
    "    i_0_air, alpha_a_air, alpha_c_air, i_0_zn, alpha_a_zn, alpha_c_zn, R, T, U_cell, P, A = data\n",
    "    i_air = i_0_air*(np.exp((alpha_a_air*F*eta_air)/(R*T)) - np.exp((-alpha_c_air*F*eta_air)/(R*T)))\n",
    "    i_zn = i_0_zn*(np.exp((alpha_a_zn*F*eta_zn)/(R*T)) - np.exp((-alpha_c_zn*F*eta_zn)/(R*T)))\n",
    "    \n",
    "    V_cell = U_cell - eta_air - eta_zn\n",
    "    \n",
    "    #i_air = bv_eq(i_o_air, alpha_a_air, alpha_c_air, eta_air)\n",
    "    #i_zn = bv_eq(i_o_zn, alpha_a_zn, alpha_c_zn, eta_zn)\n",
    "    return [i_air - i_zn, P - i_air*A*V_cell]\n",
    "\n",
    "'''\n",
    "def func2(X, *data):\n",
    "    U_cell = data\n",
    "    return U_cell - V_cell - eta_air - eta_zn\n",
    "'''\n",
    "\n",
    "T = 273 #K\n",
    "P = 1\n",
    "A = 1\n",
    "data = (i_o_air, alpha_a_air, alpha_c_air, i_o_zn, alpha_a_zn, alpha_c_zn, R, T, U_cell, P, A)\n",
    "eta_air_0, eta_zn_0 = 0, 0\n",
    "guess = [eta_air_0, eta_zn_0]\n",
    "#guess = 1\n",
    "sol = fsolve(current, guess, args=data)\n",
    "print(sol)\n",
    "eta_air_calc = sol[0]\n",
    "eta_zn_calc = sol[1]\n",
    "i_air = i_0_air*(np.exp((alpha_a_air*F*eta_air)/(R*T)) - np.exp((-alpha_c_air*F*eta_air)/(R*T)))\n",
    "i_zn = i_0_zn*(np.exp((alpha_a_zn*F*eta_zn)/(R*T)) - np.exp((-alpha_c_zn*F*eta_zn)/(R*T)))\n",
    "\n",
    "# Area\n",
    "A = 1 #units? m^2?\n",
    "#I = A*i\n",
    "\n",
    "#Power\n",
    "#P = I*V_cell\n"
   ]
  },
  {
   "cell_type": "code",
   "execution_count": 2,
   "metadata": {},
   "outputs": [
    {
     "data": {
      "text/plain": [
       "[(0.7223146323729528, 0.06290780270246991, 0.34182471635506606),\n",
       " (0.7753199800812831, 0.06135596122509995, 0.3079265439357013),\n",
       " (0.7857103714753735, 0.06139352452592045, 0.3011989841231535),\n",
       " (0.8101286288979263, 0.0614278266032934, 0.2949372277137808),\n",
       " (0.8196450957986008, 0.061374891207414205, 0.29160714545427724)]"
      ]
     },
     "execution_count": 2,
     "metadata": {},
     "output_type": "execute_result"
    }
   ],
   "source": [
    "%store -r params\n",
    "params"
   ]
  },
  {
   "cell_type": "code",
   "execution_count": 29,
   "metadata": {},
   "outputs": [
    {
     "data": {
      "text/plain": [
       "1"
      ]
     },
     "execution_count": 29,
     "metadata": {},
     "output_type": "execute_result"
    }
   ],
   "source": [
    "A"
   ]
  },
  {
   "cell_type": "code",
   "execution_count": null,
   "metadata": {},
   "outputs": [],
   "source": []
  }
 ],
 "metadata": {
  "kernelspec": {
   "display_name": "Python 3",
   "language": "python",
   "name": "python3"
  },
  "language_info": {
   "codemirror_mode": {
    "name": "ipython",
    "version": 3
   },
   "file_extension": ".py",
   "mimetype": "text/x-python",
   "name": "python",
   "nbconvert_exporter": "python",
   "pygments_lexer": "ipython3",
   "version": "3.7.4"
  }
 },
 "nbformat": 4,
 "nbformat_minor": 2
}
