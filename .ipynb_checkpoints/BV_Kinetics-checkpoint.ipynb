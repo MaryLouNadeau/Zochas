{
 "cells": [
  {
   "cell_type": "code",
   "execution_count": 2,
   "metadata": {},
   "outputs": [],
   "source": [
    "import numpy as np\n",
    "%matplotlib inline\n",
    "from matplotlib import pyplot as plt\n",
    "from scipy.optimize import minimize\n",
    "from scipy.optimize import least_squares"
   ]
  },
  {
   "cell_type": "code",
   "execution_count": 2,
   "metadata": {},
   "outputs": [],
   "source": [
    "R = 8.3144626 #J/mol-K\n",
    "F = 96485.33212 #C/mol"
   ]
  },
  {
   "cell_type": "markdown",
   "metadata": {},
   "source": [
    "# Air electrode = cathode\n",
    "O2 + 2H20 +4e- = 2OH-\n",
    "# Zn electrode = anode\n",
    "Zn + 4OH- = Zn(OH)4^2- +2e-"
   ]
  },
  {
   "cell_type": "markdown",
   "metadata": {},
   "source": [
    "### Butler Volmer equations to describe kinetics\n",
    "    i_0 = exchange current density - the value of the current density at equilibrium\n",
    "    alpha_a = anodic charge transfer coefficient\n",
    "    alpha_c = cathodic charge transfer coefficient\n",
    "    alpha_a + alpha_c = number of electrons transferred in reaction\n",
    "    eta = surface overpotential = potential - equilibrium potential"
   ]
  },
  {
   "cell_type": "code",
   "execution_count": 3,
   "metadata": {},
   "outputs": [],
   "source": [
    "# General Butler-Volmer equation\n",
    "def bv_eq(i_0, alpha_a, alpha_c, eta):\n",
    "    i = i_0*(np.exp((alpha_a*F*eta)/(R*T)) - np.exp((-alpha_c*F*eta)/(R*T)))\n",
    "    return i"
   ]
  },
  {
   "cell_type": "code",
   "execution_count": 4,
   "metadata": {},
   "outputs": [],
   "source": [
    "# Implement one version of BV equation for each reaction\n",
    "# Model parameters for oxidation reduction reaction at air electrode\n",
    "i_o_air = 1 #A \n",
    "alpha_a_air = 2 #good approximation 0.5*4 electrons #unitless\n",
    "alpha_c_air = 2 #good approximation 0.5*4 electrons #unitless\n",
    "\n",
    "# Model parameters for zinc to zincate reaction at air electrode\n",
    "i_o_zn = 1 #A \n",
    "alpha_a_zn = 1 #good approximation 0.5*4 electrons #unitless\n",
    "alpha_c_zn = 1 #good approximation 0.5*4 electrons #unitless\n",
    "\n",
    "# Equilibrium Potential\n",
    "U_air = 1.2 #V\n",
    "U_zn = -1 #V\n",
    "U_cell = U_air - U_zn #V doublecheck - also should be pos or neg?\n",
    "\n",
    "\n",
    "# Need to solve this system of equations??\n",
    "# need to initialize etas?\n",
    "# Cell potential\n",
    "V_cell = U_cell - eta_air - eta_zn\n",
    "\n",
    "# Calculate current\n",
    "i_air = bv_eq(i_o_air, alpha_a_air, alpha_c_air, eta_air)\n",
    "i_zn = bv_eq(i_o_zn, alpha_a_zn, alpha_c_zn, eta_zn)\n",
    "i = min(i_air, i_zn)\n",
    "\n",
    "# Area\n",
    "A = 1 #units? m^2?\n",
    "I = A*i\n",
    "\n",
    "#Power\n",
    "P = I*V_cell\n"
   ]
  }
 ],
 "metadata": {
  "kernelspec": {
   "display_name": "Python 3",
   "language": "python",
   "name": "python3"
  },
  "language_info": {
   "codemirror_mode": {
    "name": "ipython",
    "version": 3
   },
   "file_extension": ".py",
   "mimetype": "text/x-python",
   "name": "python",
   "nbconvert_exporter": "python",
   "pygments_lexer": "ipython3",
   "version": "3.7.4"
  }
 },
 "nbformat": 4,
 "nbformat_minor": 2
}
