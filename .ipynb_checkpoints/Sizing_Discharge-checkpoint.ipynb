{
 "cells": [
  {
   "cell_type": "code",
   "execution_count": 48,
   "metadata": {},
   "outputs": [],
   "source": [
    "import numpy as np\n",
    "%matplotlib inline\n",
    "from matplotlib import pyplot as plt\n",
    "from scipy.optimize import minimize\n",
    "from scipy.optimize import curve_fit\n",
    "import pandas as pd"
   ]
  },
  {
   "cell_type": "code",
   "execution_count": 49,
   "metadata": {},
   "outputs": [],
   "source": [
    "rho_g_per_cm3 = 1.255184 #g/cm^3, 6M KOH\n",
    "density = rho_g_per_cm3*1000\n",
    "g = 9.81 #m/s^2\n",
    "gamma = density*g #N/m^3"
   ]
  },
  {
   "cell_type": "code",
   "execution_count": 50,
   "metadata": {},
   "outputs": [
    {
     "data": {
      "text/plain": [
       "[<matplotlib.lines.Line2D at 0x1bea0fedfd0>]"
      ]
     },
     "execution_count": 50,
     "metadata": {},
     "output_type": "execute_result"
    },
    {
     "data": {
      "image/png": "[encoded data removed]",
      "text/plain": [
       "<Figure size 432x288 with 1 Axes>"
      ]
     },
     "metadata": {
      "needs_background": "light"
     },
     "output_type": "display_data"
    }
   ],
   "source": [
    "ratios = [0,0.05,0.1,0.25,0.5,0.75,1.0]\n",
    "Cs = [96.0,89.9,84.7,72.9,62.2,57.9,56.9]\n",
    "plt.plot(ratios,Cs)"
   ]
  },
  {
   "cell_type": "code",
   "execution_count": 51,
   "metadata": {},
   "outputs": [
    {
     "data": {
      "text/plain": [
       "64.768"
      ]
     },
     "execution_count": 51,
     "metadata": {},
     "output_type": "execute_result"
    }
   ],
   "source": [
    "def find_C(ratio):\n",
    "    ratios = [0,0.05,0.1,0.25,0.5,0.75,1.0]\n",
    "    Cs = [96.0,89.9,84.7,72.9,62.2,57.9,56.9]\n",
    "    return np.interp(ratio,ratios,Cs)\n",
    "\n",
    "find_C(.44)"
   ]
  },
  {
   "cell_type": "code",
   "execution_count": 52,
   "metadata": {},
   "outputs": [],
   "source": [
    "def calculate_reynolds(reactor_width, cat_length):\n",
    "    '''\n",
    "    takes in the length of the cathode [m], assuming a flat square cathode,\n",
    "    and the reactor width[m], and calculates Re for a square duct\n",
    "    '''\n",
    "    #D_h = 4A/P\n",
    "    hydraulic_diameter = 4*cat_length*reactor_width / (2*cat_length + 2*reactor_width)\n",
    "    linear_velocity = 0.13263 #m/s\n",
    "    kinematic_viscosity_cm = 0.0149 #cm^2/s\n",
    "    kinematic_viscosity = kinematic_viscosity_cm/(100**2)\n",
    "    \n",
    "    Re = hydraulic_diameter*linear_velocity/kinematic_viscosity\n",
    "    \n",
    "    ratio = reactor_width/cat_length\n",
    "#     print('Aspect ratio is {:.2f}'.format(ratio))\n",
    "#     print(reactor_width)\n",
    "    return Re, ratio"
   ]
  },
  {
   "cell_type": "code",
   "execution_count": 53,
   "metadata": {},
   "outputs": [
    {
     "data": {
      "text/plain": [
       "[1723.7160911796564, 2028.4816102399345]"
      ]
     },
     "execution_count": 53,
     "metadata": {},
     "output_type": "execute_result"
    }
   ],
   "source": [
    "widths = np.linspace(0.01,.1) #range of values from 1cm to 10cm\n",
    "heights = np.ones_like(widths)\n",
    "heights *= 0.3048 #constant at 1ft\n",
    "\n",
    "reynolds, ratios = calculate_reynolds(widths,heights)\n",
    "\n",
    "lam_re = []\n",
    "for i in range(len(reynolds)):\n",
    "    if reynolds[i] < 2300: #laminar\n",
    "        lam_re.append(reynolds[i])\n",
    "lam_re"
   ]
  },
  {
   "cell_type": "code",
   "execution_count": 54,
   "metadata": {},
   "outputs": [],
   "source": [
    "def pressure_drop(h,w):\n",
    "    \n",
    "    L = h #square catalyst as side\n",
    "    hydraulic_diameter = 4*h*w/(2*h+2*w)\n",
    "    linear_velocity = 0.13263 #m/s\n",
    "    kinematic_viscosity_cm = 0.0149 #cm^2/s\n",
    "    kinematic_viscosity = kinematic_viscosity_cm/(100**2)\n",
    "    \n",
    "    Re_h = hydraulic_diameter*linear_velocity/kinematic_viscosity\n",
    "    ratio = w/h #or vice versa? \n",
    "    \n",
    "    C = find_C(ratio)\n",
    "    f = C/Re_h\n",
    "    \n",
    "    head_loss = f*L/hydraulic_diameter*linear_velocity**2/(2*g)\n",
    "    pressure_drop = gamma*head_loss\n",
    "     \n",
    "    return pressure_drop, head_loss #N/m^2\n",
    "    "
   ]
  },
  {
   "cell_type": "code",
   "execution_count": 55,
   "metadata": {},
   "outputs": [
    {
     "data": {
      "text/plain": [
       "9.416341654363427e-06"
      ]
     },
     "execution_count": 55,
     "metadata": {},
     "output_type": "execute_result"
    }
   ],
   "source": [
    "pd, head = pressure_drop(0.3048,.1)\n",
    "# p_bar = 1e-5*p\n",
    "head #m"
   ]
  },
  {
   "cell_type": "markdown",
   "metadata": {},
   "source": [
    "For laminar flow,\n",
    "\n",
    "$f = \\frac{64}{\\text{Re}}$\n",
    "\n",
    "head loss, $h_L$, can be calculated by\n",
    "\n",
    "$h_L = \\frac{f(l/D_h)V^2}{2g}$\n",
    "\n",
    "Then the pressure drop\n",
    "\n",
    "$\\Delta p = p_1 - p_2 = \\gamma  h_L = $"
   ]
  },
  {
   "cell_type": "code",
   "execution_count": null,
   "metadata": {},
   "outputs": [],
   "source": []
  },
  {
   "cell_type": "code",
   "execution_count": null,
   "metadata": {},
   "outputs": [],
   "source": []
  }
 ],
 "metadata": {
  "kernelspec": {
   "display_name": "Python 3",
   "language": "python",
   "name": "python3"
  },
  "language_info": {
   "codemirror_mode": {
    "name": "ipython",
    "version": 3
   },
   "file_extension": ".py",
   "mimetype": "text/x-python",
   "name": "python",
   "nbconvert_exporter": "python",
   "pygments_lexer": "ipython3",
   "version": "3.7.3"
  }
 },
 "nbformat": 4,
 "nbformat_minor": 2
}
