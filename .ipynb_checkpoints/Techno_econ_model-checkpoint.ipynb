{
 "cells": [
  {
   "cell_type": "markdown",
   "metadata": {},
   "source": [
    "# Preliminary Techno-Economic Model\n",
    "Based on Noack et al. (energies paper)"
   ]
  },
  {
   "cell_type": "code",
   "execution_count": 1,
   "metadata": {},
   "outputs": [],
   "source": [
    "import numpy as np\n",
    "%matplotlib inline\n",
    "from matplotlib import pyplot as plt\n",
    "from scipy.optimize import minimize\n",
    "from scipy.optimize import least_squares"
   ]
  },
  {
   "cell_type": "code",
   "execution_count": 2,
   "metadata": {},
   "outputs": [],
   "source": [
    "def battery_cost(power_C, energy_C, area_C, facilities_C):\n",
    "    cost = power_C + energy_C + area_C + facilities_C\n",
    "    return cost"
   ]
  },
  {
   "cell_type": "markdown",
   "metadata": {},
   "source": [
    "Constants:"
   ]
  },
  {
   "cell_type": "code",
   "execution_count": 3,
   "metadata": {},
   "outputs": [],
   "source": [
    "R = 8.3144626 #J/mol-K\n",
    "F = 96485.33212 #C/mol"
   ]
  },
  {
   "cell_type": "code",
   "execution_count": 4,
   "metadata": {},
   "outputs": [],
   "source": [
    "things_to_look_up_or_think_about = {}"
   ]
  },
  {
   "cell_type": "code",
   "execution_count": 28,
   "metadata": {},
   "outputs": [],
   "source": [
    "def Nernst(temp,Concentrations):\n",
    "    '''\n",
    "    Takes molar concentrations of the oxidant and reductant at the cathode and anode  \n",
    "    Returns the standard open circuit voltage of a STACK? \n",
    "    '''\n",
    "    E0_C = 0.401 #V vs SHE\n",
    "    E0_A = -.763 #V vs SHE\n",
    "    R = 8.3144626 #J/mol-K\n",
    "    F = 96485.33212 #C/mol\n",
    "    T = temp\n",
    "    z = 2 #electrons?? lol\n",
    "    c_C_ox,c_A_red,c_C_red,c_A_ox = Concentrations\n",
    "    \n",
    "    U_rev = (E0_C - E0_A) + R*T*(z*F)**(-1) * np.log(c_C_ox*c_A_red/(c_C_red*c_A_ox))\n",
    "    \n",
    "    return U_rev"
   ]
  },
  {
   "cell_type": "code",
   "execution_count": 50,
   "metadata": {},
   "outputs": [
    {
     "data": {
      "text/plain": [
       "1.1640000000000001"
      ]
     },
     "execution_count": 50,
     "metadata": {},
     "output_type": "execute_result"
    }
   ],
   "source": [
    "\n"
   ]
  },
  {
   "cell_type": "code",
   "execution_count": 6,
   "metadata": {},
   "outputs": [],
   "source": [
    "def activation_overpotential():\n",
    "    '''\n",
    "    the paper said alpha, i_0 and the limiting current density, i_L\n",
    "    were too difficult to obtain so they were left as constants\n",
    "    but they supplement the model with measured values later ? \n",
    "    '''\n",
    "    #U_act = alpha*np.log(i/i0)\n",
    "    \n",
    "    U_act = 0.005 #V from paper Table 1\n",
    "    return U_act"
   ]
  },
  {
   "cell_type": "code",
   "execution_count": 7,
   "metadata": {},
   "outputs": [],
   "source": [
    "def concentration_overpotential():\n",
    "    '''\n",
    "    the paper said alpha, i_0 and the limiting current density, i_L\n",
    "    were too difficult to obtain so they were left as constants\n",
    "    but they supplement the model with measured values later ? \n",
    "    '''\n",
    "    #U_conc = R*T/(z*F)*np.log(i_L/(i_L - i))\n",
    "    \n",
    "    U_conc = 0.02 #V from paper Table 1\n",
    "    return U_conc"
   ]
  },
  {
   "cell_type": "code",
   "execution_count": 8,
   "metadata": {},
   "outputs": [],
   "source": [
    "def ohmic_losses(current):\n",
    "    '''\n",
    "    Takes in current and returns ohmic losses based on resistances in cell\n",
    "    '''\n",
    "    I = current #constant??\n",
    "    \n",
    "    b_membrane = .1 #membrane thickness - this is a guess [units?] \n",
    "    A_active = 580 #cm^2 [from paper] \n",
    "    specific_conductivity_membrane = 1.44 #S/m from paper \n",
    "    \n",
    "    R_membrane = b_membrane/(A_active*specific_conductivity_membrane)\n",
    "    R_contact = 1 # look up\n",
    "    R_electrolyte = .0002 #look up\n",
    "    R_what_else = 0 #think?\n",
    "    R = R_membrane + R_contact + R_electrolyte + R_what_else\n",
    "    U_ohm = I*(R)\n",
    "    \n",
    "    return U_ohm"
   ]
  },
  {
   "cell_type": "code",
   "execution_count": 9,
   "metadata": {},
   "outputs": [],
   "source": [
    "def effective_cell_voltage(voltages):\n",
    "    U_rev, U_act, U_con, U_ohm = voltages\n",
    "    #U_cell = U_rev + U_act + U_con + U_ohm\n",
    "    U_cell = U_rev - U_act - U_con - U_ohm\n",
    "    return U_cell"
   ]
  },
  {
   "cell_type": "code",
   "execution_count": 43,
   "metadata": {},
   "outputs": [],
   "source": [
    "def power_function(U_cell, N, i, active_area):\n",
    "    power = U_cell*N*i*active_area\n",
    "    return power"
   ]
  },
  {
   "cell_type": "markdown",
   "metadata": {},
   "source": [
    "### Example Framework:\n",
    "\n",
    "I guess this only works if you set your current"
   ]
  },
  {
   "cell_type": "code",
   "execution_count": 45,
   "metadata": {},
   "outputs": [
    {
     "name": "stdout",
     "output_type": "stream",
     "text": [
      "Effective cell voltage is 0.12 V!\n",
      "Power is 0.12 mystery units!\n"
     ]
    }
   ],
   "source": [
    "T = 298 #K\n",
    "example_concs = [1,2,3,4]\n",
    "Current = 1 #idk \n",
    "\n",
    "V_rev = Nernst(T,example_concs)\n",
    "V_act = activation_overpotential()\n",
    "V_con = concentration_overpotential()\n",
    "V_ohm = ohmic_losses(Current)\n",
    "\n",
    "Vs = V_rev, V_act, V_con, V_ohm\n",
    "V_cell = effective_cell_voltage(Vs) #calculates the effective cell voltage based on the other voltages.\n",
    "\n",
    "print ('Effective cell voltage is %.2f V!' %(V_cell))\n",
    "\n",
    "active_area = 1\n",
    "ex_current_density = Current/active_area\n",
    "print ('Power is %.2f mystery units!' %(power_function(V_cell,1,ex_current_density,active_area)))"
   ]
  },
  {
   "cell_type": "code",
   "execution_count": 51,
   "metadata": {},
   "outputs": [
    {
     "data": {
      "text/plain": [
       "1.0003197318007662"
      ]
     },
     "execution_count": 51,
     "metadata": {},
     "output_type": "execute_result"
    }
   ],
   "source": [
    "ohmic_losses(1)"
   ]
  },
  {
   "cell_type": "markdown",
   "metadata": {},
   "source": [
    "# We choose power, it calculates current needed\n",
    "\n",
    "Right now only ohmic losses ($U_{ohm}$) is a funtion of current. \n",
    "\n",
    "P = IV, so if we set a power we also get a set current"
   ]
  },
  {
   "cell_type": "code",
   "execution_count": 12,
   "metadata": {},
   "outputs": [],
   "source": [
    "from __future__ import print_function\n",
    "from ipywidgets import interact, interactive, fixed, interact_manual\n",
    "import ipywidgets as widgets"
   ]
  },
  {
   "cell_type": "code",
   "execution_count": 38,
   "metadata": {},
   "outputs": [
    {
     "data": {
      "application/vnd.jupyter.widget-view+json": {
       "model_id": "0749c5eaaa1948219a0959e950d7a8c9",
       "version_major": 2,
       "version_minor": 0
      },
      "text/plain": [
       "interactive(children=(IntSlider(value=0, description='test_current', max=1000, min=-1000, step=100), Output())…"
      ]
     },
     "metadata": {},
     "output_type": "display_data"
    },
    {
     "data": {
      "text/plain": [
       "<function __main__.helppp(test_current)>"
      ]
     },
     "execution_count": 38,
     "metadata": {},
     "output_type": "execute_result"
    }
   ],
   "source": [
    "def helppp(test_current):\n",
    "    T = 293 #K\n",
    "    example_concs = [1,2,3,4]\n",
    "    V_rev = Nernst(T,example_concs)\n",
    "    V_act = activation_overpotential()\n",
    "    V_con = concentration_overpotential()\n",
    "    Vs = V_rev, V_act, V_con, ohmic_losses(test_current)\n",
    "    test_P = test_current*effective_cell_voltage(Vs)\n",
    "    return test_P\n",
    "\n",
    "#pass 'interact' the function and then the variable name u will change\n",
    "#=(min,max,step)\n",
    "interact(helppp,test_current=(-1000,1000,100))\n",
    "# interact(helppp,test_current=(-38,-37,.01))"
   ]
  },
  {
   "cell_type": "code",
   "execution_count": 48,
   "metadata": {},
   "outputs": [
    {
     "data": {
      "image/png": "[encoded data removed]",
      "text/plain": [
       "<Figure size 432x288 with 1 Axes>"
      ]
     },
     "metadata": {
      "needs_background": "light"
     },
     "output_type": "display_data"
    }
   ],
   "source": [
    "#VIsualize\n",
    "x = np.linspace(-50,50)\n",
    "c_of_x = helppp(x)\n",
    "\n",
    "plt.plot(x,c_of_x)\n",
    "plt.plot(x,np.ones_like(x)*500)\n",
    "xlabel = 'Current'\n",
    "ylabel = 'Power'"
   ]
  },
  {
   "cell_type": "code",
   "execution_count": 26,
   "metadata": {},
   "outputs": [
    {
     "name": "stdout",
     "output_type": "stream",
     "text": [
      "[0.54597975 0.54615048]\n",
      "yay it matches above!\n"
     ]
    }
   ],
   "source": [
    "Power = 500\n",
    "\n",
    "def objective_function(guess_current, *power):\n",
    "    T = 600 #K\n",
    "    example_concs = [1,2,3,4]\n",
    "    \n",
    "    V_rev = Nernst(T,example_concs)\n",
    "    V_act = activation_overpotential()\n",
    "    V_con = concentration_overpotential()\n",
    "    V_ohm = ohmic_losses(guess_current)\n",
    "\n",
    "    Vs = V_rev, V_act, V_con, V_ohm\n",
    "    V = effective_cell_voltage(Vs)\n",
    "\n",
    "    return power - guess_current*V\n",
    "\n",
    "current_maybe = least_squares(objective_function, [-1000,100],args=([Power]))\n",
    "# print('Calculated current is %.4f'%(current_maybe.x[0]))\n",
    "print(current_maybe.x )\n",
    "print('yay it matches above!')"
   ]
  },
  {
   "cell_type": "markdown",
   "metadata": {},
   "source": [
    "depending on what we want, we could also have a function that minimizes (maximizes? idk is it supposed to be negative?/ confused)ohmic losses based on the possible currents that would work for our desired power. "
   ]
  },
  {
   "cell_type": "code",
   "execution_count": 47,
   "metadata": {},
   "outputs": [
    {
     "name": "stdout",
     "output_type": "stream",
     "text": [
      "minimum ohmic loss for your power setting of 500 watts (units?) is 0.5 volts(?) at a current of 0.55 amps(units?)\n"
     ]
    }
   ],
   "source": [
    "def minimize_ohmic_losses(possible_currents):\n",
    "    '''\n",
    "    pass me the least_squares solution array from the \n",
    "    get_current_from_power function and I will tell you\n",
    "    which one gives minimum ohmic losses\n",
    "    '''\n",
    "    losses = ohmic_losses(possible_currents)\n",
    "    min_ohmic_loss = np.min(losses)\n",
    "    index = np.argmin(losses)\n",
    "    corresponding_current = possible_currents[index]\n",
    "    return min_ohmic_loss, corresponding_current\n",
    "\n",
    "answer = minimize_ohmic_losses(current_maybe.x)\n",
    "print('minimum ohmic loss for your power setting of %d watts (units?) is %.1f volts(?) at a current of %.2f amps(units?)'%(Power, *answer))"
   ]
  },
  {
   "cell_type": "markdown",
   "metadata": {},
   "source": [
    "## Simplifying for now "
   ]
  },
  {
   "cell_type": "code",
   "execution_count": 71,
   "metadata": {},
   "outputs": [
    {
     "data": {
      "text/plain": [
       "66371.01417240556"
      ]
     },
     "execution_count": 71,
     "metadata": {},
     "output_type": "execute_result"
    }
   ],
   "source": [
    "E0_C = 0.401 #V vs SHE\n",
    "E0_A = -.763 #V vs SHE\n",
    "V_cell = E0_C - E0_A\n",
    "# C_O2 = .21/22.4/1000 #mol O2 per cm^3\n",
    "C_O2_paper = .008452 #mol/dm^3\n",
    "C_O2 = C_O2_paper/1000 #mol/cm^3\n",
    "\n",
    "#The relationship between k_f (cm/s) and Voltage (V) from kinetics proj.\n",
    "k_f = 6e-5 * np.exp(4.7921*V_cell) #cm/s\n",
    "\n",
    "i_k_amps = F*k_f*C_O2 # [C/mol * cm/s * mol/cm^3 = C/s-cm^2] = amps/cm^2\n",
    "i_k_mA = i_k_amps*1000\n",
    "i_k = i_k_mA\n",
    "\n",
    "P = 1000 #kW\n",
    "A_required = P*(F*k_f*C_O2*V_cell)**(-1) #cm^2\n",
    "A_required"
   ]
  }
 ],
 "metadata": {
  "kernelspec": {
   "display_name": "Python 3",
   "language": "python",
   "name": "python3"
  },
  "language_info": {
   "codemirror_mode": {
    "name": "ipython",
    "version": 3
   },
   "file_extension": ".py",
   "mimetype": "text/x-python",
   "name": "python",
   "nbconvert_exporter": "python",
   "pygments_lexer": "ipython3",
   "version": "3.7.3"
  }
 },
 "nbformat": 4,
 "nbformat_minor": 2
}
