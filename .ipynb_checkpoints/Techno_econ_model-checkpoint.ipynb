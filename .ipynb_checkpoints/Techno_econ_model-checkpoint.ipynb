{
 "cells": [
  {
   "cell_type": "markdown",
   "metadata": {},
   "source": [
    "# Preliminary Techno-Economic Model\n",
    "Based on Noack et al. (energies paper)"
   ]
  },
  {
   "cell_type": "code",
   "execution_count": 21,
   "metadata": {},
   "outputs": [],
   "source": [
    "import numpy as np\n",
    "%matplotlib inline\n",
    "from matplotlib import pyplot as plt\n",
    "from scipy.optimize import minimize"
   ]
  },
  {
   "cell_type": "code",
   "execution_count": 3,
   "metadata": {},
   "outputs": [],
   "source": [
    "def battery_cost(power_C, energy_C, area_C, facilities_C):\n",
    "    cost = power_C + energy_C + area_C + facilities_C\n",
    "    return cost"
   ]
  },
  {
   "cell_type": "markdown",
   "metadata": {},
   "source": [
    "Constants:"
   ]
  },
  {
   "cell_type": "code",
   "execution_count": 4,
   "metadata": {},
   "outputs": [],
   "source": [
    "R = 8.3144626 #J/mol-K\n",
    "F = 96485.33212 #C/mol"
   ]
  },
  {
   "cell_type": "code",
   "execution_count": 5,
   "metadata": {},
   "outputs": [],
   "source": [
    "things_to_look_up_or_think_about = {}"
   ]
  },
  {
   "cell_type": "code",
   "execution_count": 33,
   "metadata": {},
   "outputs": [],
   "source": [
    "def Nernst(temp,Concentrations):\n",
    "    '''\n",
    "    Takes molar concentrations of the oxidant and reductant at the cathode and anode  \n",
    "    Returns the standard open circuit voltage of a STACK? \n",
    "    '''\n",
    "    E0_C = -79 #CONSTANT - look up !! (sof's table?)\n",
    "    E0_A = 10 #CONSTANT - look up !! (sof's table?)\n",
    "    R = 8.3144626 #J/mol-K\n",
    "    F = 96485.33212 #C/mol\n",
    "    T = temp\n",
    "    z = 2 #electrons?? lol\n",
    "    c_C_ox,c_A_red,c_C_red,c_A_ox = Concentrations\n",
    "    \n",
    "    U_rev = (E0_C - E0_A) + R*T*(z*F)**(-1) * np.log(c_C_ox*c_A_red/(c_C_red*c_A_ox))\n",
    "    \n",
    "    return U_rev"
   ]
  },
  {
   "cell_type": "code",
   "execution_count": 7,
   "metadata": {},
   "outputs": [],
   "source": [
    "def activation_overpotential():\n",
    "    '''\n",
    "    the paper said alpha, i_0 and the limiting current density, i_L\n",
    "    were too difficult to obtain so they were left as constants\n",
    "    but they supplement the model with measured values later ? \n",
    "    '''\n",
    "    #U_act = alpha*np.log(i/i0)\n",
    "    \n",
    "    U_act = 0.005 #V from paper Table 1\n",
    "    return U_act"
   ]
  },
  {
   "cell_type": "code",
   "execution_count": 8,
   "metadata": {},
   "outputs": [],
   "source": [
    "def concentration_overpotential():\n",
    "    '''\n",
    "    the paper said alpha, i_0 and the limiting current density, i_L\n",
    "    were too difficult to obtain so they were left as constants\n",
    "    but they supplement the model with measured values later ? \n",
    "    '''\n",
    "    #U_conc = R*T/(z*F)*np.log(i_L/(i_L - i))\n",
    "    \n",
    "    U_conc = 0.02 #V from paper Table 1\n",
    "    return U_conc"
   ]
  },
  {
   "cell_type": "code",
   "execution_count": 9,
   "metadata": {},
   "outputs": [],
   "source": [
    "def ohmic_losses(current):\n",
    "    '''\n",
    "    Takes in current and returns ohmic losses based on resistances in cell\n",
    "    '''\n",
    "    I = current #constant??\n",
    "    \n",
    "    b_membrane = .1 #membrane thickness - this is a guess [units?] \n",
    "    A_active = 580 #cm^2 [from paper] \n",
    "    specific_conductivity_membrane = 1.44 #S/m from paper \n",
    "    \n",
    "    R_membrane = b_membrane/(A_active*specific_conductivity_membrane)\n",
    "    R_contact = 1 # look up\n",
    "    R_electrolyte = 1 #look up\n",
    "    R_what_else = 0 #think?\n",
    "    R = R_membrane + R_contact + R_electrolyte + R_what_else\n",
    "    U_ohm = I*(R)\n",
    "    \n",
    "    return U_ohm"
   ]
  },
  {
   "cell_type": "code",
   "execution_count": 10,
   "metadata": {},
   "outputs": [],
   "source": [
    "def effective_cell_voltage(voltages):\n",
    "    U_rev, U_act, U_con, U_ohm = voltages\n",
    "    #U_cell = U_rev + U_act + U_con + U_ohm\n",
    "    U_cell = U_rev - U_act - U_con - U_ohm\n",
    "    return U_cell"
   ]
  },
  {
   "cell_type": "code",
   "execution_count": 16,
   "metadata": {},
   "outputs": [],
   "source": [
    "def power_function(U_cell, N, i, active_area):\n",
    "    power = U_cell*N*i*active_area\n",
    "    return power"
   ]
  },
  {
   "cell_type": "markdown",
   "metadata": {},
   "source": [
    "### Example Framework:\n",
    "\n",
    "I guess this only works if you set your current"
   ]
  },
  {
   "cell_type": "code",
   "execution_count": 18,
   "metadata": {},
   "outputs": [
    {
     "name": "stdout",
     "output_type": "stream",
     "text": [
      "Effective cell voltage is -200.08 mystery units!\n",
      "Power is -20008.33 mystery units!\n"
     ]
    }
   ],
   "source": [
    "T = 600 #K\n",
    "example_concs = [1,2,3,4]\n",
    "Current = 100 #idk \n",
    "\n",
    "V_rev = Nernst(T,example_concs)\n",
    "V_act = activation_overpotential()\n",
    "V_con = concentration_overpotential()\n",
    "V_ohm = ohmic_losses(Current)\n",
    "\n",
    "Vs = V_rev, V_act, V_con, V_ohm\n",
    "V_cell = effective_cell_voltage(Vs) #calculates the effective cell voltage based on the other voltages.\n",
    "\n",
    "print ('Effective cell voltage is %.2f mystery units!' %(V_cell))\n",
    "\n",
    "active_area = 100\n",
    "ex_current_density = Current/active_area\n",
    "print ('Power is %.2f mystery units!' %(power_function(V_cell,1,ex_current_density,active_area)))"
   ]
  },
  {
   "cell_type": "markdown",
   "metadata": {},
   "source": [
    "Right now only ohmic losses ($U_{ohm}$) is a funtion of current. \n",
    "\n",
    "P = IV, so if we set a power we also get a set current"
   ]
  },
  {
   "cell_type": "code",
   "execution_count": 53,
   "metadata": {},
   "outputs": [
    {
     "name": "stdout",
     "output_type": "stream",
     "text": [
      "Calculated current is 361493070.4100\n",
      "361493070.40999997\n",
      "V_cell is 723029512.1076052\n",
      "Power obtained from calculated current is 261370172789412704.00\n"
     ]
    },
    {
     "data": {
      "text/plain": [
       "(723029512.1076052, 361493090.40999997)"
      ]
     },
     "execution_count": 53,
     "metadata": {},
     "output_type": "execute_result"
    }
   ],
   "source": [
    "Power = 500 \n",
    "\n",
    "def objective_function(guess_current, power):\n",
    "    T = 600 #K\n",
    "    example_concs = [1,2,3,4]\n",
    "    \n",
    "    V_rev = Nernst(T,example_concs)\n",
    "    V_act = activation_overpotential()\n",
    "    V_con = concentration_overpotential()\n",
    "    V_ohm = ohmic_losses(guess_current)\n",
    "\n",
    "    Vs = V_rev, V_act, V_con, V_ohm\n",
    "    V = abs(effective_cell_voltage(Vs))\n",
    "\n",
    "    return power - guess_current*V\n",
    "\n",
    "current_maybe = minimize(objective_function, -10,args=(Power))\n",
    "print('Calculated current is %.4f'%(current_maybe.x[0]))\n",
    "\n",
    "\n",
    "T = 600 #K\n",
    "example_concs = [1,2,3,4]\n",
    "calc_current = current_maybe.x[0]\n",
    "print(calc_current)\n",
    "V_rev = Nernst(T,example_concs)\n",
    "V_act = activation_overpotential()\n",
    "V_con = concentration_overpotential()\n",
    "V_ohm = ohmic_losses(calc_current)\n",
    "\n",
    "Vs = V_rev, V_act, V_con, V_ohm\n",
    "V_cell = abs(effective_cell_voltage(Vs))\n",
    "print('V_cell is', V_cell)\n",
    "check_power = Current*V_cell\n",
    "print('Power obtained from calculated current is %.2f'%(check_power))\n",
    "V_cell, Current"
   ]
  },
  {
   "cell_type": "code",
   "execution_count": 45,
   "metadata": {},
   "outputs": [],
   "source": [
    "from __future__ import print_function\n",
    "from ipywidgets import interact, interactive, fixed, interact_manual\n",
    "import ipywidgets as widgets"
   ]
  },
  {
   "cell_type": "code",
   "execution_count": 65,
   "metadata": {},
   "outputs": [
    {
     "data": {
      "application/vnd.jupyter.widget-view+json": {
       "model_id": "fb59cd4b46514692a19b550ebabeff0c",
       "version_major": 2,
       "version_minor": 0
      },
      "text/plain": [
       "interactive(children=(FloatSlider(value=-7.0, description='test_current', max=-6.0, min=-8.0), Output()), _dom…"
      ]
     },
     "metadata": {},
     "output_type": "display_data"
    },
    {
     "data": {
      "application/vnd.jupyter.widget-view+json": {
       "model_id": "f12ddcfc03a24261ac5259b767ca7793",
       "version_major": 2,
       "version_minor": 0
      },
      "text/plain": [
       "interactive(children=(FloatSlider(value=-38.0, description='test_current', max=-37.0, min=-38.0, step=0.01), O…"
      ]
     },
     "metadata": {},
     "output_type": "display_data"
    },
    {
     "data": {
      "text/plain": [
       "<function __main__.helppp(test_current)>"
      ]
     },
     "execution_count": 65,
     "metadata": {},
     "output_type": "execute_result"
    }
   ],
   "source": [
    "def helppp(test_current):\n",
    "    T = 600 #K\n",
    "    example_concs = [1,2,3,4]\n",
    "    V_rev = Nernst(T,example_concs)\n",
    "    V_act = activation_overpotential()\n",
    "    V_con = concentration_overpotential()\n",
    "    Vs = V_rev, V_act, V_con, ohmic_losses(test_current)\n",
    "    test_P = test_current*effective_cell_voltage(Vs)\n",
    "    return test_P\n",
    "\n",
    "#pass 'interact' the function and then the variable name u will change\n",
    "#=(min,max,step)\n",
    "interact(helppp,test_current=(-8,-6,.1))\n",
    "interact(helppp,test_current=(-38,-37,.01))"
   ]
  },
  {
   "cell_type": "code",
   "execution_count": 69,
   "metadata": {},
   "outputs": [
    {
     "data": {
      "image/png": "[encoded data removed]",
      "text/plain": [
       "<Figure size 432x288 with 1 Axes>"
      ]
     },
     "metadata": {
      "needs_background": "light"
     },
     "output_type": "display_data"
    }
   ],
   "source": [
    "#VIsualize\n",
    "x = np.linspace(-50,0)\n",
    "c_of_x = helppp(x)\n",
    "\n",
    "plt.plot(x,c_of_x)\n",
    "plt.plot(x,np.ones_like(x)*500)\n",
    "xlabel = 'Current'\n",
    "ylabel = 'Power'"
   ]
  }
 ],
 "metadata": {
  "kernelspec": {
   "display_name": "Python 3",
   "language": "python",
   "name": "python3"
  },
  "language_info": {
   "codemirror_mode": {
    "name": "ipython",
    "version": 3
   },
   "file_extension": ".py",
   "mimetype": "text/x-python",
   "name": "python",
   "nbconvert_exporter": "python",
   "pygments_lexer": "ipython3",
   "version": "3.7.3"
  }
 },
 "nbformat": 4,
 "nbformat_minor": 2
}
