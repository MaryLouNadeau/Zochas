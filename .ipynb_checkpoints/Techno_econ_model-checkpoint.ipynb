{
 "cells": [
  {
   "cell_type": "markdown",
   "metadata": {},
   "source": [
    "# Preliminary Techno-Economic Model\n",
    "Based on Noack et al. (energies paper)"
   ]
  },
  {
   "cell_type": "code",
   "execution_count": 1,
   "metadata": {},
   "outputs": [],
   "source": [
    "import numpy as np\n",
    "%matplotlib inline\n",
    "from matplotlib import pyplot as plt"
   ]
  },
  {
   "cell_type": "code",
   "execution_count": 2,
   "metadata": {},
   "outputs": [],
   "source": [
    "def battery_cost(power_C, energy_C, area_C, facilities_C):\n",
    "    cost = power_C + energy_C + area_C + facilities_C\n",
    "    return cost"
   ]
  },
  {
   "cell_type": "markdown",
   "metadata": {},
   "source": [
    "Constants:"
   ]
  },
  {
   "cell_type": "code",
   "execution_count": 3,
   "metadata": {},
   "outputs": [],
   "source": [
    "R = 8.3144626 #J/mol-K\n",
    "F = 96485.33212 #C/mol"
   ]
  },
  {
   "cell_type": "code",
   "execution_count": null,
   "metadata": {},
   "outputs": [],
   "source": [
    "things_to_look_up_or_think_about = {}"
   ]
  },
  {
   "cell_type": "code",
   "execution_count": 7,
   "metadata": {},
   "outputs": [],
   "source": [
    "def Nernst(temp,Concentrations):\n",
    "    '''\n",
    "    Takes molar concentrations of the oxidant and reductant at the cathode and anode  \n",
    "    Returns the standard open circuit voltage of a STACK? \n",
    "    '''\n",
    "    E0_C = 1 #CONSTANT - look up !! (sof's table?)\n",
    "    E0_A = 1 #CONSTANT - look up !! (sof's table?)\n",
    "    R = 8.3144626 #J/mol-K\n",
    "    F = 96485.33212 #C/mol\n",
    "    T = temp \n",
    "    z = 2 #electrons?? lol\n",
    "    c_C_ox,c_A_red,c_C_red,c_A_ox = Concentrations\n",
    "    \n",
    "    U_rev = (E0_C - E0_A) + R*T*(z*F)**(-1) * np.log(c_C_ox*c_A_red/(c_C_red*c_A_ox))\n",
    "    \n",
    "    return U_rev"
   ]
  },
  {
   "cell_type": "code",
   "execution_count": 8,
   "metadata": {},
   "outputs": [],
   "source": [
    "def activation_overpotential():\n",
    "    '''\n",
    "    the paper said alpha, i_0 and the limiting current density, i_L\n",
    "    were too difficult to obtain so they were left as constants\n",
    "    but they supplement the model with measured values later ? \n",
    "    '''\n",
    "    #U_act = alpha*np.log(i/i0)\n",
    "    \n",
    "    U_act = 0.005 #V from paper Table 1\n",
    "    return U_act"
   ]
  },
  {
   "cell_type": "code",
   "execution_count": 10,
   "metadata": {},
   "outputs": [],
   "source": [
    "def concentration_overpotential():\n",
    "    '''\n",
    "    the paper said alpha, i_0 and the limiting current density, i_L\n",
    "    were too difficult to obtain so they were left as constants\n",
    "    but they supplement the model with measured values later ? \n",
    "    '''\n",
    "    #U_conc = R*T/(z*F)*np.log(i_L/(i_L - i))\n",
    "    \n",
    "    U_conc = 0.02 #V from paper Table 1\n",
    "    return U_conc"
   ]
  },
  {
   "cell_type": "code",
   "execution_count": 11,
   "metadata": {},
   "outputs": [],
   "source": [
    "def ohmic_losses(current):\n",
    "    '''\n",
    "    Takes in current and returns ohmic losses based on resistances in cell\n",
    "    '''\n",
    "    I = current #constant??\n",
    "    \n",
    "    b_membrane = .1 #membrane thickness - this is a guess [units?] \n",
    "    A_active = 580 #cm^2 [from paper] \n",
    "    specific_conductivity_membrane = 1.44 #S/m from paper \n",
    "    \n",
    "    R_membrane = b_membrane/(A_active*specific_conductivity_membrane)\n",
    "    R_contact = 1 # look up\n",
    "    R_electrolyte = 1 #look up\n",
    "    R_what_else = 0 #think?\n",
    "    R = R_membrane + R_contact + R_electrolyte + R_what_else\n",
    "    U_ohm = I*(R)\n",
    "    return U_ohm"
   ]
  },
  {
   "cell_type": "code",
   "execution_count": 12,
   "metadata": {},
   "outputs": [],
   "source": [
    "def effective_cell_voltage(voltages):\n",
    "    U_rev, U_act, U_con, U_ohm = voltages\n",
    "    U_cell = U_rev + U_act + U_con + U_ohm \n",
    "    return U_cell"
   ]
  },
  {
   "cell_type": "code",
   "execution_count": null,
   "metadata": {},
   "outputs": [],
   "source": []
  }
 ],
 "metadata": {
  "kernelspec": {
   "display_name": "Python 3",
   "language": "python",
   "name": "python3"
  },
  "language_info": {
   "codemirror_mode": {
    "name": "ipython",
    "version": 3
   },
   "file_extension": ".py",
   "mimetype": "text/x-python",
   "name": "python",
   "nbconvert_exporter": "python",
   "pygments_lexer": "ipython3",
   "version": "3.7.3"
  }
 },
 "nbformat": 4,
 "nbformat_minor": 2
}
