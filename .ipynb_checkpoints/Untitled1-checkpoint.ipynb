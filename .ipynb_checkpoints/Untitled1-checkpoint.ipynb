{
 "cells": [
  {
   "cell_type": "code",
   "execution_count": 1,
   "metadata": {},
   "outputs": [],
   "source": [
    "import numpy as np\n",
    "%matplotlib inline\n",
    "from matplotlib import pyplot as plt\n",
    "from scipy.optimize import minimize\n",
    "from scipy.optimize import curve_fit\n",
    "import pandas as pd\n",
    "\n",
    "data_100 = './RDE_data/02262020_MnO2_RDE_50mVs_100rpm_ExtendedBounds_IncreasedFlow_C04.mpt'\n",
    "data_400 = './RDE_data/02262020_MnO2_RDE_50mVs_400rpm_ExtendedBounds_IncreasedFlow_C04.mpt'\n",
    "data_900 = './RDE_data/02262020_MnO2_RDE_50mVs_900rpm_ExtendedBounds_IncreasedFlow_C04.mpt'\n",
    "data_1600 = './RDE_data/02262020_MnO2_RDE_50mVs_1600rpm_ExtendedBounds_IncreasedFlow_C04.mpt'\n",
    "data_2500 = './RDE_data/02262020_MnO2_RDE_50mVs_2500rpm_ExtendedBounds_IncreasedFlow_C04.mpt'\n",
    "\n",
    "rpm100 = pd.read_csv(data_100,sep='\\t',header=(52),usecols=range(12)) \n",
    "rpm400 = pd.read_csv(data_400,sep='\\t',header=(52),usecols=range(12)) \n",
    "rpm900 = pd.read_csv(data_900,sep='\\t',header=(52),usecols=range(12)) \n",
    "rpm1600 = pd.read_csv(data_1600,sep='\\t',header=(52),usecols=range(12)) \n",
    "rpm2500 = pd.read_csv(data_2500,sep='\\t',header=(52),usecols=range(12)) "
   ]
  },
  {
   "cell_type": "code",
   "execution_count": 3,
   "metadata": {},
   "outputs": [
    {
     "name": "stdout",
     "output_type": "stream",
     "text": [
      "6388 6391 6391 6392\n",
      "cycles are different lengths- be aware when trying to compare\n"
     ]
    }
   ],
   "source": [
    "P_100 = np.array(rpm100['P/W'])\n",
    "Ewe_100 = np.array(rpm100['Ewe/V'])\n",
    "I_100 = np.array(rpm100['<I>/mA'])\n",
    "cycles_100 = rpm100['cycle number']\n",
    "\n",
    "E_cycle1 = []\n",
    "E_cycle2 = []\n",
    "E_cycle3 = []\n",
    "E_cycle4 = []\n",
    "\n",
    "i_cycle1 = []\n",
    "i_cycle2 = []\n",
    "i_cycle3 = []\n",
    "i_cycle4 = []\n",
    "\n",
    "for m in range(len(cycles_100)):\n",
    "    if cycles_100[m] == 1:\n",
    "        E_cycle1.append(Ewe_100[m])\n",
    "        i_cycle1.append(I_100[m])\n",
    "    elif cycles_100[m] == 2:\n",
    "        E_cycle2.append(Ewe_100[m])\n",
    "        i_cycle2.append(I_100[m])\n",
    "    elif cycles_100[m] == 3:\n",
    "        E_cycle3.append(Ewe_100[m])\n",
    "        i_cycle3.append(I_100[m])\n",
    "    elif cycles_100[m] == 4:\n",
    "        E_cycle4.append(Ewe_100[m])\n",
    "        i_cycle4.append(I_100[m])\n",
    "\n",
    "print(len(E_cycle1), len(E_cycle2), len(E_cycle3), len(E_cycle4))\n",
    "print('cycles are different lengths- be aware when trying to compare')"
   ]
  },
  {
   "cell_type": "code",
   "execution_count": 4,
   "metadata": {},
   "outputs": [
    {
     "data": {
      "text/plain": [
       "[<matplotlib.lines.Line2D at 0x21677f86470>]"
      ]
     },
     "execution_count": 4,
     "metadata": {},
     "output_type": "execute_result"
    },
    {
     "data": {
      "image/png": "[encoded data removed]",
      "text/plain": [
       "<Figure size 432x288 with 1 Axes>"
      ]
     },
     "metadata": {
      "needs_background": "light"
     },
     "output_type": "display_data"
    }
   ],
   "source": [
    "plt.plot(i_cycle3,E_cycle3)"
   ]
  }
 ],
 "metadata": {
  "kernelspec": {
   "display_name": "Python 3",
   "language": "python",
   "name": "python3"
  },
  "language_info": {
   "codemirror_mode": {
    "name": "ipython",
    "version": 3
   },
   "file_extension": ".py",
   "mimetype": "text/x-python",
   "name": "python",
   "nbconvert_exporter": "python",
   "pygments_lexer": "ipython3",
   "version": "3.7.3"
  }
 },
 "nbformat": 4,
 "nbformat_minor": 2
}
