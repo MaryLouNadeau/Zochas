{
 "cells": [
  {
   "cell_type": "code",
   "execution_count": 1,
   "metadata": {},
   "outputs": [],
   "source": [
    "import numpy as np\n",
    "%matplotlib inline\n",
    "from matplotlib import pyplot as plt\n",
    "from scipy.optimize import minimize\n",
    "from scipy.optimize import least_squares, fsolve"
   ]
  },
  {
   "cell_type": "code",
   "execution_count": 2,
   "metadata": {},
   "outputs": [],
   "source": [
    "R = 8.3144626 #J/mol-K\n",
    "F = 96485.33212 #C/mol"
   ]
  },
  {
   "cell_type": "markdown",
   "metadata": {},
   "source": [
    "# Air electrode = cathode\n",
    "O2 + 2H20 +4e- = 2OH-\n",
    "# Zn electrode = anode\n",
    "Zn + 4OH- = Zn(OH)4^2- +2e-"
   ]
  },
  {
   "cell_type": "markdown",
   "metadata": {},
   "source": [
    "### Butler Volmer equations to describe kinetics\n",
    "    i_0 = exchange current density - the value of the current density at equilibrium\n",
    "    alpha_a = anodic charge transfer coefficient\n",
    "    alpha_c = cathodic charge transfer coefficient\n",
    "    alpha_a + alpha_c = number of electrons transferred in reaction\n",
    "    eta = surface overpotential = potential - equilibrium potential"
   ]
  },
  {
   "cell_type": "code",
   "execution_count": 3,
   "metadata": {},
   "outputs": [],
   "source": [
    "# General Butler-Volmer equation\n",
    "def bv_eq(i_0, alpha_a, alpha_c, eta):\n",
    "    R = 8.3144626\n",
    "    T = 273 #K\n",
    "    i = i_0*(np.exp((alpha_a*F*eta)/(R*T)) - np.exp((-alpha_c*F*eta)/(R*T)))\n",
    "    return i"
   ]
  },
  {
   "cell_type": "code",
   "execution_count": 24,
   "metadata": {},
   "outputs": [
    {
     "ename": "ValueError",
     "evalue": "object too deep for desired array",
     "output_type": "error",
     "traceback": [
      "\u001b[0;31m---------------------------------------------------------------------------\u001b[0m",
      "\u001b[0;31mValueError\u001b[0m                                Traceback (most recent call last)",
      "\u001b[0;31mValueError\u001b[0m: object too deep for desired array"
     ]
    },
    {
     "ename": "error",
     "evalue": "Result from function call is not a proper array of floats.",
     "output_type": "error",
     "traceback": [
      "\u001b[0;31m---------------------------------------------------------------------------\u001b[0m",
      "\u001b[0;31merror\u001b[0m                                     Traceback (most recent call last)",
      "\u001b[0;32m<ipython-input-24-7e543c9a6b4d>\u001b[0m in \u001b[0;36m<module>\u001b[0;34m\u001b[0m\n\u001b[1;32m     53\u001b[0m \u001b[0;31m#guess = [eta_air_0, eta_zn_0]\u001b[0m\u001b[0;34m\u001b[0m\u001b[0;34m\u001b[0m\u001b[0;34m\u001b[0m\u001b[0m\n\u001b[1;32m     54\u001b[0m \u001b[0mguess\u001b[0m \u001b[0;34m=\u001b[0m \u001b[0;36m1\u001b[0m\u001b[0;34m\u001b[0m\u001b[0;34m\u001b[0m\u001b[0m\n\u001b[0;32m---> 55\u001b[0;31m \u001b[0msol\u001b[0m \u001b[0;34m=\u001b[0m \u001b[0mfsolve\u001b[0m\u001b[0;34m(\u001b[0m\u001b[0mcurrent\u001b[0m\u001b[0;34m,\u001b[0m \u001b[0mguess\u001b[0m\u001b[0;34m,\u001b[0m \u001b[0margs\u001b[0m\u001b[0;34m=\u001b[0m\u001b[0mdata\u001b[0m\u001b[0;34m)\u001b[0m\u001b[0;34m\u001b[0m\u001b[0;34m\u001b[0m\u001b[0m\n\u001b[0m\u001b[1;32m     56\u001b[0m \u001b[0mprint\u001b[0m\u001b[0;34m(\u001b[0m\u001b[0msol\u001b[0m\u001b[0;34m)\u001b[0m\u001b[0;34m\u001b[0m\u001b[0;34m\u001b[0m\u001b[0m\n\u001b[1;32m     57\u001b[0m \u001b[0;31m# Area\u001b[0m\u001b[0;34m\u001b[0m\u001b[0;34m\u001b[0m\u001b[0;34m\u001b[0m\u001b[0m\n",
      "\u001b[0;32m~/opt/anaconda3/lib/python3.7/site-packages/scipy/optimize/minpack.py\u001b[0m in \u001b[0;36mfsolve\u001b[0;34m(func, x0, args, fprime, full_output, col_deriv, xtol, maxfev, band, epsfcn, factor, diag)\u001b[0m\n\u001b[1;32m    145\u001b[0m                'diag': diag}\n\u001b[1;32m    146\u001b[0m \u001b[0;34m\u001b[0m\u001b[0m\n\u001b[0;32m--> 147\u001b[0;31m     \u001b[0mres\u001b[0m \u001b[0;34m=\u001b[0m \u001b[0m_root_hybr\u001b[0m\u001b[0;34m(\u001b[0m\u001b[0mfunc\u001b[0m\u001b[0;34m,\u001b[0m \u001b[0mx0\u001b[0m\u001b[0;34m,\u001b[0m \u001b[0margs\u001b[0m\u001b[0;34m,\u001b[0m \u001b[0mjac\u001b[0m\u001b[0;34m=\u001b[0m\u001b[0mfprime\u001b[0m\u001b[0;34m,\u001b[0m \u001b[0;34m**\u001b[0m\u001b[0moptions\u001b[0m\u001b[0;34m)\u001b[0m\u001b[0;34m\u001b[0m\u001b[0;34m\u001b[0m\u001b[0m\n\u001b[0m\u001b[1;32m    148\u001b[0m     \u001b[0;32mif\u001b[0m \u001b[0mfull_output\u001b[0m\u001b[0;34m:\u001b[0m\u001b[0;34m\u001b[0m\u001b[0;34m\u001b[0m\u001b[0m\n\u001b[1;32m    149\u001b[0m         \u001b[0mx\u001b[0m \u001b[0;34m=\u001b[0m \u001b[0mres\u001b[0m\u001b[0;34m[\u001b[0m\u001b[0;34m'x'\u001b[0m\u001b[0;34m]\u001b[0m\u001b[0;34m\u001b[0m\u001b[0;34m\u001b[0m\u001b[0m\n",
      "\u001b[0;32m~/opt/anaconda3/lib/python3.7/site-packages/scipy/optimize/minpack.py\u001b[0m in \u001b[0;36m_root_hybr\u001b[0;34m(func, x0, args, jac, col_deriv, xtol, maxfev, band, eps, factor, diag, **unknown_options)\u001b[0m\n\u001b[1;32m    223\u001b[0m             \u001b[0mmaxfev\u001b[0m \u001b[0;34m=\u001b[0m \u001b[0;36m200\u001b[0m \u001b[0;34m*\u001b[0m \u001b[0;34m(\u001b[0m\u001b[0mn\u001b[0m \u001b[0;34m+\u001b[0m \u001b[0;36m1\u001b[0m\u001b[0;34m)\u001b[0m\u001b[0;34m\u001b[0m\u001b[0;34m\u001b[0m\u001b[0m\n\u001b[1;32m    224\u001b[0m         retval = _minpack._hybrd(func, x0, args, 1, xtol, maxfev,\n\u001b[0;32m--> 225\u001b[0;31m                                  ml, mu, epsfcn, factor, diag)\n\u001b[0m\u001b[1;32m    226\u001b[0m     \u001b[0;32melse\u001b[0m\u001b[0;34m:\u001b[0m\u001b[0;34m\u001b[0m\u001b[0;34m\u001b[0m\u001b[0m\n\u001b[1;32m    227\u001b[0m         \u001b[0m_check_func\u001b[0m\u001b[0;34m(\u001b[0m\u001b[0;34m'fsolve'\u001b[0m\u001b[0;34m,\u001b[0m \u001b[0;34m'fprime'\u001b[0m\u001b[0;34m,\u001b[0m \u001b[0mDfun\u001b[0m\u001b[0;34m,\u001b[0m \u001b[0mx0\u001b[0m\u001b[0;34m,\u001b[0m \u001b[0margs\u001b[0m\u001b[0;34m,\u001b[0m \u001b[0mn\u001b[0m\u001b[0;34m,\u001b[0m \u001b[0;34m(\u001b[0m\u001b[0mn\u001b[0m\u001b[0;34m,\u001b[0m \u001b[0mn\u001b[0m\u001b[0;34m)\u001b[0m\u001b[0;34m)\u001b[0m\u001b[0;34m\u001b[0m\u001b[0;34m\u001b[0m\u001b[0m\n",
      "\u001b[0;31merror\u001b[0m: Result from function call is not a proper array of floats."
     ]
    }
   ],
   "source": [
    "# Implement one version of BV equation for each reaction\n",
    "# Model parameters for oxidation reduction reaction at air electrode\n",
    "i_0_air = 1 #A \n",
    "alpha_a_air = 2 #good approximation 0.5*4 electrons #unitless\n",
    "alpha_c_air = 2 #good approximation 0.5*4 electrons #unitless\n",
    "\n",
    "# Model parameters for zinc to zincate reaction at air electrode\n",
    "i_0_zn = 1 #A \n",
    "alpha_a_zn = 1 #good approximation 0.5*4 electrons #unitless\n",
    "alpha_c_zn = 1 #good approximation 0.5*4 electrons #unitless\n",
    "\n",
    "# Equilibrium Potential\n",
    "U_air = 1.2 #V\n",
    "U_zn = -1 #V\n",
    "U_cell = U_air - U_zn #V doublecheck - also should be pos or neg?\n",
    "\n",
    "\n",
    "# Need to solve this system of equations??\n",
    "# need to initialize etas?\n",
    "# Cell potential\n",
    "#V_cell = U_cell - eta_air - eta_zn\n",
    "\n",
    "# Calculate current\n",
    "# CURRENTS MUST EQUAL EACH OTHER - THAT HOW SYSTEM IS FULLY SPECIFIED\n",
    "\n",
    "#i_air = bv_eq(i_o_air, alpha_a_air, alpha_c_air, eta_air)\n",
    "#i_zn = bv_eq(i_o_zn, alpha_a_zn, alpha_c_zn, eta_zn)\n",
    "#i_air = i_zn\n",
    "\n",
    "def current(X, *data):\n",
    "    eta_air = X #eta_zn = X\n",
    "    eta_zn = .5\n",
    "    i_0_air, alpha_a_air, alpha_c_air, i_0_zn, alpha_a_zn, alpha_c_zn, R, T, U_cell, P = data\n",
    "    i_air = i_0_air*(np.exp((alpha_a_air*F*eta_air)/(R*T)) - np.exp((-alpha_c_air*F*eta_air)/(R*T)))\n",
    "    i_zn = i_0_zn*(np.exp((alpha_a_zn*F*eta_zn)/(R*T)) - np.exp((-alpha_c_zn*F*eta_zn)/(R*T)))\n",
    "    \n",
    "    V_cell = U_cell - eta_air - eta_zn\n",
    "    \n",
    "    #i_air = bv_eq(i_o_air, alpha_a_air, alpha_c_air, eta_air)\n",
    "    #i_zn = bv_eq(i_o_zn, alpha_a_zn, alpha_c_zn, eta_zn)\n",
    "    return [i_air - i_zn, P - i_air*A*V_cell]\n",
    "\n",
    "'''\n",
    "def func2(X, *data):\n",
    "    U_cell = data\n",
    "    return U_cell - V_cell - eta_air - eta_zn\n",
    "'''\n",
    "\n",
    "T = 273 #K\n",
    "P = 500\n",
    "data = (i_o_air, alpha_a_air, alpha_c_air, i_o_zn, alpha_a_zn, alpha_c_zn, R, T, U_cell, P)\n",
    "#eta_air_0, eta_zn_0 = 0, 0\n",
    "#guess = [eta_air_0, eta_zn_0]\n",
    "guess = 1\n",
    "sol = fsolve(current, guess, args=data)\n",
    "print(sol)\n",
    "# Area\n",
    "A = 1 #units? m^2?\n",
    "#I = A*i\n",
    "\n",
    "#Power\n",
    "#P = I*V_cell\n"
   ]
  },
  {
   "cell_type": "code",
   "execution_count": 10,
   "metadata": {},
   "outputs": [],
   "source": [
    "fsolve?"
   ]
  }
 ],
 "metadata": {
  "kernelspec": {
   "display_name": "Python 3",
   "language": "python",
   "name": "python3"
  },
  "language_info": {
   "codemirror_mode": {
    "name": "ipython",
    "version": 3
   },
   "file_extension": ".py",
   "mimetype": "text/x-python",
   "name": "python",
   "nbconvert_exporter": "python",
   "pygments_lexer": "ipython3",
   "version": "3.7.3"
  }
 },
 "nbformat": 4,
 "nbformat_minor": 2
}
