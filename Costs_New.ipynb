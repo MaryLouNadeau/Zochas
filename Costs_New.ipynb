{
 "cells": [
  {
   "cell_type": "code",
   "execution_count": null,
   "metadata": {},
   "outputs": [],
   "source": [
    "# Cost of electrochemical cell\n",
    "# ignore electronics, piping, valves - just want basic material cap cost?\n",
    "# each cell has 2 endplates, 2 current collectors, gde, zinc\n",
    "# find cost per cell - do zinc separately\n",
    "cell_area = 1 #m2\n",
    "cell_cost = cell_area * (2*cost_endplate + 2*cost_curr_coll + cost_GDE)\n",
    "\n",
    "# cost of manifold? - depeds on number of cells\n",
    "def manifold(num_cells)\n",
    "    pass\n",
    "\n",
    "cost_manifold = manifold(num_cells)\n",
    "\n",
    "# cost of stack\n",
    "stack_cost = cost_manifold + num_cells*cell_cost\n",
    "\n",
    "# cost of air blower\n",
    "# C = a + bS^n\n",
    "blower_a = \n",
    "blower_cost = blower_a + blower_b*blower_s**blower_n"
   ]
  }
 ],
 "metadata": {
  "kernelspec": {
   "display_name": "Python 3",
   "language": "python",
   "name": "python3"
  },
  "language_info": {
   "codemirror_mode": {
    "name": "ipython",
    "version": 3
   },
   "file_extension": ".py",
   "mimetype": "text/x-python",
   "name": "python",
   "nbconvert_exporter": "python",
   "pygments_lexer": "ipython3",
   "version": "3.7.4"
  }
 },
 "nbformat": 4,
 "nbformat_minor": 2
}
