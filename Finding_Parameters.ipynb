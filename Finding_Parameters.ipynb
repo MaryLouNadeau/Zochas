{
 "cells": [
  {
   "cell_type": "code",
   "execution_count": 148,
   "metadata": {},
   "outputs": [],
   "source": [
    "import numpy as np\n",
    "%matplotlib inline\n",
    "from matplotlib import pyplot as plt\n",
    "from scipy.optimize import minimize\n",
    "from scipy.optimize import curve_fit\n",
    "import pandas as pd"
   ]
  },
  {
   "cell_type": "code",
   "execution_count": 62,
   "metadata": {},
   "outputs": [],
   "source": [
    "rpm100 = pd.read_csv('20191120_Kinetics_CV_100rpm_C02.txt',sep='\\t',header=(0),usecols=range(12)) \n",
    "rpm400 = pd.read_csv('20191120_Kinetics_CV_400rpm_C02.txt',sep='\\t',header=(0),usecols=range(12)) \n",
    "rpm900 = pd.read_csv('20191120_Kinetics_CV_900rpm_C02.txt',sep='\\t',header=(0),usecols=range(12)) \n",
    "rpm1600 = pd.read_csv('20191120_Kinetics_CV_1600rpm_C02.txt',sep='\\t',header=(0),usecols=range(12)) \n",
    "rpm2500 = pd.read_csv('20191120_Kinetics_CV_2500rpm_C02.txt',sep='\\t',header=(0),usecols=range(12)) "
   ]
  },
  {
   "cell_type": "code",
   "execution_count": 63,
   "metadata": {},
   "outputs": [
    {
     "data": {
      "text/html": [
       "<div>\n",
       "<style scoped>\n",
       "    .dataframe tbody tr th:only-of-type {\n",
       "        vertical-align: middle;\n",
       "    }\n",
       "\n",
       "    .dataframe tbody tr th {\n",
       "        vertical-align: top;\n",
       "    }\n",
       "\n",
       "    .dataframe thead th {\n",
       "        text-align: right;\n",
       "    }\n",
       "</style>\n",
       "<table border=\"1\" class=\"dataframe\">\n",
       "  <thead>\n",
       "    <tr style=\"text-align: right;\">\n",
       "      <th></th>\n",
       "      <th>mode</th>\n",
       "      <th>ox/red</th>\n",
       "      <th>error</th>\n",
       "      <th>control changes</th>\n",
       "      <th>counter inc.</th>\n",
       "      <th>time/s</th>\n",
       "      <th>control/V</th>\n",
       "      <th>Ewe/V</th>\n",
       "      <th>I/mA</th>\n",
       "      <th>cycle number</th>\n",
       "      <th>(Q-Qo)/C</th>\n",
       "      <th>P/W</th>\n",
       "    </tr>\n",
       "  </thead>\n",
       "  <tbody>\n",
       "    <tr>\n",
       "      <th>0</th>\n",
       "      <td>2</td>\n",
       "      <td>1</td>\n",
       "      <td>0</td>\n",
       "      <td>0</td>\n",
       "      <td>0</td>\n",
       "      <td>0.000000</td>\n",
       "      <td>-0.99699</td>\n",
       "      <td>-0.997236</td>\n",
       "      <td>0</td>\n",
       "      <td>1.0</td>\n",
       "      <td>0.000000</td>\n",
       "      <td>0.000151</td>\n",
       "    </tr>\n",
       "    <tr>\n",
       "      <th>1</th>\n",
       "      <td>2</td>\n",
       "      <td>1</td>\n",
       "      <td>0</td>\n",
       "      <td>0</td>\n",
       "      <td>0</td>\n",
       "      <td>0.011000</td>\n",
       "      <td>-0.99644</td>\n",
       "      <td>-0.996727</td>\n",
       "      <td>0</td>\n",
       "      <td>1.0</td>\n",
       "      <td>-0.000001</td>\n",
       "      <td>0.000124</td>\n",
       "    </tr>\n",
       "    <tr>\n",
       "      <th>2</th>\n",
       "      <td>2</td>\n",
       "      <td>1</td>\n",
       "      <td>0</td>\n",
       "      <td>0</td>\n",
       "      <td>0</td>\n",
       "      <td>0.031000</td>\n",
       "      <td>-0.99544</td>\n",
       "      <td>-0.995692</td>\n",
       "      <td>0</td>\n",
       "      <td>1.0</td>\n",
       "      <td>-0.000004</td>\n",
       "      <td>0.000093</td>\n",
       "    </tr>\n",
       "    <tr>\n",
       "      <th>3</th>\n",
       "      <td>2</td>\n",
       "      <td>1</td>\n",
       "      <td>0</td>\n",
       "      <td>0</td>\n",
       "      <td>0</td>\n",
       "      <td>0.051000</td>\n",
       "      <td>-0.99444</td>\n",
       "      <td>-0.994655</td>\n",
       "      <td>0</td>\n",
       "      <td>1.0</td>\n",
       "      <td>-0.000005</td>\n",
       "      <td>0.000076</td>\n",
       "    </tr>\n",
       "    <tr>\n",
       "      <th>4</th>\n",
       "      <td>2</td>\n",
       "      <td>1</td>\n",
       "      <td>0</td>\n",
       "      <td>0</td>\n",
       "      <td>0</td>\n",
       "      <td>0.071000</td>\n",
       "      <td>-0.99344</td>\n",
       "      <td>-0.993718</td>\n",
       "      <td>0</td>\n",
       "      <td>1.0</td>\n",
       "      <td>-0.000007</td>\n",
       "      <td>0.000066</td>\n",
       "    </tr>\n",
       "    <tr>\n",
       "      <th>...</th>\n",
       "      <td>...</td>\n",
       "      <td>...</td>\n",
       "      <td>...</td>\n",
       "      <td>...</td>\n",
       "      <td>...</td>\n",
       "      <td>...</td>\n",
       "      <td>...</td>\n",
       "      <td>...</td>\n",
       "      <td>...</td>\n",
       "      <td>...</td>\n",
       "      <td>...</td>\n",
       "      <td>...</td>\n",
       "    </tr>\n",
       "    <tr>\n",
       "      <th>15968</th>\n",
       "      <td>2</td>\n",
       "      <td>0</td>\n",
       "      <td>0</td>\n",
       "      <td>1</td>\n",
       "      <td>1</td>\n",
       "      <td>319.870392</td>\n",
       "      <td>-0.99654</td>\n",
       "      <td>-0.996859</td>\n",
       "      <td>0</td>\n",
       "      <td>4.0</td>\n",
       "      <td>0.008810</td>\n",
       "      <td>0.000009</td>\n",
       "    </tr>\n",
       "    <tr>\n",
       "      <th>15969</th>\n",
       "      <td>2</td>\n",
       "      <td>0</td>\n",
       "      <td>0</td>\n",
       "      <td>1</td>\n",
       "      <td>1</td>\n",
       "      <td>319.890392</td>\n",
       "      <td>-0.99754</td>\n",
       "      <td>-0.997832</td>\n",
       "      <td>0</td>\n",
       "      <td>4.0</td>\n",
       "      <td>0.008810</td>\n",
       "      <td>0.000009</td>\n",
       "    </tr>\n",
       "    <tr>\n",
       "      <th>15970</th>\n",
       "      <td>2</td>\n",
       "      <td>0</td>\n",
       "      <td>0</td>\n",
       "      <td>1</td>\n",
       "      <td>1</td>\n",
       "      <td>319.910392</td>\n",
       "      <td>-0.99854</td>\n",
       "      <td>-0.998815</td>\n",
       "      <td>0</td>\n",
       "      <td>4.0</td>\n",
       "      <td>0.008810</td>\n",
       "      <td>0.000009</td>\n",
       "    </tr>\n",
       "    <tr>\n",
       "      <th>15971</th>\n",
       "      <td>2</td>\n",
       "      <td>0</td>\n",
       "      <td>0</td>\n",
       "      <td>1</td>\n",
       "      <td>1</td>\n",
       "      <td>319.929392</td>\n",
       "      <td>-0.99949</td>\n",
       "      <td>-0.999849</td>\n",
       "      <td>0</td>\n",
       "      <td>4.0</td>\n",
       "      <td>0.008809</td>\n",
       "      <td>0.000009</td>\n",
       "    </tr>\n",
       "    <tr>\n",
       "      <th>15972</th>\n",
       "      <td>2</td>\n",
       "      <td>0</td>\n",
       "      <td>0</td>\n",
       "      <td>0</td>\n",
       "      <td>1</td>\n",
       "      <td>319.938792</td>\n",
       "      <td>-0.99999</td>\n",
       "      <td>-1.000311</td>\n",
       "      <td>0</td>\n",
       "      <td>4.0</td>\n",
       "      <td>0.008809</td>\n",
       "      <td>0.000010</td>\n",
       "    </tr>\n",
       "  </tbody>\n",
       "</table>\n",
       "<p>15973 rows × 12 columns</p>\n",
       "</div>"
      ],
      "text/plain": [
       "       mode  ox/red  error  control changes  counter inc.      time/s  \\\n",
       "0         2       1      0                0             0    0.000000   \n",
       "1         2       1      0                0             0    0.011000   \n",
       "2         2       1      0                0             0    0.031000   \n",
       "3         2       1      0                0             0    0.051000   \n",
       "4         2       1      0                0             0    0.071000   \n",
       "...     ...     ...    ...              ...           ...         ...   \n",
       "15968     2       0      0                1             1  319.870392   \n",
       "15969     2       0      0                1             1  319.890392   \n",
       "15970     2       0      0                1             1  319.910392   \n",
       "15971     2       0      0                1             1  319.929392   \n",
       "15972     2       0      0                0             1  319.938792   \n",
       "\n",
       "       control/V     Ewe/V  I/mA  cycle number  (Q-Qo)/C       P/W  \n",
       "0       -0.99699 -0.997236     0           1.0  0.000000  0.000151  \n",
       "1       -0.99644 -0.996727     0           1.0 -0.000001  0.000124  \n",
       "2       -0.99544 -0.995692     0           1.0 -0.000004  0.000093  \n",
       "3       -0.99444 -0.994655     0           1.0 -0.000005  0.000076  \n",
       "4       -0.99344 -0.993718     0           1.0 -0.000007  0.000066  \n",
       "...          ...       ...   ...           ...       ...       ...  \n",
       "15968   -0.99654 -0.996859     0           4.0  0.008810  0.000009  \n",
       "15969   -0.99754 -0.997832     0           4.0  0.008810  0.000009  \n",
       "15970   -0.99854 -0.998815     0           4.0  0.008810  0.000009  \n",
       "15971   -0.99949 -0.999849     0           4.0  0.008809  0.000009  \n",
       "15972   -0.99999 -1.000311     0           4.0  0.008809  0.000010  \n",
       "\n",
       "[15973 rows x 12 columns]"
      ]
     },
     "execution_count": 63,
     "metadata": {},
     "output_type": "execute_result"
    }
   ],
   "source": [
    "rpm100"
   ]
  },
  {
   "cell_type": "code",
   "execution_count": 64,
   "metadata": {},
   "outputs": [
    {
     "data": {
      "image/png": "[encoded data removed]",
      "text/plain": [
       "<Figure size 432x288 with 1 Axes>"
      ]
     },
     "metadata": {
      "needs_background": "light"
     },
     "output_type": "display_data"
    },
    {
     "data": {
      "image/png": "[encoded data removed]",
      "text/plain": [
       "<Figure size 432x288 with 1 Axes>"
      ]
     },
     "metadata": {
      "needs_background": "light"
     },
     "output_type": "display_data"
    },
    {
     "data": {
      "image/png": "[encoded data removed]",
      "text/plain": [
       "<Figure size 432x288 with 1 Axes>"
      ]
     },
     "metadata": {
      "needs_background": "light"
     },
     "output_type": "display_data"
    }
   ],
   "source": [
    "plt.plot(rpm100['time/s'],rpm100['P/W'])\n",
    "plt.ylabel('Power [W]')\n",
    "plt.xlabel('time [s]')\n",
    "plt.show()\n",
    "\n",
    "plt.plot(rpm100['time/s'],rpm100['I/mA'])\n",
    "plt.ylabel('Current [mA]')\n",
    "plt.xlabel('time [s]')\n",
    "plt.show()\n",
    "\n",
    "plt.plot(rpm100['time/s'],rpm100['Ewe/V'])\n",
    "plt.ylabel('what is this')\n",
    "plt.xlabel('time [s]')\n",
    "plt.show()"
   ]
  },
  {
   "cell_type": "code",
   "execution_count": 65,
   "metadata": {},
   "outputs": [
    {
     "data": {
      "image/png": "[encoded data removed]",
      "text/plain": [
       "<Figure size 432x288 with 1 Axes>"
      ]
     },
     "metadata": {
      "needs_background": "light"
     },
     "output_type": "display_data"
    }
   ],
   "source": [
    "P_100 = np.array(rpm100['P/W'])\n",
    "Ewe_100 = np.array(rpm100['Ewe/V'])\n",
    "I_100 = P_100/Ewe_100*1000 \n",
    "cycles_100 = rpm100['cycle number']\n",
    "\n",
    "plt.plot(rpm100['time/s'],I_100)\n",
    "plt.ylabel('Current [mA]')\n",
    "plt.xlabel('time [s]')\n",
    "plt.show()"
   ]
  },
  {
   "cell_type": "code",
   "execution_count": 113,
   "metadata": {},
   "outputs": [
    {
     "name": "stdout",
     "output_type": "stream",
     "text": [
      "index  time(s)  voltage  current(A)\n",
      "1\n",
      "1294   25.94    0.2997    9.54e-03\n",
      "2\n",
      "5289   105.95    0.3001    1.15e-02\n",
      "3\n",
      "9285   185.95    0.3000    1.23e-02\n",
      "4\n",
      "13277   265.94    0.2996    1.27e-02\n"
     ]
    },
    {
     "data": {
      "text/plain": [
       "1.1508109993556407e-05"
      ]
     },
     "execution_count": 113,
     "metadata": {},
     "output_type": "execute_result"
    }
   ],
   "source": [
    "threshold = .5e-3\n",
    "voltage_of_interest = 0.3 #V\n",
    "currents_pt3 = np.zeros(4)\n",
    "#print the first occurrence of the \n",
    "print('index  time(s)  voltage  current(A)')\n",
    "for item in range(len(Ewe_100)):\n",
    "    for n in range(1,5):\n",
    "        if abs(Ewe_100[item] - voltage_of_interest) < threshold and cycles_100[item] == n and I_100[item] > 1e-3:\n",
    "            print(n)\n",
    "            print(f\"{item:}   {rpm100['time/s'][item]:5.2f}  {Ewe_100[item]:8.4f}  {I_100[item]:10.2e}\")\n",
    "            currents_pt3[n-1] = I_100[item]\n",
    "            \n",
    "avg_current_pt3 = np.average(currents_pt3)/1000\n",
    "avg_current_pt3"
   ]
  },
  {
   "cell_type": "code",
   "execution_count": null,
   "metadata": {},
   "outputs": [],
   "source": [
    "def find_current_voltage_pair(voltage_of_interest)"
   ]
  },
  {
   "cell_type": "code",
   "execution_count": 128,
   "metadata": {},
   "outputs": [
    {
     "data": {
      "text/plain": [
       "[<matplotlib.lines.Line2D at 0x1444859f940>]"
      ]
     },
     "execution_count": 128,
     "metadata": {},
     "output_type": "execute_result"
    },
    {
     "data": {
      "image/png": "[encoded data removed]",
      "text/plain": [
       "<Figure size 432x288 with 1 Axes>"
      ]
     },
     "metadata": {
      "needs_background": "light"
     },
     "output_type": "display_data"
    }
   ],
   "source": [
    "# m = 0\n",
    "# Es = []\n",
    "# Is = []\n",
    "# while cycles_100[m] == 1:\n",
    "#     Es.append(Ewe_100[m])\n",
    "#     Is.append(I_100[m])\n",
    "    \n",
    "plt.plot(Ewe_100,I_100)"
   ]
  },
  {
   "cell_type": "code",
   "execution_count": 123,
   "metadata": {},
   "outputs": [
    {
     "data": {
      "text/plain": [
       "(3991, 3996, 3994, 3992)"
      ]
     },
     "execution_count": 123,
     "metadata": {},
     "output_type": "execute_result"
    }
   ],
   "source": [
    "E_cycle1 = []\n",
    "E_cycle2 = []\n",
    "E_cycle3 = []\n",
    "E_cycle4 = []\n",
    "\n",
    "i_cycle1 = []\n",
    "i_cycle2 = []\n",
    "i_cycle3 = []\n",
    "i_cycle4 = []\n",
    "\n",
    "for m in range(len(cycles_100)):\n",
    "    if cycles_100[m] == 1:\n",
    "        E_cycle1.append(Ewe_100[m])\n",
    "        i_cycle1.append(I_100[m])\n",
    "    elif cycles_100[m] == 2:\n",
    "        E_cycle2.append(Ewe_100[m])\n",
    "        i_cycle2.append(I_100[m])\n",
    "    elif cycles_100[m] == 3:\n",
    "        E_cycle3.append(Ewe_100[m])\n",
    "        i_cycle3.append(I_100[m])\n",
    "    elif cycles_100[m] == 4:\n",
    "        E_cycle4.append(Ewe_100[m])\n",
    "        i_cycle4.append(I_100[m])\n",
    "\n",
    "len(E_cycle1), len(E_cycle2), len(E_cycle3), len(E_cycle4)"
   ]
  },
  {
   "cell_type": "code",
   "execution_count": 132,
   "metadata": {},
   "outputs": [
    {
     "data": {
      "text/plain": [
       "[<matplotlib.lines.Line2D at 0x1444a2f0e48>]"
      ]
     },
     "execution_count": 132,
     "metadata": {},
     "output_type": "execute_result"
    },
    {
     "data": {
      "image/png": "[encoded data removed]",
      "text/plain": [
       "<Figure size 432x288 with 1 Axes>"
      ]
     },
     "metadata": {
      "needs_background": "light"
     },
     "output_type": "display_data"
    }
   ],
   "source": [
    "a = int(len(E_cycle1)/2)\n",
    "plt.plot(E_cycle1[0:a],i_cycle1[0:a])"
   ]
  },
  {
   "cell_type": "code",
   "execution_count": 190,
   "metadata": {},
   "outputs": [],
   "source": [
    "def BV(E_cell, j0, aa, ac):\n",
    "    F = 96485.33212 #C/mol\n",
    "    R = 8.314 #J/mol-K\n",
    "    T = 293 #K\n",
    "    overpotential = E_cell - 1.1\n",
    "    z = 2\n",
    "    \n",
    "    j = j0*(np.exp(aa*z*F*overpotential*(R*T)**(-1))-np.exp(ac*z*F*overpotential*(R*T)**(-1)))\n",
    "    \n",
    "    return j"
   ]
  },
  {
   "cell_type": "code",
   "execution_count": 209,
   "metadata": {},
   "outputs": [
    {
     "name": "stdout",
     "output_type": "stream",
     "text": [
      "j0,aa,ac: 0.6984020846041802 0.06535228115004106 0.36501861371928523\n",
      "errors: [0.00586936 0.00034955 0.01025805]\n"
     ]
    },
    {
     "ename": "TypeError",
     "evalue": "unsupported format string passed to numpy.ndarray.__format__",
     "output_type": "error",
     "traceback": [
      "\u001b[1;31m---------------------------------------------------------------------------\u001b[0m",
      "\u001b[1;31mTypeError\u001b[0m                                 Traceback (most recent call last)",
      "\u001b[1;32m<ipython-input-209-c614bd1dc309>\u001b[0m in \u001b[0;36m<module>\u001b[1;34m\u001b[0m\n\u001b[0;32m      6\u001b[0m \u001b[0mperr\u001b[0m \u001b[1;33m=\u001b[0m \u001b[0mnp\u001b[0m\u001b[1;33m.\u001b[0m\u001b[0msqrt\u001b[0m\u001b[1;33m(\u001b[0m\u001b[0mnp\u001b[0m\u001b[1;33m.\u001b[0m\u001b[0mdiag\u001b[0m\u001b[1;33m(\u001b[0m\u001b[0mpcov\u001b[0m\u001b[1;33m)\u001b[0m\u001b[1;33m)\u001b[0m\u001b[1;33m\u001b[0m\u001b[1;33m\u001b[0m\u001b[0m\n\u001b[0;32m      7\u001b[0m \u001b[0mprint\u001b[0m\u001b[1;33m(\u001b[0m\u001b[1;34m'errors:'\u001b[0m\u001b[1;33m,\u001b[0m\u001b[0mperr\u001b[0m\u001b[1;33m)\u001b[0m\u001b[1;33m\u001b[0m\u001b[1;33m\u001b[0m\u001b[0m\n\u001b[1;32m----> 8\u001b[1;33m \u001b[0mprint\u001b[0m\u001b[1;33m(\u001b[0m\u001b[1;34m'errors r this % of values:{:.2}'\u001b[0m\u001b[1;33m.\u001b[0m\u001b[0mformat\u001b[0m\u001b[1;33m(\u001b[0m\u001b[0mperr\u001b[0m\u001b[1;33m/\u001b[0m\u001b[0mans\u001b[0m\u001b[1;33m[\u001b[0m\u001b[1;36m0\u001b[0m\u001b[1;33m]\u001b[0m\u001b[1;33m[\u001b[0m\u001b[1;36m0\u001b[0m\u001b[1;33m]\u001b[0m\u001b[1;33m*\u001b[0m\u001b[1;36m100\u001b[0m\u001b[1;33m)\u001b[0m\u001b[1;33m)\u001b[0m\u001b[1;33m\u001b[0m\u001b[1;33m\u001b[0m\u001b[0m\n\u001b[0m",
      "\u001b[1;31mTypeError\u001b[0m: unsupported format string passed to numpy.ndarray.__format__"
     ]
    }
   ],
   "source": [
    "# curve_fit(objective_function, E_cycle1[0:a],i_cycle1[0:a])[0]\n",
    "ans = curve_fit(BV, np.array(E_cycle1[0:a]),i_cycle1[0:a])\n",
    "j0_fit, aa_fit, ac_fit = ans[0]\n",
    "print('j0,aa,ac:', j0_fit, aa_fit, ac_fit)\n",
    "pcov = ans[1]\n",
    "perr = np.sqrt(np.diag(pcov))\n",
    "print('errors:',perr)\n",
    "print('errors r this % of values:{:.2}'.format(perr/ans[0][0*100))"
   ]
  },
  {
   "cell_type": "code",
   "execution_count": 197,
   "metadata": {},
   "outputs": [
    {
     "data": {
      "text/plain": [
       "[<matplotlib.lines.Line2D at 0x144262eb6d8>]"
      ]
     },
     "execution_count": 197,
     "metadata": {},
     "output_type": "execute_result"
    },
    {
     "data": {
      "image/png": "[encoded data removed]",
      "text/plain": [
       "<Figure size 432x288 with 1 Axes>"
      ]
     },
     "metadata": {
      "needs_background": "light"
     },
     "output_type": "display_data"
    }
   ],
   "source": [
    "j_fits = BV(np.array(E_cycle1[0:a]),j0_fit, aa_fit, ac_fit)\n",
    "plt.plot(E_cycle1[0:a],i_cycle1[0:a], '--')\n",
    "plt.plot(E_cycle1[0:a],j_fits)\n"
   ]
  }
 ],
 "metadata": {
  "kernelspec": {
   "display_name": "Python 3",
   "language": "python",
   "name": "python3"
  },
  "language_info": {
   "codemirror_mode": {
    "name": "ipython",
    "version": 3
   },
   "file_extension": ".py",
   "mimetype": "text/x-python",
   "name": "python",
   "nbconvert_exporter": "python",
   "pygments_lexer": "ipython3",
   "version": "3.7.3"
  }
 },
 "nbformat": 4,
 "nbformat_minor": 2
}
