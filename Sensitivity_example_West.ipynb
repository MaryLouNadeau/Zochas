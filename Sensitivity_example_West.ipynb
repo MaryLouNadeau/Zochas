{
 "cells": [
  {
   "cell_type": "markdown",
   "metadata": {
    "slideshow": {
     "slide_type": "slide"
    }
   },
   "source": [
    "# Using Sensitivity Analysis to Interrogate Models\n",
    "\n",
    "Originally by: Will Usher, UCL Energy Institute, 10th December 2015"
   ]
  },
  {
   "cell_type": "markdown",
   "metadata": {
    "slideshow": {
     "slide_type": "slide"
    }
   },
   "source": [
    "# Agenda\n",
    "\n",
    "1. [What is Sensitivity Analysis?](#What-is-Sensitivity-Analysis?)\n",
    "1. [Sensitivity Analysis Techniques](#Sensitivity-Analysis-Techniques)\n",
    "1. [An Interactive Example](#Sensitivity-Analysis-in-Practice:-Vehicle-to-Grid)\n",
    "1. [Summary](#Summary)"
   ]
  },
  {
   "cell_type": "code",
   "execution_count": 1,
   "metadata": {},
   "outputs": [],
   "source": [
    "from ipywidgets import widgets, interact\n",
    "from IPython.display import display\n",
    "%matplotlib inline\n",
    "try:\n",
    "    import seaborn as sbn\n",
    "except (ModuleNotFoundError, ImportError):\n",
    "    print(\"No seaborn\")\n",
    "    sbn = None\n",
    "import matplotlib.pyplot as plt\n",
    "import numpy as np\n",
    "from IPython.core.pylabtools import figsize\n",
    "figsize(12, 10)\n",
    "if sbn:\n",
    "    sbn.set_context(\"talk\", font_scale=1)"
   ]
  },
  {
   "cell_type": "markdown",
   "metadata": {
    "slideshow": {
     "slide_type": "subslide"
    }
   },
   "source": [
    "# Uncertainty and Modelling\n",
    "\n",
    "We use models to encode natural phenomena, to project and forecast, to understand, to learn.\n",
    "\n",
    "Examples of models:\n",
    "* discounted cash flow analysis\n",
    "* [Gina coefficient](https://en.wikipedia.org/wiki/Gini_coefficient#Based_on_just_two_levels_of_income) (statistical measure of inequality)\n",
    "* UKTM - energy system model of the United Kingdom\n",
    "* [MetUM](http://www.metoffice.gov.uk/research/modelling-systems/unified-model) - UK weather forecasting"
   ]
  },
  {
   "cell_type": "markdown",
   "metadata": {
    "slideshow": {
     "slide_type": "slide"
    }
   },
   "source": [
    "## What is Sensitivity Analysis?\n",
    "\n",
    "“...the study of how the uncertainty in the output of a mathematical model or system (numerical or otherwise) can be apportioned to different sources of uncertainty in its inputs.” \n",
    "\n",
    "There are four settings for sensitivity analysis:\n",
    "* **Factor prioritisation** - which parameters are most influential?\n",
    "* **Factor fixing** - which parameters can we ignore?\n",
    "* Factor mapping - which inputs matter for just this space in the model output?\n",
    "* (Metamodelling) - which parameters can I use to model my model?\n",
    "\n",
    "There are two families of approaches:\n",
    "* Local approaches\n",
    "* Global approaches"
   ]
  },
  {
   "cell_type": "markdown",
   "metadata": {
    "slideshow": {
     "slide_type": "subslide"
    }
   },
   "source": [
    "### Local versus Global Approaches\n",
    "\n",
    "* Local approaches\n",
    "    * e.g. one-at-a-time (OAT) approach\n",
    "    * low data requirements\n",
    "    * quick and easy to conduct\n",
    "    * do not capture interactions between inputs\n",
    "    * misleading for non-linear models\n",
    "\n",
    "\n",
    "* Global approaches\n",
    "    * e.g. Sobol analysis\n",
    "    * often need probabilistic data\n",
    "    * computationally demanding\n",
    "    * capture interactions between inputs\n",
    "    * handle non-linear and non-additive models"
   ]
  },
  {
   "cell_type": "markdown",
   "metadata": {
    "slideshow": {
     "slide_type": "subslide"
    }
   },
   "source": [
    "### Sensitivity Analysis Techniques \n",
    "\n",
    "(adapted from Flechsig (2012), Saltelli(2008))\n",
    "\n",
    "| Type | Morris | Variance | Factorial | Monte Carlo | Local SA |\n",
    "|:------|------|------|------|------|------|\n",
    "|Model independent? | yes | yes | yes | yes | yes|\n",
    "|Sample source | levels | distributions | levels | distributions | levels |\n",
    "|No. factors | $20-100^1$ | $<20^1$ | $>100^1$ | $<20$ | $<100$ |\n",
    "|Factor range | global | global | global | global | local |\n",
    "|Multi-factor variation | yes | yes | yes | yes | no |\n",
    "|Correlated factors? | no | no | yes | yes | no |\n",
    "|Cost (for k factors)? | $10(k+1)$ | $500(k+2)$ | $k \\to 2k$ | $500+1$ | $2(k+1)$ |\n",
    "|Estimated CPU time$^2$ | 1 day | 11 days | 3 hours | ~2 days | 1 hour |\n",
    "  \n",
    "[1] using groups of factors would enable larger numbers of factors to be explored\n",
    "[2] assuming 5 minutes per simulation and 30 groups of factors"
   ]
  },
  {
   "cell_type": "markdown",
   "metadata": {
    "slideshow": {
     "slide_type": "notes"
    }
   },
   "source": [
    "Sensitivity Analysis is strongly linked to uncertainty.\n",
    "\n",
    "When considering the range over which a mode input should be explored, \n",
    "you are actually considering the plausibility of this range.\n",
    "\n",
    "Sensitivity Analysis makes you critically analyse your assumptions."
   ]
  },
  {
   "cell_type": "markdown",
   "metadata": {
    "slideshow": {
     "slide_type": "subslide"
    }
   },
   "source": [
    "### Global Sensitivity Analysis\n",
    "\n",
    "Screening approaches, such as Fractional Factorial and Morris, **rank** inputs according to their influence upon the output.\n",
    "\n",
    "Variance-based approaches, such as Saltelli and DMIM, **score** the sensitivity of each input with a numerical value, called the sensitivity index. Sensitivity indices come in several forms:\n",
    "* First-order indices: measures the contribution to the output variance by a single model input alone.\n",
    "* Second-order indices: measures the contribution to the output variance caused by the interaction of two model inputs.\n",
    "* Total-order index: measures the contribution to the output variance caused by a model input, including both its first-order effects (the input varying alone) and all higher-order interactions."
   ]
  },
  {
   "cell_type": "code",
   "execution_count": 20,
   "metadata": {},
   "outputs": [
    {
     "name": "stdout",
     "output_type": "stream",
     "text": [
      "Read those last three bullet points again!\n"
     ]
    }
   ],
   "source": [
    "print(\"Read those last three bullet points again!\")"
   ]
  },
  {
   "cell_type": "markdown",
   "metadata": {
    "slideshow": {
     "slide_type": "slide"
    }
   },
   "source": [
    "# Sensitivity Analysis in Practice: Vehicle to Grid\n",
    "\n",
    "[Kempton (2005)](http://www.sciencedirect.com/science/article/pii/S0378775305000352) raise the prospect of using battery electric vehicles (BEVs) as mobile storage devices for electricity.  Other than pumped hydro, the electricity grid has virtually no storage devices.  Electricity storage could facilitate the integration of variable output renewable technologies such as wind turbines and solar photovoltaics.\n",
    "\n",
    "The concept of V2G is that the owners of electric (or even hydrogen fuel cell) vehicles could be paid by the System Operator (National Grid in the UK) for the use of their cars as giant batteries.\n",
    "\n",
    "There are three services that Vehicle-to-Grid (V2G) could provide:\n",
    "* Regulation - helps keep the grid operating at 60 Hz by exporting energy during times of extra demand or importing during times of extra supply\n",
    "* Spinning Reserve - an always-available (but not necessarily generating) backup in case a power plant drops offline\n",
    "* Peak Power - exports electricity to the grid during times of peak demand (e.g. 5-7pm)"
   ]
  },
  {
   "cell_type": "markdown",
   "metadata": {
    "collapsed": true,
    "slideshow": {
     "slide_type": "subslide"
    }
   },
   "source": [
    "We'll just look at **regulation** services:\n",
    "\n",
    "\n",
    "|Service | Revenue | Cost|\n",
    " |---- | ---- | ----|\n",
    " |**Regulation** | Energy Exported, Saving on Energy Imported | Cost of Energy, Degradation of Battery|\n",
    " |Spinning Reserve | Capacity Available, Energy Exported | Cost of Energy, Degradation of Battery|\n",
    " |Peak Power | Capacity Available, Energy Exported | Cost of Energy, Degradation of Battery|"
   ]
  },
  {
   "cell_type": "markdown",
   "metadata": {
    "slideshow": {
     "slide_type": "subslide"
    }
   },
   "source": [
    "## Tesla Model S\n",
    "\n",
    "![Tesla](https://www.teslamotors.com/sites/default/files/images/model-s/gallery/exterior/hero-01.jpg?20151030)\n",
    "\n",
    "Parameter | Min | Max\n",
    "---| ---| ---\n",
    "Battery Size | 70 kWh | 85 kWh\n",
    "Charge Connectors | 230V 10 Amp (2.3 kW) | 400V 32 Amp (22 kW)\n",
    "Stated efficiency | ~ 5.5 km/kWh |"
   ]
  },
  {
   "cell_type": "markdown",
   "metadata": {
    "slideshow": {
     "slide_type": "subslide"
    }
   },
   "source": [
    "## Nissan Leaf\n",
    "\n",
    "![Nissan Leaf](https://cars.usnews.com/static/images/Auto/izmo/i113036072/2019_nissan_leaf_angularfront.jpg)\n",
    "\n",
    "Parameter | Min | Max\n",
    "---| ---| ---\n",
    "Battery Size | 24 kWh | 30 kWh\n",
    "Charge Connectors | 2.3 kW | 6.6 kW\n",
    "Stated efficiency | ~5.5 km/kWh |"
   ]
  },
  {
   "cell_type": "code",
   "execution_count": 2,
   "metadata": {
    "slideshow": {
     "slide_type": "skip"
    }
   },
   "outputs": [],
   "source": [
    "# The model used for this seminar is contained in the file model.py\n",
    "from model import (cost_of_vehicle_to_grid, \n",
    "                   compute_profit, \n",
    "                   annualized_capital_cost, \n",
    "                   battery_lifetime, \n",
    "                   max_vehicle_power)"
   ]
  },
  {
   "cell_type": "markdown",
   "metadata": {},
   "source": [
    "If you replace the following cell with \n",
    "```\n",
    "%load model.py\n",
    "```\n",
    "and then execute it, it will show you the contents of that file"
   ]
  },
  {
   "cell_type": "code",
   "execution_count": 22,
   "metadata": {
    "slideshow": {
     "slide_type": "skip"
    }
   },
   "outputs": [],
   "source": [
    "# %load model.py\n",
    "\n",
    "# # Using Sensitivity Analysis to Interrogate Models\n",
    "#\n",
    "# Will Usher, UCL Energy Institute\n",
    "#\n",
    "# 10th December 2015\n",
    "\n",
    "'''\n",
    "Revenue = Max Power * Daily Capacity Payment * (Time Available/24) + Electricity Exported * Electricity Price\n",
    "        = Max Power * Daily Capacity Payment * (Time Available/24) + Max Power * Time Available * Electricity Price\n",
    "\n",
    "Alternatives:\n",
    "\n",
    "Use a BEV for V2G overnight, although power is constrained by:\n",
    "    1. need to charge vehicle\n",
    "    2. size of battery\n",
    "    3. size of connection\n",
    "    4. requirements for range buffer\n",
    "    5. distance driven per day\n",
    "\n",
    " Use a separate battery:\n",
    "     1. charge during times of cheap electricity\n",
    "     2. extra expense of purchasing battery\n",
    "     3. size of connection is constrained\n",
    "\n",
    "Max_Power = max(0, min(connection, available_energy / duration)\n",
    "\n",
    "duration/24 * Max_Power * Capacity Payment\n",
    "'''\n",
    "\n",
    "\n",
    "import numpy as np\n",
    "\n",
    "def max_vehicle_power(connector_power,\n",
    "                      stored_energy,\n",
    "                      distance_driven,\n",
    "                      range_buffer,\n",
    "                      dispatch_time,\n",
    "                      driving_efficiency=4.025,\n",
    "                      inverter_efficiency=0.93\n",
    "                      ):\n",
    "    '''\n",
    "    Compute the maximum electrical power output of a vehicle battery when\n",
    "    connected to the electricity grid\n",
    "\n",
    "    Arguments:\n",
    "        connector_power - the power capacity of the connection to the grid\n",
    "        stored_energy - energy available as DC kWh to the inverter\n",
    "        distance_driven - distance driven (km) since energy storage full\n",
    "        range_buffer - minimum range required by the driver (km)\n",
    "        driving_efficiency - 4.025 (km/kWh)\n",
    "        inverter_efficiency - electrical conversion efficiency of DC to AC\n",
    "                              inverter (93%)\n",
    "        dispatch_time - time over which the vehicle's stored energy\n",
    "                        is dispatched (hours)\n",
    "\n",
    "    Returns:\n",
    "        the maximum power in kW of a vehicle connected to the grid\n",
    "    '''\n",
    "\n",
    "\n",
    "    max_vehicle_power = ((stored_energy - ((distance_driven + range_buffer) / driving_efficiency)) * \\\n",
    "    inverter_efficiency)  / dispatch_time\n",
    "\n",
    "    return np.maximum(0, np.minimum(connector_power, max_vehicle_power))\n",
    "\n",
    "\n",
    "def battery_lifetime(lifetime_cycles,\n",
    "                     total_energy_stored,\n",
    "                     depth_of_discharge\n",
    "                    ):\n",
    "    '''\n",
    "    Compute the lifetime of a battery in energy terms\n",
    "\n",
    "    Arguments:\n",
    "        lifetime_cycles -\n",
    "        total_energy_stored - size of battery (kWh)\n",
    "        depth_of_discharge - the depth of discharge for which\n",
    "                            lifetime_cycles is defined (0 <= DoD <= 1)\n",
    "\n",
    "    Returns:\n",
    "        battery_lifetime in energy terms - units: kWh\n",
    "\n",
    "    '''\n",
    "    lifetime = lifetime_cycles * total_energy_stored * depth_of_discharge\n",
    "    return lifetime\n",
    "\n",
    "\n",
    "def annualized_capital_cost(cost, discount_rate, lifetime):\n",
    "    '''\n",
    "    Arguments:\n",
    "        cost - in GBP2015\n",
    "        discount_rate - %\n",
    "        lifetime - in years\n",
    "    '''\n",
    "    ann_cc = cost * (discount_rate / (1-(1+discount_rate)**-lifetime))\n",
    "    return ann_cc\n",
    "\n",
    "\n",
    "def cost_of_vehicle_to_grid(\n",
    "                            battery_capital_cost,\n",
    "                            lifetime_cycles,\n",
    "                            total_energy_stored,\n",
    "                            depth_of_discharge,\n",
    "                            purchased_energy_cost,\n",
    "                            round_trip_efficiency,\n",
    "                            energy_dispatched,\n",
    "                            cost_of_v2g_equip,\n",
    "                            discount_rate,\n",
    "                            economic_lifetime):\n",
    "\n",
    "    battery_life = battery_lifetime(lifetime_cycles,\n",
    "                                    total_energy_stored,\n",
    "                                    depth_of_discharge\n",
    "                                    )\n",
    "\n",
    "    degredation_cost = battery_capital_cost / battery_life\n",
    "\n",
    "    cost_of_energy = (purchased_energy_cost / round_trip_efficiency)                         + degredation_cost\n",
    "\n",
    "    annualised_capex = annualized_capital_cost(cost_of_v2g_equip,\n",
    "                                               discount_rate,\n",
    "                                               economic_lifetime)\n",
    "\n",
    "    cost = (cost_of_energy * energy_dispatched) + annualised_capex\n",
    "\n",
    "    return cost\n",
    "\n",
    "\n",
    "def compute_profit(\n",
    "        battery_size = 70, # kWh\n",
    "        battery_unit_cost = 350, # £/kWh\n",
    "        connector_power = 14, # kW\n",
    "        lifetime_cycles = 2000,\n",
    "        depth_of_discharge = 0.8,\n",
    "        electricity_price = 0.1, # £/kWh - sell when its expensive\n",
    "        purchased_energy_cost = 0.05, # £/kWh - buy when it's cheap\n",
    "        capacity_price = 0.007, # £\\kWh\n",
    "        round_trip_efficiency = 0.73, # 73% efficiency grid-battery-grid\n",
    "        cost_of_v2g_equip = 2000,\n",
    "        discount_rate = 0.1, # 10%\n",
    "        economic_lifetime = 10,\n",
    "        distance_driven = 0, # km\n",
    "        range_buffer = 0, # km\n",
    "        ratio_dispatch_to_contract = 0.1,\n",
    "        hours_connected_per_day = 18):\n",
    "    '''\n",
    "    Computes the profit (revenue-cost) of using vehicle for regulation services\n",
    "    '''\n",
    "    battery_capital_cost = battery_size * battery_unit_cost # 2015£\n",
    "\n",
    "    stored_energy = battery_size * depth_of_discharge # kWh\n",
    "\n",
    "    total_hours_connected = hours_connected_per_day * 365\n",
    "\n",
    "    time_dispatched = total_hours_connected * ratio_dispatch_to_contract # hours\n",
    "\n",
    "    power_available = max_vehicle_power(connector_power,\n",
    "                                        stored_energy,\n",
    "                                        distance_driven,\n",
    "                                        range_buffer,\n",
    "                                        hours_connected_per_day * ratio_dispatch_to_contract,\n",
    "                                        )\n",
    "\n",
    "    energy_dispatched = ratio_dispatch_to_contract * power_available * time_dispatched\n",
    "\n",
    "    revenue = capacity_price * power_available * total_hours_connected + electricity_price * energy_dispatched\n",
    "\n",
    "    cost = cost_of_vehicle_to_grid(battery_capital_cost,\n",
    "                                   lifetime_cycles,\n",
    "                                   battery_size,\n",
    "                                   depth_of_discharge,\n",
    "                                   purchased_energy_cost,\n",
    "                                   round_trip_efficiency,\n",
    "                                   energy_dispatched,\n",
    "                                   cost_of_v2g_equip,\n",
    "                                   discount_rate,\n",
    "                                   economic_lifetime)\n",
    "\n",
    "    profit = revenue - cost\n",
    "    return profit, revenue, cost\n",
    "\n",
    "if __name__ == \"__main__\":\n",
    "    pass"
   ]
  },
  {
   "cell_type": "markdown",
   "metadata": {
    "slideshow": {
     "slide_type": "subslide"
    }
   },
   "source": [
    "### One-at-time approach\n",
    "\n",
    "First, we're going to try the **one-at-a-time** (OAT) approach.\n",
    "\n",
    "Find the sliders in the example which are set up for the parameters of the Nissan Leaf."
   ]
  },
  {
   "cell_type": "code",
   "execution_count": 3,
   "metadata": {
    "slideshow": {
     "slide_type": "skip"
    }
   },
   "outputs": [
    {
     "data": {
      "application/vnd.jupyter.widget-view+json": {
       "model_id": "585e439793d140a4a4af1533f6730d51",
       "version_major": 2,
       "version_minor": 0
      },
      "text/plain": [
       "interactive(children=(FloatSlider(value=2.3, description='connector', max=22.0, min=2.3, step=0.5), FloatSlide…"
      ]
     },
     "metadata": {},
     "output_type": "display_data"
    }
   ],
   "source": [
    "@interact(connector=widgets.FloatSlider(value=2.3, min=2.3, max=22, step=0.5), \n",
    "          battery_size=widgets.FloatSlider(value=24, min=10, max=100, step=5), \n",
    "          distance_driven=widgets.FloatSlider(value=0, min=0, max=100, step=5), \n",
    "           range_buffer=widgets.FloatSlider(value=0, min=0, max=100, step=10),\n",
    "          dispatch_time=widgets.FloatSlider(value=1.4, min=0.5, max=24, step=0.5))\n",
    "def plot_power(connector, battery_size, distance_driven, range_buffer, dispatch_time):\n",
    "    power = max_vehicle_power(connector_power = connector,\n",
    "                      stored_energy = battery_size,\n",
    "                      distance_driven = distance_driven,\n",
    "                      range_buffer = range_buffer,\n",
    "                      dispatch_time = dispatch_time,\n",
    "                      driving_efficiency=4.025,\n",
    "                      inverter_efficiency=0.93\n",
    "                      )\n",
    "    return print(\"The maximum power is {} kW\".format(round(power, 2)))\n",
    "\n",
    "# "
   ]
  },
  {
   "cell_type": "markdown",
   "metadata": {
    "slideshow": {
     "slide_type": "subslide"
    }
   },
   "source": [
    "### Scatter plots\n",
    "\n",
    "Scatter plots can tell you quite a lot about the relationship between the model inputs and outputs.\n",
    "\n",
    "Each of the scatter plots shows _all_ the model outputs on the y-axis, but re-ordered by the relationship to the input variable (on the x-axis).\n",
    "\n"
   ]
  },
  {
   "cell_type": "code",
   "execution_count": 4,
   "metadata": {},
   "outputs": [],
   "source": [
    "number_sims = 1000\n",
    "\n",
    "# Make some random data in the correct ranges\n",
    "mc_connector = np.random.uniform(2.3, 22, number_sims)\n",
    "mc_battery_size = np.random.uniform(50, 100, number_sims)\n",
    "mc_distance_driven = np.random.uniform(0, 80, number_sims)\n",
    "mc_range_buffer = np.random.uniform(0, 80, number_sims)\n",
    "mc_dispatch_time = np.random.uniform(0.5, 24, number_sims)\n",
    "mc_driving_eff = np.random.uniform(2, 6, number_sims)\n",
    "mc_inv_eff = np.random.uniform(0.87, 0.97, number_sims)\n",
    "\n",
    "\n",
    "data = np.array((mc_connector, \n",
    "                 mc_battery_size, \n",
    "                 mc_distance_driven, \n",
    "                 mc_range_buffer, \n",
    "                 mc_dispatch_time,\n",
    "                 mc_driving_eff, \n",
    "                 mc_inv_eff\n",
    "                 ))"
   ]
  },
  {
   "cell_type": "code",
   "execution_count": 7,
   "metadata": {
    "slideshow": {
     "slide_type": "skip"
    }
   },
   "outputs": [
    {
     "data": {
      "text/plain": [
       "array([ 3.84173248,  3.88372322,  1.69483432,  3.15830105,  2.42363752,\n",
       "        7.10213708, 12.92033402,  1.32443699,  5.32357607,  2.02484292,\n",
       "        2.47339526,  5.41047466,  1.50157263,  3.84438837,  2.55885975,\n",
       "        4.2907136 ,  4.87960772,  4.1531303 ,  2.93657353,  5.7492554 ,\n",
       "        3.13700047,  2.05698987,  6.88658835,  6.73945974,  1.76554594,\n",
       "        3.99677987,  9.10586608,  4.51401376, 15.49143924,  7.21951639,\n",
       "        3.44876856,  3.71199479,  1.85486529,  5.83839699, 10.02104756,\n",
       "        2.08293755,  4.26038646,  2.70130875,  5.09196959,  2.85195524,\n",
       "       13.66163165,  3.35316506,  5.15064591, 14.56498639,  1.86203634,\n",
       "       13.60556553,  0.99547925,  2.26899779,  2.5611706 , 12.05392642,\n",
       "       16.31184622,  5.93814051,  3.60482451,  4.32846285,  5.49631477,\n",
       "        6.018978  ,  4.48151924,  1.96036538, 21.04370252,  2.48882279,\n",
       "        9.57425119,  1.50119271,  3.09150134,  4.65948183,  5.00962332,\n",
       "        3.79082877,  1.89223048,  9.68953024,  4.90245998,  2.00376279,\n",
       "        2.59035561,  6.55430126,  2.87028037,  7.06338626,  9.89178934,\n",
       "        2.11553384,  4.59623523,  4.94079171,  2.21395624,  3.78396853,\n",
       "        1.84986018,  3.26985718,  2.84699161,  2.22565103,  1.69701784,\n",
       "        3.0845236 ,  2.29016533,  7.49655481,  3.27644642,  2.75841042,\n",
       "        1.26388795,  2.14969893,  5.10632299,  5.34047323,  4.51566521,\n",
       "        1.70581642,  4.88420905,  3.0085814 ,  3.13329438,  4.33304951,\n",
       "        2.61453055,  5.10480334,  4.07571174, 11.19968332, 11.1696079 ,\n",
       "        2.10942868,  6.81779787,  2.41209456,  2.97857916, 11.50134128,\n",
       "        1.46692125,  1.78488914,  7.04377201,  1.53892101,  3.86183043,\n",
       "        4.30161252,  3.57266969, 18.33044439,  6.95356315,  3.68557405,\n",
       "        4.3051718 ,  2.1670711 ,  5.55212227,  3.47847013, 12.75496433,\n",
       "       12.32830392,  3.67890931,  5.83537772,  2.21268511,  3.1358519 ,\n",
       "        4.60105489, 12.91876493,  7.59809658,  3.36740602,  2.6132124 ,\n",
       "       12.26267834,  3.6979016 ,  7.28854553,  2.57755183,  9.50671192,\n",
       "        4.14870257,  5.55607536,  1.80702538,  3.48629783,  5.99540207,\n",
       "        2.21670311,  9.35366828, 20.12825395,  2.88067404,  3.36372082,\n",
       "        2.77117809,  8.04838334, 13.80594689,  3.33605997,  8.21327004,\n",
       "        6.44305048,  6.6552862 ,  5.61695259,  2.44912394,  6.48792855,\n",
       "        4.85300827,  6.12037069,  1.7005711 ,  3.1313986 ,  6.05584194,\n",
       "        6.51164651,  5.16250328,  5.5346147 ,  2.48645349,  4.12564791,\n",
       "        3.12695794,  0.93497898,  1.93049074,  3.21712393,  2.94636303,\n",
       "        1.75803677,  1.20898122,  3.21754998,  3.4940087 ,  6.96479135,\n",
       "        2.3311341 ,  5.15093069,  3.28128626, 10.96497613,  7.2092779 ,\n",
       "       16.5271048 ,  4.2434918 ,  3.66781966,  2.16527739,  3.64343878,\n",
       "        2.59193344,  3.04665569,  4.76912469,  2.05102449, 13.09085891,\n",
       "       13.25482591,  8.46536234,  3.15604629,  2.78022764,  3.56654728,\n",
       "        3.40461525,  6.58893845,  2.94691941,  2.58822517,  1.2520243 ,\n",
       "        1.75120201,  4.239707  ,  4.46734682, 14.87107059,  2.14235975,\n",
       "        4.85089848,  4.91766216,  7.2539446 ,  2.02120768,  3.63687546,\n",
       "       14.36357818,  1.51792146,  3.71410357,  2.31556222,  1.82739175,\n",
       "        2.61589552,  2.7549486 ,  3.06265512,  4.26887028,  3.18394687,\n",
       "        7.68833275, 11.32824431,  2.85618401, 12.02288923,  1.8453667 ,\n",
       "        7.96604281,  5.2267218 , 10.69770553,  4.1442713 ,  4.09090218,\n",
       "        6.59000696,  4.21030952,  3.91574001,  3.36683345,  5.36645099,\n",
       "        1.88259365,  5.92820715,  3.32244338,  1.42012093,  2.33554137,\n",
       "        3.8436839 , 11.0485268 ,  5.26742578,  2.6118653 ,  5.58694003,\n",
       "        8.20845993,  2.25832338,  3.09446964,  2.57841659,  6.23603028,\n",
       "        8.3863831 ,  2.8833269 ,  1.46704021,  2.54853858,  7.54982047,\n",
       "        1.97475341,  1.36758012,  6.69916228,  3.54598503,  2.91006016,\n",
       "        3.79899354,  2.39203498,  5.62326073,  2.96592926,  3.13383978,\n",
       "        4.90881637,  2.99483061,  1.28539448, 12.49174169,  6.15897012,\n",
       "        1.03323803,  5.47220228,  3.83613887,  4.88917957,  0.06176591,\n",
       "        4.77606021,  5.58391666,  3.07760354,  2.98600721,  4.85780583,\n",
       "        2.47320895,  6.25626369,  3.37661567,  3.36677259, 19.28575996,\n",
       "        5.673517  ,  3.96107307,  9.98229826,  5.26260134,  3.74489496,\n",
       "        4.65535511,  2.85493057,  2.31005211,  3.03170793,  0.        ,\n",
       "        5.45186435,  3.08782257,  1.87506423,  3.85186377,  5.07562309,\n",
       "       19.43018312,  2.20185102,  1.33822222,  5.98521343,  2.3300089 ,\n",
       "        2.38803602, 13.13089579, 16.23346219,  4.19381496,  6.29707968,\n",
       "        1.52026297,  3.60258501,  0.26596002,  3.32004685,  2.90208831,\n",
       "        4.40900102, 18.59964458, 10.88476928,  3.10659631,  2.98610439,\n",
       "        2.99210007,  2.34553015,  3.74404915,  1.57448219,  9.97045319,\n",
       "        3.0855904 ,  3.14988535,  2.35427405,  3.1101319 ,  3.72729148,\n",
       "        1.43304192,  4.87059839,  3.13623304,  3.57238813,  3.88969424,\n",
       "        6.52744868,  3.701465  ,  2.13330362,  3.69617903,  2.68132878,\n",
       "        4.36256854,  4.52817286,  3.41800423,  6.47439964,  2.23517255,\n",
       "        2.31319669,  1.76000378,  3.58007606,  2.71607853,  8.82607713,\n",
       "        3.28068964,  3.80750188,  3.29357507,  4.420065  , 10.13396849,\n",
       "        3.35958811, 12.45740637,  1.75077654,  3.00881962,  6.51043382,\n",
       "        2.85993851,  2.50398416, 16.55947394,  9.00894304,  9.68339133,\n",
       "        2.46302334,  2.00082619,  2.74167307,  1.58134   , 15.2932055 ,\n",
       "        4.80594011,  3.13572162, 10.93451509,  5.42964485,  2.3406569 ,\n",
       "        3.24940982,  2.88623179, 12.41622847,  1.5243106 ,  4.98235762,\n",
       "        2.1124905 ,  2.68089068,  1.60626453,  4.92628536, 10.37078461,\n",
       "       12.58874843, 18.13808454,  6.65169266, 11.46635911,  2.77618258,\n",
       "        2.16227995,  7.15317828,  2.56284822,  2.40899597,  3.26633801,\n",
       "        2.6087767 ,  3.10370731,  4.49538591,  2.6005878 , 13.1669931 ,\n",
       "        3.4201717 ,  1.69755121,  3.99326038, 10.43825678,  4.31987835,\n",
       "        0.        ,  4.05281034,  2.48421709,  2.85550772,  5.11165567,\n",
       "        5.00790289,  6.88924952,  2.31772197,  3.64031652,  2.30293847,\n",
       "        3.61389246,  1.67237271,  4.22804996,  2.96437013, 19.79916643,\n",
       "        4.9781013 ,  4.04008406,  9.52099265,  3.88548716,  4.7659617 ,\n",
       "        6.14468418,  1.89372521,  7.80068427,  2.25880352,  2.42133814,\n",
       "        3.60882848,  6.58258613,  8.30643932,  4.75148827, 14.6865385 ,\n",
       "        2.90003819,  4.62697334,  9.61508428,  3.0309561 ,  1.546417  ,\n",
       "        6.2403867 ,  3.92956413,  5.06328556,  3.03563516,  2.0029281 ,\n",
       "        5.10008868,  4.68171872,  3.5772753 ,  3.71291906,  1.24208285,\n",
       "        7.96768062,  1.60368899,  6.07927707,  2.74394266,  5.20987865,\n",
       "        3.17827483,  3.94437349,  2.28042148, 12.83118964,  3.53363377,\n",
       "        3.58470415,  2.72889785,  0.52977751,  2.95309519,  7.45040837,\n",
       "        3.12201856,  1.89114743,  3.50028434,  2.9627664 ,  4.1171957 ,\n",
       "        3.93831499,  2.34225562, 19.25212559,  0.77346676,  5.59715114,\n",
       "        1.64206024,  3.25555388, 11.06552768, 18.02721865,  4.74924627,\n",
       "        1.18095606,  2.00297328,  7.20061991,  3.29164083,  9.72249452,\n",
       "        3.06077834,  8.84894655,  3.97274685,  3.33722603,  5.50493831,\n",
       "        2.74116865,  4.20807135, 18.95477501,  4.01403134,  1.77594386,\n",
       "       21.66994657,  3.19385057,  3.21656725,  3.40072384,  2.91905031,\n",
       "        4.06301451,  1.42199165,  6.76682054,  3.63818736, 18.45739368,\n",
       "        1.13938201,  0.89874582,  1.78795263,  3.61422057,  8.70162665,\n",
       "       11.00868602,  2.80629076,  3.57830828,  4.26973298, 10.63589461,\n",
       "        9.10902574,  4.20667258,  0.50586536,  3.02778138,  5.51890041,\n",
       "        3.1266839 ,  0.72905611,  6.2125514 ,  3.00236618,  2.7283893 ,\n",
       "        7.74241809, 15.06744174,  3.66901604,  2.31090369,  2.03985113,\n",
       "        6.70207826, 10.17034403,  1.92584893,  8.07719271,  3.14765896,\n",
       "        3.30175602,  4.11508179,  2.19694676,  1.99000217, 11.90659822,\n",
       "        1.79438047,  3.21733372,  3.27797428,  2.69472702,  3.528846  ,\n",
       "        1.97444064,  3.46722823,  3.26104618,  7.88425233,  7.88811844,\n",
       "        3.27057507,  6.65510726,  0.94898244,  1.93239018,  1.24232712,\n",
       "        1.89575447,  2.85290611,  9.54039871,  3.88771137,  3.07647228,\n",
       "        8.54622604,  5.42572115,  3.25040504,  3.58221849,  3.10286757,\n",
       "        5.54336723,  1.71655432,  3.68911445,  6.77461477,  2.23941791,\n",
       "        4.6517228 ,  3.11926378,  4.82533707,  7.44253283,  9.39362253,\n",
       "        3.57618421,  8.9141863 ,  1.87462498,  2.07491258,  5.90933146,\n",
       "        9.08484634, 17.72138469,  8.28830797,  3.89974784,  5.31628644,\n",
       "        6.99037236,  5.81724736,  2.71809962,  7.90314263,  8.5877533 ,\n",
       "       18.63156938,  8.80764168,  2.49348401,  1.45931001,  5.03666897,\n",
       "        4.05412206,  1.74345312,  2.54300962,  2.3735857 ,  3.93737741,\n",
       "        3.72514953,  2.8372025 ,  4.51718195,  1.75268542,  3.11048309,\n",
       "        2.14704189,  4.63360726,  3.01250355,  9.07797172,  1.39539516,\n",
       "        2.40487755, 12.56789625,  5.83751395,  4.59843962,  1.89263711,\n",
       "        3.02140871, 10.49849493,  4.06910656,  3.43131157,  3.37931498,\n",
       "        2.79084945,  4.93276724,  6.57292099,  1.15081004,  4.94040264,\n",
       "        5.14276017,  0.69084681,  2.43424788,  1.21352994,  3.28614517,\n",
       "        4.15984276,  4.80338662,  3.56106407,  6.12384117,  2.01221464,\n",
       "        9.64875234,  3.00484053, 14.02241515,  6.0589717 ,  3.53403165,\n",
       "        6.10201744,  1.60010894,  3.39880328,  1.64042276, 10.24767182,\n",
       "        2.97425509,  1.93274636,  3.39970842,  5.6786979 , 17.73290388,\n",
       "        3.38488719,  5.11124371,  2.74404594,  2.9664381 ,  1.78082237,\n",
       "        3.80820526, 11.59577718, 10.42771793,  2.68971365,  4.32320503,\n",
       "        6.100042  ,  6.89565497,  8.21761865, 11.19435177,  3.89408896,\n",
       "        4.27814819,  1.60314252,  2.46941135,  1.41625314,  3.60528653,\n",
       "        3.13590004,  0.97388253,  1.87995601,  2.09173235,  0.87243214,\n",
       "        4.77475068,  8.80760353, 15.78552216,  3.95798752,  3.52465301,\n",
       "        2.92355717,  3.59910692,  2.63794092,  1.50363084,  3.53626625,\n",
       "       16.30855669,  0.87917765,  8.1167817 , 17.6034805 ,  5.99139094,\n",
       "       21.29723182,  4.31607512,  1.60983552, 17.86187412,  7.04463003,\n",
       "        2.71503129,  2.60849409,  4.78418354,  5.73722249,  1.89751994,\n",
       "        2.61080431, 12.56192185,  2.56723745,  6.73459996,  2.52566427,\n",
       "        5.27906474,  4.87746181,  2.53568168,  8.37451379,  4.71979191,\n",
       "        2.86422596,  2.78725195,  2.03674881, 14.22977164,  2.55739877,\n",
       "        3.57572589, 15.42162406, 19.62847585, 11.67358895,  2.56490474,\n",
       "        6.8044508 ,  3.74591729,  3.2087505 ,  4.53719287,  9.14649939,\n",
       "        3.07210332,  4.61639602,  1.31277998,  2.489389  ,  2.96788462,\n",
       "       10.14117115,  9.43594467,  7.73763703,  4.09410757,  4.75076703,\n",
       "        3.71377201,  2.60705015, 14.41688229,  2.33096306,  4.71931173,\n",
       "       12.43605738, 11.00745741,  2.77251072, 10.30096117,  4.06898533,\n",
       "        6.56255414,  3.67066028,  4.97691382,  7.2249928 ,  1.54475597,\n",
       "        2.50055398,  2.46298441,  9.18451361,  4.14994533,  2.82015904,\n",
       "        3.0760355 ,  3.89838052,  3.25571834,  1.91822256,  2.62265425,\n",
       "       18.05578272,  6.08769655,  2.53425242,  4.1836747 ,  2.92696175,\n",
       "        5.7481222 , 19.93698557,  4.10602544,  2.89267756,  2.37209055,\n",
       "        6.98843931,  3.69210061,  2.2552608 ,  1.90565604,  1.78945587,\n",
       "        2.4996089 ,  1.79928494,  1.54867155,  4.74610113,  3.43529858,\n",
       "        6.88620076, 11.86487321,  1.47981149,  1.89223956,  9.02222658,\n",
       "       11.79400357,  8.0844971 ,  1.98390433,  2.61169208,  5.05222102,\n",
       "        5.3111346 ,  2.04411002,  4.01065989, 14.784235  , 14.55415291,\n",
       "       16.54060559,  3.47983836,  1.9993838 ,  9.54454958,  2.57474501,\n",
       "        5.29688869,  8.80031008,  3.55323552,  7.03776739,  1.3842169 ,\n",
       "        5.51399306,  7.24870436,  1.73950669,  3.9756923 ,  3.41467266,\n",
       "        3.7647517 ,  2.37190732,  6.55375096,  8.96526726,  4.08991527,\n",
       "        8.42247711,  2.97319179,  4.80487341,  5.83951496,  3.04662624,\n",
       "        4.14175933,  8.45048535,  2.07678622,  3.19899758,  6.89781825,\n",
       "       18.08270459,  5.94061644,  3.20712184,  1.72889673,  2.99205744,\n",
       "        3.06199823,  1.95137407,  8.28299535,  2.82815587,  1.63393815,\n",
       "        2.63900665,  2.61566971, 12.48332769,  2.20786202,  6.46263578,\n",
       "        3.2280166 ,  0.94562222,  2.30777094,  1.34111907,  2.86130841,\n",
       "        9.94459736,  4.02979444,  1.76632115,  3.38231588,  3.82556345,\n",
       "        2.66815801,  2.9012205 ,  2.98903692,  6.41458887,  8.38603152,\n",
       "        2.50947627,  5.63434281,  2.82114949,  1.05206812,  5.62154769,\n",
       "        3.41025385,  2.90060249,  1.23269896,  2.77412671,  6.45492245,\n",
       "        6.33486934,  1.61622011,  3.8739081 ,  3.32881072,  5.21380195,\n",
       "        3.97141451, 20.3470871 ,  3.93973237,  3.61532628,  5.34759507,\n",
       "        3.35074812,  2.30626555,  3.90666339,  3.61461454,  3.30758008,\n",
       "        2.88214099,  5.8174184 , 12.24354864,  1.17244354,  7.12551211,\n",
       "        9.26495584,  4.7120454 ,  2.20793765,  2.51205758,  2.38924778,\n",
       "       14.01655882,  4.33168704,  7.72609877,  3.4825034 ,  5.20279063,\n",
       "        3.02271378,  4.11561851,  5.70482249,  3.17575005,  2.5190907 ,\n",
       "        2.58429006,  4.86835902,  3.50084527,  3.28442234,  5.14612473,\n",
       "        3.80387841,  1.16871225,  4.60377968,  2.84769897,  2.93037128,\n",
       "        3.93683114,  3.61601313,  1.07811204,  6.02042375,  3.86550565,\n",
       "        3.30496554, 13.76506717,  1.82446049,  3.1459409 ,  8.90089423,\n",
       "        2.88979931,  5.32845553,  3.6656947 ,  2.76937354,  3.00692532,\n",
       "        8.23092089,  5.99055968,  1.99956248,  3.04584352,  3.61538421,\n",
       "        9.23962956,  8.09134589,  7.61465757,  2.91471294,  3.06323148,\n",
       "        2.52553421,  3.48722133,  0.70803595,  3.77808923,  3.67753494,\n",
       "        1.72340744, 10.33050122,  7.95158388,  0.2579315 ,  2.67832774,\n",
       "        2.60664706,  4.32441258,  4.58344348, 17.9447975 ,  8.99346336,\n",
       "        4.14052517,  1.3856313 ,  2.51675799,  1.67540631,  5.14982931,\n",
       "        6.55671555,  1.36739568,  3.60218264,  2.58915648, 14.08389878,\n",
       "       11.20538433,  3.16372405,  3.28000115,  1.17011783,  7.83780282,\n",
       "        8.83955253,  5.25936558,  2.2386539 ,  5.45796261,  5.31918127,\n",
       "        3.51421801,  3.53737403, 15.26562695,  1.61036683,  4.28442516,\n",
       "        1.89374107,  1.40367483,  2.591544  ,  2.90683871,  3.07452874,\n",
       "        3.9288673 ,  3.29918203,  5.69636927,  4.28861257,  6.08553532,\n",
       "        5.10647031,  4.33625654,  2.05681183,  4.95040285,  9.45344491,\n",
       "        3.21744684,  2.02041561,  6.46964941, 14.6491624 ,  4.04455183])"
      ]
     },
     "execution_count": 7,
     "metadata": {},
     "output_type": "execute_result"
    }
   ],
   "source": [
    "y = max_vehicle_power(mc_connector, \n",
    "                 mc_battery_size, \n",
    "                 mc_distance_driven, \n",
    "                 mc_range_buffer, \n",
    "                 mc_dispatch_time,\n",
    "                 mc_driving_eff, \n",
    "                 mc_inv_eff)\n",
    "y"
   ]
  },
  {
   "cell_type": "code",
   "execution_count": 6,
   "metadata": {},
   "outputs": [
    {
     "data": {
      "text/plain": [
       "array([ 3.84173248,  3.88372322,  1.69483432,  3.15830105,  2.42363752,\n",
       "        7.10213708, 12.92033402,  1.32443699,  5.32357607,  2.02484292,\n",
       "        2.47339526,  5.41047466,  1.50157263,  3.84438837,  2.55885975,\n",
       "        4.2907136 ,  4.87960772,  4.1531303 ,  2.93657353,  5.7492554 ,\n",
       "        3.13700047,  2.05698987,  6.88658835,  6.73945974,  1.76554594,\n",
       "        3.99677987,  9.10586608,  4.51401376, 15.49143924,  7.21951639,\n",
       "        3.44876856,  3.71199479,  1.85486529,  5.83839699, 10.02104756,\n",
       "        2.08293755,  4.26038646,  2.70130875,  5.09196959,  2.85195524,\n",
       "       13.66163165,  3.35316506,  5.15064591, 14.56498639,  1.86203634,\n",
       "       13.60556553,  0.99547925,  2.26899779,  2.5611706 , 12.05392642,\n",
       "       16.31184622,  5.93814051,  3.60482451,  4.32846285,  5.49631477,\n",
       "        6.018978  ,  4.48151924,  1.96036538, 21.04370252,  2.48882279,\n",
       "        9.57425119,  1.50119271,  3.09150134,  4.65948183,  5.00962332,\n",
       "        3.79082877,  1.89223048,  9.68953024,  4.90245998,  2.00376279,\n",
       "        2.59035561,  6.55430126,  2.87028037,  7.06338626,  9.89178934,\n",
       "        2.11553384,  4.59623523,  4.94079171,  2.21395624,  3.78396853,\n",
       "        1.84986018,  3.26985718,  2.84699161,  2.22565103,  1.69701784,\n",
       "        3.0845236 ,  2.29016533,  7.49655481,  3.27644642,  2.75841042,\n",
       "        1.26388795,  2.14969893,  5.10632299,  5.34047323,  4.51566521,\n",
       "        1.70581642,  4.88420905,  3.0085814 ,  3.13329438,  4.33304951,\n",
       "        2.61453055,  5.10480334,  4.07571174, 11.19968332, 11.1696079 ,\n",
       "        2.10942868,  6.81779787,  2.41209456,  2.97857916, 11.50134128,\n",
       "        1.46692125,  1.78488914,  7.04377201,  1.53892101,  3.86183043,\n",
       "        4.30161252,  3.57266969, 18.33044439,  6.95356315,  3.68557405,\n",
       "        4.3051718 ,  2.1670711 ,  5.55212227,  3.47847013, 12.75496433,\n",
       "       12.32830392,  3.67890931,  5.83537772,  2.21268511,  3.1358519 ,\n",
       "        4.60105489, 12.91876493,  7.59809658,  3.36740602,  2.6132124 ,\n",
       "       12.26267834,  3.6979016 ,  7.28854553,  2.57755183,  9.50671192,\n",
       "        4.14870257,  5.55607536,  1.80702538,  3.48629783,  5.99540207,\n",
       "        2.21670311,  9.35366828, 20.12825395,  2.88067404,  3.36372082,\n",
       "        2.77117809,  8.04838334, 13.80594689,  3.33605997,  8.21327004,\n",
       "        6.44305048,  6.6552862 ,  5.61695259,  2.44912394,  6.48792855,\n",
       "        4.85300827,  6.12037069,  1.7005711 ,  3.1313986 ,  6.05584194,\n",
       "        6.51164651,  5.16250328,  5.5346147 ,  2.48645349,  4.12564791,\n",
       "        3.12695794,  0.93497898,  1.93049074,  3.21712393,  2.94636303,\n",
       "        1.75803677,  1.20898122,  3.21754998,  3.4940087 ,  6.96479135,\n",
       "        2.3311341 ,  5.15093069,  3.28128626, 10.96497613,  7.2092779 ,\n",
       "       16.5271048 ,  4.2434918 ,  3.66781966,  2.16527739,  3.64343878,\n",
       "        2.59193344,  3.04665569,  4.76912469,  2.05102449, 13.09085891,\n",
       "       13.25482591,  8.46536234,  3.15604629,  2.78022764,  3.56654728,\n",
       "        3.40461525,  6.58893845,  2.94691941,  2.58822517,  1.2520243 ,\n",
       "        1.75120201,  4.239707  ,  4.46734682, 14.87107059,  2.14235975,\n",
       "        4.85089848,  4.91766216,  7.2539446 ,  2.02120768,  3.63687546,\n",
       "       14.36357818,  1.51792146,  3.71410357,  2.31556222,  1.82739175,\n",
       "        2.61589552,  2.7549486 ,  3.06265512,  4.26887028,  3.18394687,\n",
       "        7.68833275, 11.32824431,  2.85618401, 12.02288923,  1.8453667 ,\n",
       "        7.96604281,  5.2267218 , 10.69770553,  4.1442713 ,  4.09090218,\n",
       "        6.59000696,  4.21030952,  3.91574001,  3.36683345,  5.36645099,\n",
       "        1.88259365,  5.92820715,  3.32244338,  1.42012093,  2.33554137,\n",
       "        3.8436839 , 11.0485268 ,  5.26742578,  2.6118653 ,  5.58694003,\n",
       "        8.20845993,  2.25832338,  3.09446964,  2.57841659,  6.23603028,\n",
       "        8.3863831 ,  2.8833269 ,  1.46704021,  2.54853858,  7.54982047,\n",
       "        1.97475341,  1.36758012,  6.69916228,  3.54598503,  2.91006016,\n",
       "        3.79899354,  2.39203498,  5.62326073,  2.96592926,  3.13383978,\n",
       "        4.90881637,  2.99483061,  1.28539448, 12.49174169,  6.15897012,\n",
       "        1.03323803,  5.47220228,  3.83613887,  4.88917957,  0.06176591,\n",
       "        4.77606021,  5.58391666,  3.07760354,  2.98600721,  4.85780583,\n",
       "        2.47320895,  6.25626369,  3.37661567,  3.36677259, 19.28575996,\n",
       "        5.673517  ,  3.96107307,  9.98229826,  5.26260134,  3.74489496,\n",
       "        4.65535511,  2.85493057,  2.31005211,  3.03170793,  0.        ,\n",
       "        5.45186435,  3.08782257,  1.87506423,  3.85186377,  5.07562309,\n",
       "       19.43018312,  2.20185102,  1.33822222,  5.98521343,  2.3300089 ,\n",
       "        2.38803602, 13.13089579, 16.23346219,  4.19381496,  6.29707968,\n",
       "        1.52026297,  3.60258501,  0.26596002,  3.32004685,  2.90208831,\n",
       "        4.40900102, 18.59964458, 10.88476928,  3.10659631,  2.98610439,\n",
       "        2.99210007,  2.34553015,  3.74404915,  1.57448219,  9.97045319,\n",
       "        3.0855904 ,  3.14988535,  2.35427405,  3.1101319 ,  3.72729148,\n",
       "        1.43304192,  4.87059839,  3.13623304,  3.57238813,  3.88969424,\n",
       "        6.52744868,  3.701465  ,  2.13330362,  3.69617903,  2.68132878,\n",
       "        4.36256854,  4.52817286,  3.41800423,  6.47439964,  2.23517255,\n",
       "        2.31319669,  1.76000378,  3.58007606,  2.71607853,  8.82607713,\n",
       "        3.28068964,  3.80750188,  3.29357507,  4.420065  , 10.13396849,\n",
       "        3.35958811, 12.45740637,  1.75077654,  3.00881962,  6.51043382,\n",
       "        2.85993851,  2.50398416, 16.55947394,  9.00894304,  9.68339133,\n",
       "        2.46302334,  2.00082619,  2.74167307,  1.58134   , 15.2932055 ,\n",
       "        4.80594011,  3.13572162, 10.93451509,  5.42964485,  2.3406569 ,\n",
       "        3.24940982,  2.88623179, 12.41622847,  1.5243106 ,  4.98235762,\n",
       "        2.1124905 ,  2.68089068,  1.60626453,  4.92628536, 10.37078461,\n",
       "       12.58874843, 18.13808454,  6.65169266, 11.46635911,  2.77618258,\n",
       "        2.16227995,  7.15317828,  2.56284822,  2.40899597,  3.26633801,\n",
       "        2.6087767 ,  3.10370731,  4.49538591,  2.6005878 , 13.1669931 ,\n",
       "        3.4201717 ,  1.69755121,  3.99326038, 10.43825678,  4.31987835,\n",
       "        0.        ,  4.05281034,  2.48421709,  2.85550772,  5.11165567,\n",
       "        5.00790289,  6.88924952,  2.31772197,  3.64031652,  2.30293847,\n",
       "        3.61389246,  1.67237271,  4.22804996,  2.96437013, 19.79916643,\n",
       "        4.9781013 ,  4.04008406,  9.52099265,  3.88548716,  4.7659617 ,\n",
       "        6.14468418,  1.89372521,  7.80068427,  2.25880352,  2.42133814,\n",
       "        3.60882848,  6.58258613,  8.30643932,  4.75148827, 14.6865385 ,\n",
       "        2.90003819,  4.62697334,  9.61508428,  3.0309561 ,  1.546417  ,\n",
       "        6.2403867 ,  3.92956413,  5.06328556,  3.03563516,  2.0029281 ,\n",
       "        5.10008868,  4.68171872,  3.5772753 ,  3.71291906,  1.24208285,\n",
       "        7.96768062,  1.60368899,  6.07927707,  2.74394266,  5.20987865,\n",
       "        3.17827483,  3.94437349,  2.28042148, 12.83118964,  3.53363377,\n",
       "        3.58470415,  2.72889785,  0.52977751,  2.95309519,  7.45040837,\n",
       "        3.12201856,  1.89114743,  3.50028434,  2.9627664 ,  4.1171957 ,\n",
       "        3.93831499,  2.34225562, 19.25212559,  0.77346676,  5.59715114,\n",
       "        1.64206024,  3.25555388, 11.06552768, 18.02721865,  4.74924627,\n",
       "        1.18095606,  2.00297328,  7.20061991,  3.29164083,  9.72249452,\n",
       "        3.06077834,  8.84894655,  3.97274685,  3.33722603,  5.50493831,\n",
       "        2.74116865,  4.20807135, 18.95477501,  4.01403134,  1.77594386,\n",
       "       21.66994657,  3.19385057,  3.21656725,  3.40072384,  2.91905031,\n",
       "        4.06301451,  1.42199165,  6.76682054,  3.63818736, 18.45739368,\n",
       "        1.13938201,  0.89874582,  1.78795263,  3.61422057,  8.70162665,\n",
       "       11.00868602,  2.80629076,  3.57830828,  4.26973298, 10.63589461,\n",
       "        9.10902574,  4.20667258,  0.50586536,  3.02778138,  5.51890041,\n",
       "        3.1266839 ,  0.72905611,  6.2125514 ,  3.00236618,  2.7283893 ,\n",
       "        7.74241809, 15.06744174,  3.66901604,  2.31090369,  2.03985113,\n",
       "        6.70207826, 10.17034403,  1.92584893,  8.07719271,  3.14765896,\n",
       "        3.30175602,  4.11508179,  2.19694676,  1.99000217, 11.90659822,\n",
       "        1.79438047,  3.21733372,  3.27797428,  2.69472702,  3.528846  ,\n",
       "        1.97444064,  3.46722823,  3.26104618,  7.88425233,  7.88811844,\n",
       "        3.27057507,  6.65510726,  0.94898244,  1.93239018,  1.24232712,\n",
       "        1.89575447,  2.85290611,  9.54039871,  3.88771137,  3.07647228,\n",
       "        8.54622604,  5.42572115,  3.25040504,  3.58221849,  3.10286757,\n",
       "        5.54336723,  1.71655432,  3.68911445,  6.77461477,  2.23941791,\n",
       "        4.6517228 ,  3.11926378,  4.82533707,  7.44253283,  9.39362253,\n",
       "        3.57618421,  8.9141863 ,  1.87462498,  2.07491258,  5.90933146,\n",
       "        9.08484634, 17.72138469,  8.28830797,  3.89974784,  5.31628644,\n",
       "        6.99037236,  5.81724736,  2.71809962,  7.90314263,  8.5877533 ,\n",
       "       18.63156938,  8.80764168,  2.49348401,  1.45931001,  5.03666897,\n",
       "        4.05412206,  1.74345312,  2.54300962,  2.3735857 ,  3.93737741,\n",
       "        3.72514953,  2.8372025 ,  4.51718195,  1.75268542,  3.11048309,\n",
       "        2.14704189,  4.63360726,  3.01250355,  9.07797172,  1.39539516,\n",
       "        2.40487755, 12.56789625,  5.83751395,  4.59843962,  1.89263711,\n",
       "        3.02140871, 10.49849493,  4.06910656,  3.43131157,  3.37931498,\n",
       "        2.79084945,  4.93276724,  6.57292099,  1.15081004,  4.94040264,\n",
       "        5.14276017,  0.69084681,  2.43424788,  1.21352994,  3.28614517,\n",
       "        4.15984276,  4.80338662,  3.56106407,  6.12384117,  2.01221464,\n",
       "        9.64875234,  3.00484053, 14.02241515,  6.0589717 ,  3.53403165,\n",
       "        6.10201744,  1.60010894,  3.39880328,  1.64042276, 10.24767182,\n",
       "        2.97425509,  1.93274636,  3.39970842,  5.6786979 , 17.73290388,\n",
       "        3.38488719,  5.11124371,  2.74404594,  2.9664381 ,  1.78082237,\n",
       "        3.80820526, 11.59577718, 10.42771793,  2.68971365,  4.32320503,\n",
       "        6.100042  ,  6.89565497,  8.21761865, 11.19435177,  3.89408896,\n",
       "        4.27814819,  1.60314252,  2.46941135,  1.41625314,  3.60528653,\n",
       "        3.13590004,  0.97388253,  1.87995601,  2.09173235,  0.87243214,\n",
       "        4.77475068,  8.80760353, 15.78552216,  3.95798752,  3.52465301,\n",
       "        2.92355717,  3.59910692,  2.63794092,  1.50363084,  3.53626625,\n",
       "       16.30855669,  0.87917765,  8.1167817 , 17.6034805 ,  5.99139094,\n",
       "       21.29723182,  4.31607512,  1.60983552, 17.86187412,  7.04463003,\n",
       "        2.71503129,  2.60849409,  4.78418354,  5.73722249,  1.89751994,\n",
       "        2.61080431, 12.56192185,  2.56723745,  6.73459996,  2.52566427,\n",
       "        5.27906474,  4.87746181,  2.53568168,  8.37451379,  4.71979191,\n",
       "        2.86422596,  2.78725195,  2.03674881, 14.22977164,  2.55739877,\n",
       "        3.57572589, 15.42162406, 19.62847585, 11.67358895,  2.56490474,\n",
       "        6.8044508 ,  3.74591729,  3.2087505 ,  4.53719287,  9.14649939,\n",
       "        3.07210332,  4.61639602,  1.31277998,  2.489389  ,  2.96788462,\n",
       "       10.14117115,  9.43594467,  7.73763703,  4.09410757,  4.75076703,\n",
       "        3.71377201,  2.60705015, 14.41688229,  2.33096306,  4.71931173,\n",
       "       12.43605738, 11.00745741,  2.77251072, 10.30096117,  4.06898533,\n",
       "        6.56255414,  3.67066028,  4.97691382,  7.2249928 ,  1.54475597,\n",
       "        2.50055398,  2.46298441,  9.18451361,  4.14994533,  2.82015904,\n",
       "        3.0760355 ,  3.89838052,  3.25571834,  1.91822256,  2.62265425,\n",
       "       18.05578272,  6.08769655,  2.53425242,  4.1836747 ,  2.92696175,\n",
       "        5.7481222 , 19.93698557,  4.10602544,  2.89267756,  2.37209055,\n",
       "        6.98843931,  3.69210061,  2.2552608 ,  1.90565604,  1.78945587,\n",
       "        2.4996089 ,  1.79928494,  1.54867155,  4.74610113,  3.43529858,\n",
       "        6.88620076, 11.86487321,  1.47981149,  1.89223956,  9.02222658,\n",
       "       11.79400357,  8.0844971 ,  1.98390433,  2.61169208,  5.05222102,\n",
       "        5.3111346 ,  2.04411002,  4.01065989, 14.784235  , 14.55415291,\n",
       "       16.54060559,  3.47983836,  1.9993838 ,  9.54454958,  2.57474501,\n",
       "        5.29688869,  8.80031008,  3.55323552,  7.03776739,  1.3842169 ,\n",
       "        5.51399306,  7.24870436,  1.73950669,  3.9756923 ,  3.41467266,\n",
       "        3.7647517 ,  2.37190732,  6.55375096,  8.96526726,  4.08991527,\n",
       "        8.42247711,  2.97319179,  4.80487341,  5.83951496,  3.04662624,\n",
       "        4.14175933,  8.45048535,  2.07678622,  3.19899758,  6.89781825,\n",
       "       18.08270459,  5.94061644,  3.20712184,  1.72889673,  2.99205744,\n",
       "        3.06199823,  1.95137407,  8.28299535,  2.82815587,  1.63393815,\n",
       "        2.63900665,  2.61566971, 12.48332769,  2.20786202,  6.46263578,\n",
       "        3.2280166 ,  0.94562222,  2.30777094,  1.34111907,  2.86130841,\n",
       "        9.94459736,  4.02979444,  1.76632115,  3.38231588,  3.82556345,\n",
       "        2.66815801,  2.9012205 ,  2.98903692,  6.41458887,  8.38603152,\n",
       "        2.50947627,  5.63434281,  2.82114949,  1.05206812,  5.62154769,\n",
       "        3.41025385,  2.90060249,  1.23269896,  2.77412671,  6.45492245,\n",
       "        6.33486934,  1.61622011,  3.8739081 ,  3.32881072,  5.21380195,\n",
       "        3.97141451, 20.3470871 ,  3.93973237,  3.61532628,  5.34759507,\n",
       "        3.35074812,  2.30626555,  3.90666339,  3.61461454,  3.30758008,\n",
       "        2.88214099,  5.8174184 , 12.24354864,  1.17244354,  7.12551211,\n",
       "        9.26495584,  4.7120454 ,  2.20793765,  2.51205758,  2.38924778,\n",
       "       14.01655882,  4.33168704,  7.72609877,  3.4825034 ,  5.20279063,\n",
       "        3.02271378,  4.11561851,  5.70482249,  3.17575005,  2.5190907 ,\n",
       "        2.58429006,  4.86835902,  3.50084527,  3.28442234,  5.14612473,\n",
       "        3.80387841,  1.16871225,  4.60377968,  2.84769897,  2.93037128,\n",
       "        3.93683114,  3.61601313,  1.07811204,  6.02042375,  3.86550565,\n",
       "        3.30496554, 13.76506717,  1.82446049,  3.1459409 ,  8.90089423,\n",
       "        2.88979931,  5.32845553,  3.6656947 ,  2.76937354,  3.00692532,\n",
       "        8.23092089,  5.99055968,  1.99956248,  3.04584352,  3.61538421,\n",
       "        9.23962956,  8.09134589,  7.61465757,  2.91471294,  3.06323148,\n",
       "        2.52553421,  3.48722133,  0.70803595,  3.77808923,  3.67753494,\n",
       "        1.72340744, 10.33050122,  7.95158388,  0.2579315 ,  2.67832774,\n",
       "        2.60664706,  4.32441258,  4.58344348, 17.9447975 ,  8.99346336,\n",
       "        4.14052517,  1.3856313 ,  2.51675799,  1.67540631,  5.14982931,\n",
       "        6.55671555,  1.36739568,  3.60218264,  2.58915648, 14.08389878,\n",
       "       11.20538433,  3.16372405,  3.28000115,  1.17011783,  7.83780282,\n",
       "        8.83955253,  5.25936558,  2.2386539 ,  5.45796261,  5.31918127,\n",
       "        3.51421801,  3.53737403, 15.26562695,  1.61036683,  4.28442516,\n",
       "        1.89374107,  1.40367483,  2.591544  ,  2.90683871,  3.07452874,\n",
       "        3.9288673 ,  3.29918203,  5.69636927,  4.28861257,  6.08553532,\n",
       "        5.10647031,  4.33625654,  2.05681183,  4.95040285,  9.45344491,\n",
       "        3.21744684,  2.02041561,  6.46964941, 14.6491624 ,  4.04455183])"
      ]
     },
     "execution_count": 6,
     "metadata": {},
     "output_type": "execute_result"
    }
   ],
   "source": [
    "max_vehicle_power(data[0], data[1], data[2],data[3],data[4],data[5],data[6])"
   ]
  },
  {
   "cell_type": "code",
   "execution_count": 27,
   "metadata": {},
   "outputs": [
    {
     "data": {
      "text/plain": [
       "array([1.03506904e+01, 3.57336832e+00, 2.00410523e+00, 9.13570782e+00,\n",
       "       2.02513798e+00, 7.65208501e+00, 7.60909759e+00, 1.03495464e+01,\n",
       "       2.32756480e+00, 1.33407569e+01, 1.23482942e+00, 2.45425808e+00,\n",
       "       5.02565983e+00, 5.27834851e+00, 9.52386972e+00, 3.22028236e+00,\n",
       "       4.93630166e+00, 2.40642845e+00, 4.81270253e+00, 3.64216228e+00,\n",
       "       1.68389421e+00, 6.49267683e+00, 3.44080587e+00, 1.95683514e+01,\n",
       "       6.14508815e+00, 2.19323388e+00, 2.40086477e+00, 5.32596425e+00,\n",
       "       5.40240146e+00, 2.29614083e+00, 5.50504701e+00, 2.42268194e+00,\n",
       "       2.76530649e+00, 1.02084759e+01, 2.77228401e+00, 1.03458639e+01,\n",
       "       3.24335126e+00, 2.61551942e+00, 1.35574073e+00, 3.52341903e+00,\n",
       "       6.66841986e+00, 7.20637839e+00, 3.86225976e+00, 3.27853225e+00,\n",
       "       1.15775183e+01, 3.35532128e+00, 8.61456140e+00, 2.42012023e+00,\n",
       "       3.15884414e+00, 3.46535243e+00, 3.27705137e+00, 3.68662527e+00,\n",
       "       2.62254242e+00, 2.27590246e+00, 8.48976504e+00, 3.75941471e+00,\n",
       "       2.85637711e+00, 1.00751678e+01, 4.23724075e+00, 1.78964674e+00,\n",
       "       4.64125771e+00, 0.00000000e+00, 3.12680464e+00, 4.84511431e+00,\n",
       "       3.04152878e+00, 6.49373906e+00, 6.82898991e+00, 4.41626595e+00,\n",
       "       1.35993247e+00, 8.07515675e+00, 2.26112979e+00, 3.01338259e+00,\n",
       "       2.30084931e+00, 3.02317717e+00, 1.06178812e+01, 1.69938256e+00,\n",
       "       3.34727672e+00, 1.32982985e+01, 3.40342587e+00, 3.36449345e+00,\n",
       "       1.40129085e+00, 2.16368850e+00, 8.98815415e+00, 4.04416345e+00,\n",
       "       1.41829949e+00, 4.38391104e+00, 8.35290648e+00, 5.32728609e+00,\n",
       "       4.76292354e+00, 2.42230100e+00, 2.61329825e+00, 5.33265441e+00,\n",
       "       1.70350229e+00, 3.59711804e+00, 3.58229767e+00, 2.03850664e+00,\n",
       "       3.08944151e+00, 2.97040538e+00, 1.51364446e+01, 6.78080531e+00,\n",
       "       1.46755047e+00, 1.33854838e+01, 1.07940374e+00, 3.10562563e+00,\n",
       "       3.31128106e+00, 2.80218167e+00, 8.30475586e+00, 2.15834522e+00,\n",
       "       1.11410783e+01, 2.32928044e+00, 3.59007488e+00, 1.83888792e+00,\n",
       "       6.76298105e+00, 4.52312649e+00, 2.79536019e+00, 2.63369384e+00,\n",
       "       6.98382179e+00, 2.52038385e+00, 2.97684891e+00, 2.03121575e+00,\n",
       "       5.38400718e+00, 3.61661165e+00, 1.04830254e+01, 6.16508446e+00,\n",
       "       2.25255487e+00, 6.22157460e+00, 1.46187592e+01, 3.04694372e+00,\n",
       "       1.88283487e+01, 2.39221859e+00, 4.67513978e+00, 1.40313018e+00,\n",
       "       7.21506247e-01, 6.77169691e+00, 1.06279551e+01, 6.96388958e+00,\n",
       "       9.86471597e+00, 1.62445214e+00, 2.19622278e+00, 5.51679574e+00,\n",
       "       1.68251528e+00, 1.92890275e+01, 6.01475337e+00, 3.71135840e+00,\n",
       "       1.48817269e+00, 4.24192696e+00, 4.13757405e+00, 2.79600469e+00,\n",
       "       3.58766393e+00, 3.15311095e+00, 3.55400502e+00, 6.41172415e+00,\n",
       "       1.11484634e+00, 9.47637436e+00, 4.23508713e+00, 1.87781678e+00,\n",
       "       1.66799354e+00, 2.00224915e+00, 8.07486570e+00, 3.63952568e+00,\n",
       "       2.74702672e+00, 2.83714521e+00, 6.61664937e+00, 5.64201134e+00,\n",
       "       6.51321908e+00, 5.94579554e+00, 2.49484572e+00, 4.43433583e+00,\n",
       "       2.68977183e+00, 6.90791502e+00, 5.14140458e+00, 2.04383227e+00,\n",
       "       4.71815635e+00, 9.75185534e+00, 2.48015835e+00, 1.44283856e+00,\n",
       "       2.51100888e+00, 1.20576532e+00, 6.78210401e+00, 2.30216635e+00,\n",
       "       6.79887696e+00, 3.56543594e+00, 8.95361366e+00, 8.72717787e+00,\n",
       "       2.37837428e+00, 4.98346876e+00, 3.48983817e+00, 8.36616331e+00,\n",
       "       1.24198104e+01, 3.69189251e+00, 1.00048167e+01, 1.35111013e+00,\n",
       "       3.65954548e+00, 4.33555851e-02, 2.35990769e+00, 6.09566539e+00,\n",
       "       3.16393888e+00, 1.06892184e+01, 4.74043477e+00, 5.20549152e+00,\n",
       "       2.94815287e-03, 3.26098698e+00, 2.02585863e+00, 1.93902867e+01,\n",
       "       3.61901500e+00, 4.60714167e+00, 2.29119418e+00, 1.92714201e+00,\n",
       "       2.43739941e+00, 2.74035481e+00, 3.28955074e+00, 4.55216498e+00,\n",
       "       1.89762961e+01, 4.14274073e+00, 2.30969645e+00, 1.99443472e+00,\n",
       "       2.73945875e+00, 5.22766966e+00, 3.70762594e+00, 2.20698275e+00,\n",
       "       3.31928135e+00, 3.53516266e+00, 3.58741739e+00, 1.97726692e+00,\n",
       "       5.06592902e+00, 3.70720571e+00, 5.48844066e+00, 1.31148159e+01,\n",
       "       2.31642442e+00, 2.55130228e+00, 3.29910473e+00, 4.90971065e+00,\n",
       "       5.48019163e+00, 4.00446677e+00, 1.95443192e+00, 1.06728009e+01,\n",
       "       2.94674612e+00, 8.24832432e+00, 3.52699036e+00, 9.02939872e+00,\n",
       "       2.41838485e+00, 2.81349897e+00, 1.46113197e+00, 2.27383347e+00,\n",
       "       2.63737739e+00, 1.51580427e+00, 7.59587953e+00, 4.52495525e+00,\n",
       "       4.71527754e+00, 3.44331845e+00, 4.46898969e-01, 3.00566834e+00,\n",
       "       3.17144185e+00, 2.45876347e+00, 4.18711482e+00, 1.96733964e+01,\n",
       "       6.20256549e+00, 4.91943671e+00, 2.96277125e+00, 1.41327700e+01,\n",
       "       2.08094706e+01, 9.57674609e+00, 3.63054454e+00, 3.19606547e+00,\n",
       "       1.12936349e+01, 4.12025470e+00, 3.71283615e+00, 4.53234617e+00,\n",
       "       6.02452963e+00, 5.30724495e+00, 3.62970329e+00, 1.99244677e+00,\n",
       "       1.16334001e+01, 1.76873521e+01, 3.16529505e+00, 3.03820249e+00,\n",
       "       3.31618524e+00, 1.14476550e+01, 2.10080092e+00, 2.31505639e+00,\n",
       "       3.21141130e+00, 5.29269270e+00, 3.02276342e+00, 3.56424062e+00,\n",
       "       1.71619169e+01, 2.98391002e+00, 1.14961016e+01, 2.13172281e+00,\n",
       "       3.21275211e+00, 4.35518940e-01, 2.33022372e+00, 2.23670386e+00,\n",
       "       2.93523464e+00, 7.31406173e+00, 3.10464908e+00, 3.41823374e+00,\n",
       "       1.90803693e+00, 3.47647778e+00, 1.06956536e+01, 2.86806812e+00,\n",
       "       2.93862227e+00, 2.83145329e+00, 3.81283923e+00, 3.32796331e+00,\n",
       "       3.20829716e+00, 6.63522747e+00, 1.25427974e+01, 2.86903945e+00,\n",
       "       4.41446470e+00, 3.96891646e+00, 4.83979070e+00, 2.07011294e+00,\n",
       "       7.08535678e+00, 3.30452864e+00, 3.05897228e+00, 7.43976442e+00,\n",
       "       3.35461002e+00, 6.50324595e+00, 7.08747922e+00, 3.56644269e+00,\n",
       "       1.63519787e+01, 3.46732648e+00, 2.02318758e+00, 4.46441948e+00,\n",
       "       7.64255893e+00, 2.63786391e+00, 1.25216246e+00, 2.43839658e+00,\n",
       "       2.06834004e+00, 1.69029720e+00, 2.52750900e+00, 4.06290937e+00,\n",
       "       1.13465225e+01, 1.22244460e+00, 6.91800552e+00, 2.53170907e+00,\n",
       "       1.83083323e+00, 2.93031670e+00, 1.93405729e+00, 3.63468166e+00,\n",
       "       1.86749055e+00, 1.13894127e+00, 2.24369626e+00, 4.70737464e+00,\n",
       "       2.14084064e+00, 4.88663472e+00, 2.63295833e+00, 2.71739801e+00,\n",
       "       1.84570848e+00, 2.55510430e+00, 1.36332924e+01, 2.22350645e+00,\n",
       "       4.65182458e+00, 5.23214340e+00, 1.49465228e+00, 9.36106011e+00,\n",
       "       1.34621624e+01, 7.62460538e+00, 2.38730013e+00, 8.42842259e+00,\n",
       "       3.64369945e+00, 3.58467311e+00, 2.10778479e+00, 3.35622151e+00,\n",
       "       2.57137227e+00, 2.03361575e+00, 7.21980531e+00, 2.44093474e+00,\n",
       "       1.31809060e+01, 1.81620962e+01, 1.91258066e+00, 2.32757661e+00,\n",
       "       1.43728753e+01, 2.85028919e+00, 7.27346423e+00, 3.34971630e+00,\n",
       "       4.63061910e+00, 2.81194174e+00, 2.73496945e+00, 1.13610506e+01,\n",
       "       3.82316933e+00, 6.14524046e+00, 2.02447915e+00, 5.83368713e+00,\n",
       "       2.37806684e+00, 1.27892483e+00, 1.88761408e+00, 2.09470181e+01,\n",
       "       2.48324860e+00, 3.85620262e+00, 3.23360638e+00, 2.39751379e+00,\n",
       "       6.67399002e+00, 1.32660264e+01, 3.81056017e+00, 3.40423418e+00,\n",
       "       1.84856389e+00, 8.31287787e+00, 4.77062621e+00, 5.53631262e+00,\n",
       "       2.16544723e+00, 7.23809494e+00, 2.97946822e+00, 2.29145688e+00,\n",
       "       8.98154169e+00, 3.88086496e+00, 9.71986551e+00, 3.91147792e+00,\n",
       "       4.62253935e+00, 2.99453740e+00, 8.99778771e+00, 1.53777932e+01,\n",
       "       2.59290166e+00, 3.92742001e+00, 3.11481538e+00, 9.07145845e-01,\n",
       "       6.03768114e+00, 5.30390188e+00, 5.04972361e+00, 2.94108966e+00,\n",
       "       3.34825432e+00, 5.53299457e+00, 1.73622150e+00, 2.03628114e+00,\n",
       "       2.48331363e+00, 4.54630254e+00, 3.29330509e+00, 3.24704875e+00,\n",
       "       1.45193268e+01, 5.58653073e+00, 6.53326453e+00, 2.12174150e+00,\n",
       "       9.47742531e+00, 7.60189136e+00, 8.39946457e+00, 2.55956801e+00,\n",
       "       6.11535653e+00, 6.40022190e+00, 2.90436975e+00, 8.23075452e+00,\n",
       "       3.39630339e+00, 3.76258832e+00, 1.84547267e+00, 2.60159913e+00,\n",
       "       3.96240130e+00, 1.35876577e+01, 3.02256832e+00, 3.44710818e+00,\n",
       "       5.78805050e+00, 1.13037518e+00, 1.22856550e+01, 4.15607875e+00,\n",
       "       2.78289614e+00, 2.50589481e+00, 3.12948106e+00, 3.26173616e+00,\n",
       "       7.57309466e+00, 1.10242821e+01, 3.44527007e+00, 3.54484656e+00,\n",
       "       2.38574764e+00, 1.57608513e+01, 1.30166399e+00, 3.03860557e+00,\n",
       "       4.60125131e+00, 1.81401887e+01, 1.45192370e+00, 4.66075533e+00,\n",
       "       3.93785064e+00, 6.52178460e+00, 7.18150310e-01, 2.62628439e+00,\n",
       "       1.63669121e+01, 3.14062022e+00, 1.70328660e+00, 6.06705261e+00,\n",
       "       3.78646605e+00, 7.29288806e+00, 3.53345238e+00, 6.61848498e+00,\n",
       "       4.98604494e+00, 4.43821563e+00, 5.94772243e+00, 2.66876649e+00,\n",
       "       4.30669175e+00, 2.16510113e+00, 1.12837114e+01, 3.55291011e+00,\n",
       "       3.55872148e+00, 2.85432431e+00, 9.60852729e+00, 1.90125213e+00,\n",
       "       3.00038708e+00, 1.53437627e+01, 2.19290060e+01, 3.13305532e+00,\n",
       "       5.90602668e+00, 2.92069013e+00, 2.61594347e+00, 1.33966669e+01,\n",
       "       6.53181628e+00, 1.06205306e+01, 9.22244777e+00, 3.38029026e+00,\n",
       "       2.93560115e+00, 1.16007693e+01, 3.06387522e+00, 5.78743048e+00,\n",
       "       2.80686821e+00, 5.02816191e+00, 1.32110128e+01, 5.88815817e+00,\n",
       "       1.29967659e+00, 3.52875517e+00, 2.47290618e+00, 1.90059339e+00,\n",
       "       6.94922411e+00, 9.46429036e+00, 4.89185316e+00, 3.50615803e+00,\n",
       "       2.78410130e+00, 2.10179557e+00, 3.87371365e+00, 2.94469415e+00,\n",
       "       3.84555801e+00, 4.70855526e+00, 2.07834725e+00, 7.10661362e+00,\n",
       "       8.30470131e+00, 3.24657232e+00, 1.29565474e+01, 9.55455769e+00,\n",
       "       1.17648955e+01, 1.95998026e+00, 1.86720445e+00, 3.39141334e+00,\n",
       "       1.93449697e+00, 6.46944262e+00, 1.92978643e+00, 1.86921398e+01,\n",
       "       3.71156843e+00, 2.20756266e+00, 8.21170551e-01, 4.78139253e+00,\n",
       "       6.94367503e+00, 6.76278810e+00, 8.42521289e+00, 4.81446784e+00,\n",
       "       9.20726943e+00, 4.94310674e+00, 1.77451466e+01, 1.92388223e+00,\n",
       "       3.13188999e+00, 5.95924440e+00, 3.23901323e+00, 1.90429947e+00,\n",
       "       2.70565522e+00, 1.73746256e+00, 5.21108532e+00, 6.55415639e+00,\n",
       "       1.28070706e+01, 6.57235841e+00, 1.06231295e+01, 3.83276050e+00,\n",
       "       4.06204239e+00, 3.48006296e+00, 1.56080185e+00, 5.22730222e+00,\n",
       "       4.23405631e+00, 3.67519565e+00, 2.81429673e+00, 2.23463473e+00,\n",
       "       4.44068342e+00, 5.18922971e+00, 2.94889311e+00, 1.66907533e+00,\n",
       "       3.84833024e+00, 8.81122303e+00, 5.23333844e+00, 4.02515191e+00,\n",
       "       4.07486907e+00, 2.52524252e+00, 5.78478944e+00, 3.15090584e+00,\n",
       "       2.42814223e+00, 1.12292826e+00, 1.67621169e+00, 3.18967824e+00,\n",
       "       4.83383875e+00, 1.07371343e+01, 2.61051301e+00, 3.27488959e+00,\n",
       "       2.43384185e+00, 1.05499948e+01, 1.87387357e+01, 3.35104856e+00,\n",
       "       2.14018019e+00, 1.04047564e+01, 1.21589239e+01, 6.62556753e+00,\n",
       "       7.63461393e+00, 2.12291027e+00, 2.68553474e+00, 1.98929862e+00,\n",
       "       8.12486985e+00, 3.72810061e+00, 5.09978487e+00, 3.91519780e+00,\n",
       "       6.58516053e+00, 1.17722288e+00, 3.26978964e+00, 2.25262121e+00,\n",
       "       3.15084391e+00, 1.43015354e+00, 4.05216721e+00, 6.53255139e+00,\n",
       "       3.14619997e+00, 1.28428200e+01, 2.23703612e+00, 8.51112623e+00,\n",
       "       2.44414872e-02, 6.26552406e+00, 3.24239354e+00, 1.48177327e+00,\n",
       "       1.37928965e+00, 3.36698556e+00, 1.39209936e+00, 7.44352702e+00,\n",
       "       3.53866029e+00, 3.43151913e+00, 2.24659779e+00, 2.43960462e+00,\n",
       "       1.35739809e+00, 2.36138400e+00, 1.17402515e+01, 8.15897151e-01,\n",
       "       2.36694632e+00, 8.16260160e+00, 3.21996816e+00, 2.31932147e+00,\n",
       "       3.21388223e+00, 4.03147263e+00, 1.19291338e+01, 9.99389352e+00,\n",
       "       2.32150396e+00, 3.27124293e+00, 4.35181564e+00, 9.62459502e+00,\n",
       "       2.26072083e+00, 3.47068213e+00, 1.72889674e+01, 1.03224092e+01,\n",
       "       1.49274062e+01, 5.36595617e+00, 3.23916471e+00, 3.43155119e+00,\n",
       "       6.67755270e+00, 1.24507095e+01, 1.38037660e+01, 3.97774192e+00,\n",
       "       3.16096706e+00, 2.12944672e+01, 6.92849357e+00, 2.95363215e+00,\n",
       "       2.18416912e+00, 5.39862358e+00, 8.43377771e+00, 6.20600472e+00,\n",
       "       5.34071859e+00, 1.46577637e+00, 3.30372224e+00, 2.57128254e+00,\n",
       "       7.82955244e+00, 6.22788736e+00, 2.06118533e+01, 2.91348224e+00,\n",
       "       5.88698419e+00, 5.51696774e+00, 3.26057589e+00, 7.52130659e+00,\n",
       "       5.16511851e+00, 4.97618726e+00, 7.16391054e+00, 5.96631004e+00,\n",
       "       2.88051961e+00, 2.00185660e+00, 1.13937610e+00, 3.34946568e+00,\n",
       "       2.45998413e+00, 1.97678804e+01, 1.68645009e+00, 7.89995930e-01,\n",
       "       3.00271302e+00, 2.10995429e+00, 2.59261214e+00, 3.15765691e+00,\n",
       "       1.13625457e+00, 8.49771350e+00, 7.71781195e+00, 7.92388306e+00,\n",
       "       4.62804251e+00, 6.41861785e+00, 2.90220185e+00, 2.59154972e+00,\n",
       "       3.43844184e+00, 1.56244344e+00, 1.36209918e+00, 2.99898067e+00,\n",
       "       5.25678404e+00, 9.17136060e+00, 1.87851729e+01, 2.05106159e+00,\n",
       "       2.32226065e+00, 3.61618261e+00, 5.75767883e+00, 3.88475896e+00,\n",
       "       1.22490093e+01, 3.56064246e+00, 4.72664669e+00, 4.61108720e+00,\n",
       "       2.64809180e+00, 2.57963049e+00, 6.14287427e+00, 9.27519599e+00,\n",
       "       1.53463620e+00, 3.04257150e+00, 2.62090227e+00, 6.09257186e+00,\n",
       "       6.20683084e+00, 2.95732852e+00, 3.01504898e+00, 4.75689511e+00,\n",
       "       4.21573743e+00, 4.25004167e+00, 2.94634563e+00, 3.41546253e+00,\n",
       "       5.77594140e+00, 4.89025544e+00, 2.89279795e+00, 2.85624002e+00,\n",
       "       2.05839152e+01, 5.29664832e+00, 1.07354116e+01, 2.83051797e+00,\n",
       "       5.25354204e+00, 3.51837456e+00, 7.56645475e+00, 8.30542952e+00,\n",
       "       3.37853703e+00, 4.15782594e+00, 9.61779867e+00, 4.59297342e+00,\n",
       "       5.65211891e+00, 1.77074531e+01, 1.24944003e+00, 4.91428562e+00,\n",
       "       4.58935016e+00, 3.28806389e+00, 3.57245423e+00, 3.47249140e+00,\n",
       "       3.69081702e+00, 1.24050304e+00, 2.48580758e+00, 3.09644360e+00,\n",
       "       1.33265864e+01, 8.13482496e+00, 1.83513770e+00, 3.77232874e+00,\n",
       "       2.88876047e+00, 9.89919557e+00, 3.55145330e+00, 3.45341390e+00,\n",
       "       5.50138526e+00, 1.60533681e+00, 9.30525239e+00, 1.86796793e+00,\n",
       "       1.74726362e+01, 4.10950373e+00, 3.39152925e+00, 2.34078153e+00,\n",
       "       2.55280729e+00, 1.76697565e+00, 3.96794806e+00, 3.80261788e+00,\n",
       "       5.30671147e+00, 9.91513230e+00, 2.33946563e+00, 5.38994119e+00,\n",
       "       2.65079710e+00, 6.84654583e+00, 2.28215125e+00, 1.48125172e+00,\n",
       "       5.28321970e+00, 4.58573539e+00, 3.12441103e+00, 3.49178118e+00,\n",
       "       5.86111829e+00, 8.46926701e+00, 1.49108512e+00, 2.59363628e+00,\n",
       "       2.14680577e+00, 4.13048802e+00, 7.42873454e+00, 3.58535317e+00,\n",
       "       2.63494624e+00, 3.74561198e+00, 2.09145740e+00, 9.11076178e+00,\n",
       "       2.08345260e+00, 8.02398151e-01, 1.82443379e+00, 4.01377260e+00,\n",
       "       2.97708128e+00, 2.19902128e+00, 1.17543463e+01, 2.19134546e+01,\n",
       "       7.89189911e+00, 3.20271777e+00, 1.08338370e+01, 2.61223173e+00,\n",
       "       3.91367735e+00, 4.02734328e+00, 8.03988243e-01, 4.64835324e+00,\n",
       "       3.13422062e+00, 1.10312861e+01, 2.03653592e+00, 6.04598175e-01,\n",
       "       2.52943181e+00, 3.10226119e+00, 4.05769531e+00, 1.68252781e+00,\n",
       "       1.70237009e+00, 5.43752466e+00, 4.41508369e+00, 1.25315503e+00,\n",
       "       1.14324895e+01, 1.55925518e+01, 8.03200957e+00, 4.54400276e+00,\n",
       "       6.57021686e+00, 4.72714718e+00, 1.99353783e+01, 3.02723426e+00,\n",
       "       1.08761014e+00, 3.68691802e+00, 3.24221388e+00, 2.83434067e+00,\n",
       "       5.39385323e+00, 4.88189517e+00, 3.77598639e+00, 1.71409727e+01,\n",
       "       2.93379115e+00, 3.51768446e+00, 7.48799317e+00, 3.22645056e+00,\n",
       "       2.31160277e+00, 2.95067842e+00, 2.98468868e+00, 4.40536345e+00,\n",
       "       1.58942019e+00, 3.30437788e+00, 1.08033705e+01, 5.60369974e+00,\n",
       "       8.88750092e+00, 1.71669626e+00, 2.48870032e+00, 2.99462711e+00,\n",
       "       2.42741561e+00, 6.56850852e+00, 2.23497597e+00, 5.37953017e+00,\n",
       "       2.77670383e+00, 3.60030603e+00, 6.18225071e-01, 9.66127237e-01,\n",
       "       2.85158661e+00, 2.66979329e+00, 1.68397065e+00, 5.42313759e+00,\n",
       "       3.88608172e+00, 2.81327958e-03, 3.61825716e+00, 6.65741987e+00,\n",
       "       3.26011343e+00, 1.71696886e+00, 1.86362977e+00, 2.39143056e+00,\n",
       "       7.67607252e+00, 6.68527247e+00, 3.64779777e+00, 8.50276230e+00,\n",
       "       3.02288881e+00, 8.60356030e+00, 2.29913059e+00, 8.87468620e+00,\n",
       "       3.74231662e+00, 5.11136892e-01, 9.01847314e+00, 5.76148571e+00,\n",
       "       8.61645997e+00, 2.14153674e+01, 4.42687636e+00, 2.05714776e+01,\n",
       "       8.59060494e+00, 3.18594403e+00, 6.54662727e+00, 4.28792559e+00,\n",
       "       3.04117884e+00, 6.86383980e+00, 8.32054830e+00, 2.37532333e+00,\n",
       "       5.04085440e+00, 7.04201208e+00, 7.39085240e+00, 1.15707213e+01,\n",
       "       2.47840149e+00, 5.11913285e+00, 1.22396773e+01, 2.92248850e+00,\n",
       "       1.94428537e+00, 5.40477369e+00, 2.47442926e+00, 5.64938491e+00,\n",
       "       3.05658226e+00, 3.89071311e+00, 3.01549203e+00, 3.35503107e+00,\n",
       "       2.53459480e+00, 4.47348355e+00, 5.30571583e+00, 6.02729340e+00,\n",
       "       3.46830820e+00, 3.62036669e+00, 3.88075815e+00, 2.87219186e+00,\n",
       "       2.69717067e+00, 3.26097787e+00, 2.19340092e+00, 1.37438545e+00,\n",
       "       1.86176348e+01, 6.15632202e+00, 2.31357357e+00, 3.17350765e+00,\n",
       "       1.07627153e+00, 6.95117784e+00, 1.87440312e+00, 5.57431424e+00,\n",
       "       3.84525003e+00, 3.04798836e+00, 2.72695344e+00, 3.33115640e+00,\n",
       "       3.71421401e+00, 1.77938479e+00, 3.40374764e+00, 4.60724637e+00,\n",
       "       1.89994729e+00, 1.81440469e+00, 2.38337797e+00, 4.11176706e+00,\n",
       "       9.49860139e-01, 5.63126757e+00, 4.71613981e+00, 5.11880965e+00,\n",
       "       1.12837143e+00, 4.29275358e+00, 4.56964545e+00, 2.16407018e+00,\n",
       "       5.49546968e+00, 5.70002812e+00, 2.17206086e+00, 2.35103798e+00,\n",
       "       2.11690236e+00, 1.80268301e+01, 4.41632211e+00, 5.48365637e+00,\n",
       "       4.16979413e+00, 7.94098842e+00, 5.53501680e+00, 8.46973924e+00,\n",
       "       9.85658540e-01, 2.85364703e+00, 3.56419906e-01, 7.42809409e+00,\n",
       "       5.49174370e+00, 8.23692781e+00, 1.63681102e+00, 1.43590260e+00,\n",
       "       4.31187187e+00, 1.10401496e+01, 1.31562996e+01, 4.92851923e+00,\n",
       "       2.17428191e+00, 1.51830707e+00, 4.70118775e+00, 1.43284337e+00,\n",
       "       3.70117815e+00, 3.39096893e+00, 9.24255888e-01, 3.67441773e+00])"
      ]
     },
     "execution_count": 27,
     "metadata": {},
     "output_type": "execute_result"
    }
   ],
   "source": [
    "max_vehicle_power(*data)"
   ]
  },
  {
   "cell_type": "code",
   "execution_count": 28,
   "metadata": {},
   "outputs": [
    {
     "data": {
      "text/plain": [
       "array([1.03506904e+01, 3.57336832e+00, 2.00410523e+00, 9.13570782e+00,\n",
       "       2.02513798e+00, 7.65208501e+00, 7.60909759e+00, 1.03495464e+01,\n",
       "       2.32756480e+00, 1.33407569e+01, 1.23482942e+00, 2.45425808e+00,\n",
       "       5.02565983e+00, 5.27834851e+00, 9.52386972e+00, 3.22028236e+00,\n",
       "       4.93630166e+00, 2.40642845e+00, 4.81270253e+00, 3.64216228e+00,\n",
       "       1.68389421e+00, 6.49267683e+00, 3.44080587e+00, 1.95683514e+01,\n",
       "       6.14508815e+00, 2.19323388e+00, 2.40086477e+00, 5.32596425e+00,\n",
       "       5.40240146e+00, 2.29614083e+00, 5.50504701e+00, 2.42268194e+00,\n",
       "       2.76530649e+00, 1.02084759e+01, 2.77228401e+00, 1.03458639e+01,\n",
       "       3.24335126e+00, 2.61551942e+00, 1.35574073e+00, 3.52341903e+00,\n",
       "       6.66841986e+00, 7.20637839e+00, 3.86225976e+00, 3.27853225e+00,\n",
       "       1.15775183e+01, 3.35532128e+00, 8.61456140e+00, 2.42012023e+00,\n",
       "       3.15884414e+00, 3.46535243e+00, 3.27705137e+00, 3.68662527e+00,\n",
       "       2.62254242e+00, 2.27590246e+00, 8.48976504e+00, 3.75941471e+00,\n",
       "       2.85637711e+00, 1.00751678e+01, 4.23724075e+00, 1.78964674e+00,\n",
       "       4.64125771e+00, 0.00000000e+00, 3.12680464e+00, 4.84511431e+00,\n",
       "       3.04152878e+00, 6.49373906e+00, 6.82898991e+00, 4.41626595e+00,\n",
       "       1.35993247e+00, 8.07515675e+00, 2.26112979e+00, 3.01338259e+00,\n",
       "       2.30084931e+00, 3.02317717e+00, 1.06178812e+01, 1.69938256e+00,\n",
       "       3.34727672e+00, 1.32982985e+01, 3.40342587e+00, 3.36449345e+00,\n",
       "       1.40129085e+00, 2.16368850e+00, 8.98815415e+00, 4.04416345e+00,\n",
       "       1.41829949e+00, 4.38391104e+00, 8.35290648e+00, 5.32728609e+00,\n",
       "       4.76292354e+00, 2.42230100e+00, 2.61329825e+00, 5.33265441e+00,\n",
       "       1.70350229e+00, 3.59711804e+00, 3.58229767e+00, 2.03850664e+00,\n",
       "       3.08944151e+00, 2.97040538e+00, 1.51364446e+01, 6.78080531e+00,\n",
       "       1.46755047e+00, 1.33854838e+01, 1.07940374e+00, 3.10562563e+00,\n",
       "       3.31128106e+00, 2.80218167e+00, 8.30475586e+00, 2.15834522e+00,\n",
       "       1.11410783e+01, 2.32928044e+00, 3.59007488e+00, 1.83888792e+00,\n",
       "       6.76298105e+00, 4.52312649e+00, 2.79536019e+00, 2.63369384e+00,\n",
       "       6.98382179e+00, 2.52038385e+00, 2.97684891e+00, 2.03121575e+00,\n",
       "       5.38400718e+00, 3.61661165e+00, 1.04830254e+01, 6.16508446e+00,\n",
       "       2.25255487e+00, 6.22157460e+00, 1.46187592e+01, 3.04694372e+00,\n",
       "       1.88283487e+01, 2.39221859e+00, 4.67513978e+00, 1.40313018e+00,\n",
       "       7.21506247e-01, 6.77169691e+00, 1.06279551e+01, 6.96388958e+00,\n",
       "       9.86471597e+00, 1.62445214e+00, 2.19622278e+00, 5.51679574e+00,\n",
       "       1.68251528e+00, 1.92890275e+01, 6.01475337e+00, 3.71135840e+00,\n",
       "       1.48817269e+00, 4.24192696e+00, 4.13757405e+00, 2.79600469e+00,\n",
       "       3.58766393e+00, 3.15311095e+00, 3.55400502e+00, 6.41172415e+00,\n",
       "       1.11484634e+00, 9.47637436e+00, 4.23508713e+00, 1.87781678e+00,\n",
       "       1.66799354e+00, 2.00224915e+00, 8.07486570e+00, 3.63952568e+00,\n",
       "       2.74702672e+00, 2.83714521e+00, 6.61664937e+00, 5.64201134e+00,\n",
       "       6.51321908e+00, 5.94579554e+00, 2.49484572e+00, 4.43433583e+00,\n",
       "       2.68977183e+00, 6.90791502e+00, 5.14140458e+00, 2.04383227e+00,\n",
       "       4.71815635e+00, 9.75185534e+00, 2.48015835e+00, 1.44283856e+00,\n",
       "       2.51100888e+00, 1.20576532e+00, 6.78210401e+00, 2.30216635e+00,\n",
       "       6.79887696e+00, 3.56543594e+00, 8.95361366e+00, 8.72717787e+00,\n",
       "       2.37837428e+00, 4.98346876e+00, 3.48983817e+00, 8.36616331e+00,\n",
       "       1.24198104e+01, 3.69189251e+00, 1.00048167e+01, 1.35111013e+00,\n",
       "       3.65954548e+00, 4.33555851e-02, 2.35990769e+00, 6.09566539e+00,\n",
       "       3.16393888e+00, 1.06892184e+01, 4.74043477e+00, 5.20549152e+00,\n",
       "       2.94815287e-03, 3.26098698e+00, 2.02585863e+00, 1.93902867e+01,\n",
       "       3.61901500e+00, 4.60714167e+00, 2.29119418e+00, 1.92714201e+00,\n",
       "       2.43739941e+00, 2.74035481e+00, 3.28955074e+00, 4.55216498e+00,\n",
       "       1.89762961e+01, 4.14274073e+00, 2.30969645e+00, 1.99443472e+00,\n",
       "       2.73945875e+00, 5.22766966e+00, 3.70762594e+00, 2.20698275e+00,\n",
       "       3.31928135e+00, 3.53516266e+00, 3.58741739e+00, 1.97726692e+00,\n",
       "       5.06592902e+00, 3.70720571e+00, 5.48844066e+00, 1.31148159e+01,\n",
       "       2.31642442e+00, 2.55130228e+00, 3.29910473e+00, 4.90971065e+00,\n",
       "       5.48019163e+00, 4.00446677e+00, 1.95443192e+00, 1.06728009e+01,\n",
       "       2.94674612e+00, 8.24832432e+00, 3.52699036e+00, 9.02939872e+00,\n",
       "       2.41838485e+00, 2.81349897e+00, 1.46113197e+00, 2.27383347e+00,\n",
       "       2.63737739e+00, 1.51580427e+00, 7.59587953e+00, 4.52495525e+00,\n",
       "       4.71527754e+00, 3.44331845e+00, 4.46898969e-01, 3.00566834e+00,\n",
       "       3.17144185e+00, 2.45876347e+00, 4.18711482e+00, 1.96733964e+01,\n",
       "       6.20256549e+00, 4.91943671e+00, 2.96277125e+00, 1.41327700e+01,\n",
       "       2.08094706e+01, 9.57674609e+00, 3.63054454e+00, 3.19606547e+00,\n",
       "       1.12936349e+01, 4.12025470e+00, 3.71283615e+00, 4.53234617e+00,\n",
       "       6.02452963e+00, 5.30724495e+00, 3.62970329e+00, 1.99244677e+00,\n",
       "       1.16334001e+01, 1.76873521e+01, 3.16529505e+00, 3.03820249e+00,\n",
       "       3.31618524e+00, 1.14476550e+01, 2.10080092e+00, 2.31505639e+00,\n",
       "       3.21141130e+00, 5.29269270e+00, 3.02276342e+00, 3.56424062e+00,\n",
       "       1.71619169e+01, 2.98391002e+00, 1.14961016e+01, 2.13172281e+00,\n",
       "       3.21275211e+00, 4.35518940e-01, 2.33022372e+00, 2.23670386e+00,\n",
       "       2.93523464e+00, 7.31406173e+00, 3.10464908e+00, 3.41823374e+00,\n",
       "       1.90803693e+00, 3.47647778e+00, 1.06956536e+01, 2.86806812e+00,\n",
       "       2.93862227e+00, 2.83145329e+00, 3.81283923e+00, 3.32796331e+00,\n",
       "       3.20829716e+00, 6.63522747e+00, 1.25427974e+01, 2.86903945e+00,\n",
       "       4.41446470e+00, 3.96891646e+00, 4.83979070e+00, 2.07011294e+00,\n",
       "       7.08535678e+00, 3.30452864e+00, 3.05897228e+00, 7.43976442e+00,\n",
       "       3.35461002e+00, 6.50324595e+00, 7.08747922e+00, 3.56644269e+00,\n",
       "       1.63519787e+01, 3.46732648e+00, 2.02318758e+00, 4.46441948e+00,\n",
       "       7.64255893e+00, 2.63786391e+00, 1.25216246e+00, 2.43839658e+00,\n",
       "       2.06834004e+00, 1.69029720e+00, 2.52750900e+00, 4.06290937e+00,\n",
       "       1.13465225e+01, 1.22244460e+00, 6.91800552e+00, 2.53170907e+00,\n",
       "       1.83083323e+00, 2.93031670e+00, 1.93405729e+00, 3.63468166e+00,\n",
       "       1.86749055e+00, 1.13894127e+00, 2.24369626e+00, 4.70737464e+00,\n",
       "       2.14084064e+00, 4.88663472e+00, 2.63295833e+00, 2.71739801e+00,\n",
       "       1.84570848e+00, 2.55510430e+00, 1.36332924e+01, 2.22350645e+00,\n",
       "       4.65182458e+00, 5.23214340e+00, 1.49465228e+00, 9.36106011e+00,\n",
       "       1.34621624e+01, 7.62460538e+00, 2.38730013e+00, 8.42842259e+00,\n",
       "       3.64369945e+00, 3.58467311e+00, 2.10778479e+00, 3.35622151e+00,\n",
       "       2.57137227e+00, 2.03361575e+00, 7.21980531e+00, 2.44093474e+00,\n",
       "       1.31809060e+01, 1.81620962e+01, 1.91258066e+00, 2.32757661e+00,\n",
       "       1.43728753e+01, 2.85028919e+00, 7.27346423e+00, 3.34971630e+00,\n",
       "       4.63061910e+00, 2.81194174e+00, 2.73496945e+00, 1.13610506e+01,\n",
       "       3.82316933e+00, 6.14524046e+00, 2.02447915e+00, 5.83368713e+00,\n",
       "       2.37806684e+00, 1.27892483e+00, 1.88761408e+00, 2.09470181e+01,\n",
       "       2.48324860e+00, 3.85620262e+00, 3.23360638e+00, 2.39751379e+00,\n",
       "       6.67399002e+00, 1.32660264e+01, 3.81056017e+00, 3.40423418e+00,\n",
       "       1.84856389e+00, 8.31287787e+00, 4.77062621e+00, 5.53631262e+00,\n",
       "       2.16544723e+00, 7.23809494e+00, 2.97946822e+00, 2.29145688e+00,\n",
       "       8.98154169e+00, 3.88086496e+00, 9.71986551e+00, 3.91147792e+00,\n",
       "       4.62253935e+00, 2.99453740e+00, 8.99778771e+00, 1.53777932e+01,\n",
       "       2.59290166e+00, 3.92742001e+00, 3.11481538e+00, 9.07145845e-01,\n",
       "       6.03768114e+00, 5.30390188e+00, 5.04972361e+00, 2.94108966e+00,\n",
       "       3.34825432e+00, 5.53299457e+00, 1.73622150e+00, 2.03628114e+00,\n",
       "       2.48331363e+00, 4.54630254e+00, 3.29330509e+00, 3.24704875e+00,\n",
       "       1.45193268e+01, 5.58653073e+00, 6.53326453e+00, 2.12174150e+00,\n",
       "       9.47742531e+00, 7.60189136e+00, 8.39946457e+00, 2.55956801e+00,\n",
       "       6.11535653e+00, 6.40022190e+00, 2.90436975e+00, 8.23075452e+00,\n",
       "       3.39630339e+00, 3.76258832e+00, 1.84547267e+00, 2.60159913e+00,\n",
       "       3.96240130e+00, 1.35876577e+01, 3.02256832e+00, 3.44710818e+00,\n",
       "       5.78805050e+00, 1.13037518e+00, 1.22856550e+01, 4.15607875e+00,\n",
       "       2.78289614e+00, 2.50589481e+00, 3.12948106e+00, 3.26173616e+00,\n",
       "       7.57309466e+00, 1.10242821e+01, 3.44527007e+00, 3.54484656e+00,\n",
       "       2.38574764e+00, 1.57608513e+01, 1.30166399e+00, 3.03860557e+00,\n",
       "       4.60125131e+00, 1.81401887e+01, 1.45192370e+00, 4.66075533e+00,\n",
       "       3.93785064e+00, 6.52178460e+00, 7.18150310e-01, 2.62628439e+00,\n",
       "       1.63669121e+01, 3.14062022e+00, 1.70328660e+00, 6.06705261e+00,\n",
       "       3.78646605e+00, 7.29288806e+00, 3.53345238e+00, 6.61848498e+00,\n",
       "       4.98604494e+00, 4.43821563e+00, 5.94772243e+00, 2.66876649e+00,\n",
       "       4.30669175e+00, 2.16510113e+00, 1.12837114e+01, 3.55291011e+00,\n",
       "       3.55872148e+00, 2.85432431e+00, 9.60852729e+00, 1.90125213e+00,\n",
       "       3.00038708e+00, 1.53437627e+01, 2.19290060e+01, 3.13305532e+00,\n",
       "       5.90602668e+00, 2.92069013e+00, 2.61594347e+00, 1.33966669e+01,\n",
       "       6.53181628e+00, 1.06205306e+01, 9.22244777e+00, 3.38029026e+00,\n",
       "       2.93560115e+00, 1.16007693e+01, 3.06387522e+00, 5.78743048e+00,\n",
       "       2.80686821e+00, 5.02816191e+00, 1.32110128e+01, 5.88815817e+00,\n",
       "       1.29967659e+00, 3.52875517e+00, 2.47290618e+00, 1.90059339e+00,\n",
       "       6.94922411e+00, 9.46429036e+00, 4.89185316e+00, 3.50615803e+00,\n",
       "       2.78410130e+00, 2.10179557e+00, 3.87371365e+00, 2.94469415e+00,\n",
       "       3.84555801e+00, 4.70855526e+00, 2.07834725e+00, 7.10661362e+00,\n",
       "       8.30470131e+00, 3.24657232e+00, 1.29565474e+01, 9.55455769e+00,\n",
       "       1.17648955e+01, 1.95998026e+00, 1.86720445e+00, 3.39141334e+00,\n",
       "       1.93449697e+00, 6.46944262e+00, 1.92978643e+00, 1.86921398e+01,\n",
       "       3.71156843e+00, 2.20756266e+00, 8.21170551e-01, 4.78139253e+00,\n",
       "       6.94367503e+00, 6.76278810e+00, 8.42521289e+00, 4.81446784e+00,\n",
       "       9.20726943e+00, 4.94310674e+00, 1.77451466e+01, 1.92388223e+00,\n",
       "       3.13188999e+00, 5.95924440e+00, 3.23901323e+00, 1.90429947e+00,\n",
       "       2.70565522e+00, 1.73746256e+00, 5.21108532e+00, 6.55415639e+00,\n",
       "       1.28070706e+01, 6.57235841e+00, 1.06231295e+01, 3.83276050e+00,\n",
       "       4.06204239e+00, 3.48006296e+00, 1.56080185e+00, 5.22730222e+00,\n",
       "       4.23405631e+00, 3.67519565e+00, 2.81429673e+00, 2.23463473e+00,\n",
       "       4.44068342e+00, 5.18922971e+00, 2.94889311e+00, 1.66907533e+00,\n",
       "       3.84833024e+00, 8.81122303e+00, 5.23333844e+00, 4.02515191e+00,\n",
       "       4.07486907e+00, 2.52524252e+00, 5.78478944e+00, 3.15090584e+00,\n",
       "       2.42814223e+00, 1.12292826e+00, 1.67621169e+00, 3.18967824e+00,\n",
       "       4.83383875e+00, 1.07371343e+01, 2.61051301e+00, 3.27488959e+00,\n",
       "       2.43384185e+00, 1.05499948e+01, 1.87387357e+01, 3.35104856e+00,\n",
       "       2.14018019e+00, 1.04047564e+01, 1.21589239e+01, 6.62556753e+00,\n",
       "       7.63461393e+00, 2.12291027e+00, 2.68553474e+00, 1.98929862e+00,\n",
       "       8.12486985e+00, 3.72810061e+00, 5.09978487e+00, 3.91519780e+00,\n",
       "       6.58516053e+00, 1.17722288e+00, 3.26978964e+00, 2.25262121e+00,\n",
       "       3.15084391e+00, 1.43015354e+00, 4.05216721e+00, 6.53255139e+00,\n",
       "       3.14619997e+00, 1.28428200e+01, 2.23703612e+00, 8.51112623e+00,\n",
       "       2.44414872e-02, 6.26552406e+00, 3.24239354e+00, 1.48177327e+00,\n",
       "       1.37928965e+00, 3.36698556e+00, 1.39209936e+00, 7.44352702e+00,\n",
       "       3.53866029e+00, 3.43151913e+00, 2.24659779e+00, 2.43960462e+00,\n",
       "       1.35739809e+00, 2.36138400e+00, 1.17402515e+01, 8.15897151e-01,\n",
       "       2.36694632e+00, 8.16260160e+00, 3.21996816e+00, 2.31932147e+00,\n",
       "       3.21388223e+00, 4.03147263e+00, 1.19291338e+01, 9.99389352e+00,\n",
       "       2.32150396e+00, 3.27124293e+00, 4.35181564e+00, 9.62459502e+00,\n",
       "       2.26072083e+00, 3.47068213e+00, 1.72889674e+01, 1.03224092e+01,\n",
       "       1.49274062e+01, 5.36595617e+00, 3.23916471e+00, 3.43155119e+00,\n",
       "       6.67755270e+00, 1.24507095e+01, 1.38037660e+01, 3.97774192e+00,\n",
       "       3.16096706e+00, 2.12944672e+01, 6.92849357e+00, 2.95363215e+00,\n",
       "       2.18416912e+00, 5.39862358e+00, 8.43377771e+00, 6.20600472e+00,\n",
       "       5.34071859e+00, 1.46577637e+00, 3.30372224e+00, 2.57128254e+00,\n",
       "       7.82955244e+00, 6.22788736e+00, 2.06118533e+01, 2.91348224e+00,\n",
       "       5.88698419e+00, 5.51696774e+00, 3.26057589e+00, 7.52130659e+00,\n",
       "       5.16511851e+00, 4.97618726e+00, 7.16391054e+00, 5.96631004e+00,\n",
       "       2.88051961e+00, 2.00185660e+00, 1.13937610e+00, 3.34946568e+00,\n",
       "       2.45998413e+00, 1.97678804e+01, 1.68645009e+00, 7.89995930e-01,\n",
       "       3.00271302e+00, 2.10995429e+00, 2.59261214e+00, 3.15765691e+00,\n",
       "       1.13625457e+00, 8.49771350e+00, 7.71781195e+00, 7.92388306e+00,\n",
       "       4.62804251e+00, 6.41861785e+00, 2.90220185e+00, 2.59154972e+00,\n",
       "       3.43844184e+00, 1.56244344e+00, 1.36209918e+00, 2.99898067e+00,\n",
       "       5.25678404e+00, 9.17136060e+00, 1.87851729e+01, 2.05106159e+00,\n",
       "       2.32226065e+00, 3.61618261e+00, 5.75767883e+00, 3.88475896e+00,\n",
       "       1.22490093e+01, 3.56064246e+00, 4.72664669e+00, 4.61108720e+00,\n",
       "       2.64809180e+00, 2.57963049e+00, 6.14287427e+00, 9.27519599e+00,\n",
       "       1.53463620e+00, 3.04257150e+00, 2.62090227e+00, 6.09257186e+00,\n",
       "       6.20683084e+00, 2.95732852e+00, 3.01504898e+00, 4.75689511e+00,\n",
       "       4.21573743e+00, 4.25004167e+00, 2.94634563e+00, 3.41546253e+00,\n",
       "       5.77594140e+00, 4.89025544e+00, 2.89279795e+00, 2.85624002e+00,\n",
       "       2.05839152e+01, 5.29664832e+00, 1.07354116e+01, 2.83051797e+00,\n",
       "       5.25354204e+00, 3.51837456e+00, 7.56645475e+00, 8.30542952e+00,\n",
       "       3.37853703e+00, 4.15782594e+00, 9.61779867e+00, 4.59297342e+00,\n",
       "       5.65211891e+00, 1.77074531e+01, 1.24944003e+00, 4.91428562e+00,\n",
       "       4.58935016e+00, 3.28806389e+00, 3.57245423e+00, 3.47249140e+00,\n",
       "       3.69081702e+00, 1.24050304e+00, 2.48580758e+00, 3.09644360e+00,\n",
       "       1.33265864e+01, 8.13482496e+00, 1.83513770e+00, 3.77232874e+00,\n",
       "       2.88876047e+00, 9.89919557e+00, 3.55145330e+00, 3.45341390e+00,\n",
       "       5.50138526e+00, 1.60533681e+00, 9.30525239e+00, 1.86796793e+00,\n",
       "       1.74726362e+01, 4.10950373e+00, 3.39152925e+00, 2.34078153e+00,\n",
       "       2.55280729e+00, 1.76697565e+00, 3.96794806e+00, 3.80261788e+00,\n",
       "       5.30671147e+00, 9.91513230e+00, 2.33946563e+00, 5.38994119e+00,\n",
       "       2.65079710e+00, 6.84654583e+00, 2.28215125e+00, 1.48125172e+00,\n",
       "       5.28321970e+00, 4.58573539e+00, 3.12441103e+00, 3.49178118e+00,\n",
       "       5.86111829e+00, 8.46926701e+00, 1.49108512e+00, 2.59363628e+00,\n",
       "       2.14680577e+00, 4.13048802e+00, 7.42873454e+00, 3.58535317e+00,\n",
       "       2.63494624e+00, 3.74561198e+00, 2.09145740e+00, 9.11076178e+00,\n",
       "       2.08345260e+00, 8.02398151e-01, 1.82443379e+00, 4.01377260e+00,\n",
       "       2.97708128e+00, 2.19902128e+00, 1.17543463e+01, 2.19134546e+01,\n",
       "       7.89189911e+00, 3.20271777e+00, 1.08338370e+01, 2.61223173e+00,\n",
       "       3.91367735e+00, 4.02734328e+00, 8.03988243e-01, 4.64835324e+00,\n",
       "       3.13422062e+00, 1.10312861e+01, 2.03653592e+00, 6.04598175e-01,\n",
       "       2.52943181e+00, 3.10226119e+00, 4.05769531e+00, 1.68252781e+00,\n",
       "       1.70237009e+00, 5.43752466e+00, 4.41508369e+00, 1.25315503e+00,\n",
       "       1.14324895e+01, 1.55925518e+01, 8.03200957e+00, 4.54400276e+00,\n",
       "       6.57021686e+00, 4.72714718e+00, 1.99353783e+01, 3.02723426e+00,\n",
       "       1.08761014e+00, 3.68691802e+00, 3.24221388e+00, 2.83434067e+00,\n",
       "       5.39385323e+00, 4.88189517e+00, 3.77598639e+00, 1.71409727e+01,\n",
       "       2.93379115e+00, 3.51768446e+00, 7.48799317e+00, 3.22645056e+00,\n",
       "       2.31160277e+00, 2.95067842e+00, 2.98468868e+00, 4.40536345e+00,\n",
       "       1.58942019e+00, 3.30437788e+00, 1.08033705e+01, 5.60369974e+00,\n",
       "       8.88750092e+00, 1.71669626e+00, 2.48870032e+00, 2.99462711e+00,\n",
       "       2.42741561e+00, 6.56850852e+00, 2.23497597e+00, 5.37953017e+00,\n",
       "       2.77670383e+00, 3.60030603e+00, 6.18225071e-01, 9.66127237e-01,\n",
       "       2.85158661e+00, 2.66979329e+00, 1.68397065e+00, 5.42313759e+00,\n",
       "       3.88608172e+00, 2.81327958e-03, 3.61825716e+00, 6.65741987e+00,\n",
       "       3.26011343e+00, 1.71696886e+00, 1.86362977e+00, 2.39143056e+00,\n",
       "       7.67607252e+00, 6.68527247e+00, 3.64779777e+00, 8.50276230e+00,\n",
       "       3.02288881e+00, 8.60356030e+00, 2.29913059e+00, 8.87468620e+00,\n",
       "       3.74231662e+00, 5.11136892e-01, 9.01847314e+00, 5.76148571e+00,\n",
       "       8.61645997e+00, 2.14153674e+01, 4.42687636e+00, 2.05714776e+01,\n",
       "       8.59060494e+00, 3.18594403e+00, 6.54662727e+00, 4.28792559e+00,\n",
       "       3.04117884e+00, 6.86383980e+00, 8.32054830e+00, 2.37532333e+00,\n",
       "       5.04085440e+00, 7.04201208e+00, 7.39085240e+00, 1.15707213e+01,\n",
       "       2.47840149e+00, 5.11913285e+00, 1.22396773e+01, 2.92248850e+00,\n",
       "       1.94428537e+00, 5.40477369e+00, 2.47442926e+00, 5.64938491e+00,\n",
       "       3.05658226e+00, 3.89071311e+00, 3.01549203e+00, 3.35503107e+00,\n",
       "       2.53459480e+00, 4.47348355e+00, 5.30571583e+00, 6.02729340e+00,\n",
       "       3.46830820e+00, 3.62036669e+00, 3.88075815e+00, 2.87219186e+00,\n",
       "       2.69717067e+00, 3.26097787e+00, 2.19340092e+00, 1.37438545e+00,\n",
       "       1.86176348e+01, 6.15632202e+00, 2.31357357e+00, 3.17350765e+00,\n",
       "       1.07627153e+00, 6.95117784e+00, 1.87440312e+00, 5.57431424e+00,\n",
       "       3.84525003e+00, 3.04798836e+00, 2.72695344e+00, 3.33115640e+00,\n",
       "       3.71421401e+00, 1.77938479e+00, 3.40374764e+00, 4.60724637e+00,\n",
       "       1.89994729e+00, 1.81440469e+00, 2.38337797e+00, 4.11176706e+00,\n",
       "       9.49860139e-01, 5.63126757e+00, 4.71613981e+00, 5.11880965e+00,\n",
       "       1.12837143e+00, 4.29275358e+00, 4.56964545e+00, 2.16407018e+00,\n",
       "       5.49546968e+00, 5.70002812e+00, 2.17206086e+00, 2.35103798e+00,\n",
       "       2.11690236e+00, 1.80268301e+01, 4.41632211e+00, 5.48365637e+00,\n",
       "       4.16979413e+00, 7.94098842e+00, 5.53501680e+00, 8.46973924e+00,\n",
       "       9.85658540e-01, 2.85364703e+00, 3.56419906e-01, 7.42809409e+00,\n",
       "       5.49174370e+00, 8.23692781e+00, 1.63681102e+00, 1.43590260e+00,\n",
       "       4.31187187e+00, 1.10401496e+01, 1.31562996e+01, 4.92851923e+00,\n",
       "       2.17428191e+00, 1.51830707e+00, 4.70118775e+00, 1.43284337e+00,\n",
       "       3.70117815e+00, 3.39096893e+00, 9.24255888e-01, 3.67441773e+00])"
      ]
     },
     "execution_count": 28,
     "metadata": {},
     "output_type": "execute_result"
    }
   ],
   "source": [
    "y = max_vehicle_power(*data)\n",
    "y"
   ]
  },
  {
   "cell_type": "code",
   "execution_count": 29,
   "metadata": {
    "slideshow": {
     "slide_type": "skip"
    }
   },
   "outputs": [
    {
     "data": {
      "image/png": "[encoded data removed]",
      "text/plain": [
       "<Figure size 864x720 with 7 Axes>"
      ]
     },
     "metadata": {
      "needs_background": "light"
     },
     "output_type": "display_data"
    }
   ],
   "source": [
    "# Make some scatter plots to compare the results\n",
    "plt.subplot(241)\n",
    "plt.scatter(mc_connector, y, alpha=0.2)\n",
    "plt.title(\"Connector size (kW)\")\n",
    "plt.ylabel(\"Max Power (kW)\")\n",
    "plt.subplot(242)\n",
    "plt.scatter(mc_battery_size, y, alpha=0.2)\n",
    "plt.title(\"Battery Size (kWh)\")\n",
    "# plt.ylabel(\"Max Power (kW)\")\n",
    "plt.subplot(243)\n",
    "plt.scatter(mc_distance_driven, y, alpha=0.2)\n",
    "plt.title(\"Distance Driven (km)\")\n",
    "# plt.ylabel(\"Max Power (kW)\")\n",
    "plt.subplot(244)\n",
    "plt.scatter(mc_range_buffer, y, alpha=0.2)\n",
    "plt.title(\"Range Buffer (km)\")\n",
    "# plt.ylabel(\"Max Power (kW)\")\n",
    "plt.subplot(245)\n",
    "plt.scatter(mc_driving_eff, y, alpha=0.2)\n",
    "plt.title(\"Driving Eff (kWh/km)\")\n",
    "plt.ylabel(\"Max Power (kW)\")\n",
    "plt.subplot(246)\n",
    "plt.scatter(mc_inv_eff, y, alpha=0.2)\n",
    "plt.title(\"Inverter Eff (%)\")\n",
    "# plt.ylabel(\"Max Power (kW)\")\n",
    "plt.subplot(247)\n",
    "plt.scatter(mc_dispatch_time, y, alpha=0.2)\n",
    "plt.title(\"Dispatch Time (hours)\")\n",
    "# plt.ylabel(\"Max Power (kW)\")\n",
    "plt.tight_layout()\n",
    "# plt.savefig('scatter.png')"
   ]
  },
  {
   "cell_type": "markdown",
   "metadata": {
    "slideshow": {
     "slide_type": "subslide"
    }
   },
   "source": [
    "You might be tempted to plot a histogram of the model outputs.  This shows how often a particular value occurs in the results, but given that we are only exploring the model variable ranges, don't read too much into this distribution.\n"
   ]
  },
  {
   "cell_type": "code",
   "execution_count": 30,
   "metadata": {
    "scrolled": false,
    "slideshow": {
     "slide_type": "fragment"
    }
   },
   "outputs": [
    {
     "data": {
      "text/plain": [
       "Text(0, 0.5, 'Frequency')"
      ]
     },
     "execution_count": 30,
     "metadata": {},
     "output_type": "execute_result"
    },
    {
     "data": {
      "image/png": "[encoded data removed]",
      "text/plain": [
       "<Figure size 864x720 with 1 Axes>"
      ]
     },
     "metadata": {
      "needs_background": "light"
     },
     "output_type": "display_data"
    }
   ],
   "source": [
    "plt.hist(y)\n",
    "plt.xlabel(\"Power (kW)\")\n",
    "plt.ylabel(\"Frequency\")"
   ]
  },
  {
   "cell_type": "markdown",
   "metadata": {
    "slideshow": {
     "slide_type": "slide"
    }
   },
   "source": [
    "# Using SALib to run a Sensitivity Analysis\n",
    "\n",
    "SALib is a **free** **open-source** **Python** library\n",
    "\n",
    "You can install it by running the command\n",
    "\n",
    "```python\n",
    "pip install SALib\n",
    "```\n",
    "\n",
    "[Documentation](http://salib.readthedocs.org/) is available online and you can also view the code on [Github](http://salib.github.io/SALib/).\n",
    "\n",
    "The library includes:\n",
    "* Sobol Sensitivity Analysis ([Sobol 2001](http://www.sciencedirect.com/science/article/pii/S0378475400002706), [Saltelli 2002](http://www.sciencedirect.com/science/article/pii/S0010465502002801), [Saltelli et al. 2010](http://www.sciencedirect.com/science/article/pii/S0010465509003087))\n",
    "* Method of Morris, including groups and optimal trajectories ([Morris 1991](http://www.tandfonline.com/doi/abs/10.1080/00401706.1991.10484804), [Campolongo et al. 2007](http://www.sciencedirect.com/science/article/pii/S1364815206002805))\n",
    "* Fourier Amplitude Sensitivity Test (FAST) ([Cukier et al. 1973](http://scitation.aip.org/content/aip/journal/jcp/59/8/10.1063/1.1680571), [Saltelli et al. 1999](http://amstat.tandfonline.com/doi/abs/10.1080/00401706.1999.10485594))\n",
    "* Delta Moment-Independent Measure ([Borgonovo 2007](http://www.sciencedirect.com/science/article/pii/S0951832006000883), [Plischke et al. 2013](http://www.sciencedirect.com/science/article/pii/S0377221712008995))\n",
    "* Derivative-based Global Sensitivity Measure (DGSM) ([Sobol and Kucherenko 2009](http://www.sciencedirect.com/science/article/pii/S0378475409000354))\n",
    "* Fractional Factorial Sensitivity Analysis ([Saltelli et al. 2008](http://www.wiley.com/WileyCDA/WileyTitle/productCd-0470059974.html))\n"
   ]
  },
  {
   "cell_type": "markdown",
   "metadata": {
    "slideshow": {
     "slide_type": "subslide"
    }
   },
   "source": [
    "### Import the package"
   ]
  },
  {
   "cell_type": "code",
   "execution_count": 10,
   "metadata": {},
   "outputs": [
    {
     "name": "stdout",
     "output_type": "stream",
     "text": [
      "Collecting SALib\n",
      "  Downloading https://files.pythonhosted.org/packages/e2/e8/bfdd50ff780c5aa65a814ab6302b4d240b562b6a6f69faae6e2bee8baa18/SALib-1.3.8.tar.gz (854kB)\n",
      "Requirement already satisfied: numpy in c:\\users\\marylou\\anaconda3\\lib\\site-packages (from SALib) (1.16.4)\n",
      "Requirement already satisfied: scipy in c:\\users\\marylou\\anaconda3\\lib\\site-packages (from SALib) (1.2.1)\n",
      "Requirement already satisfied: matplotlib in c:\\users\\marylou\\anaconda3\\lib\\site-packages (from SALib) (3.1.0)\n",
      "Requirement already satisfied: pandas in c:\\users\\marylou\\anaconda3\\lib\\site-packages (from SALib) (0.24.2)\n",
      "Requirement already satisfied: cycler>=0.10 in c:\\users\\marylou\\anaconda3\\lib\\site-packages (from matplotlib->SALib) (0.10.0)\n",
      "Requirement already satisfied: kiwisolver>=1.0.1 in c:\\users\\marylou\\anaconda3\\lib\\site-packages (from matplotlib->SALib) (1.1.0)\n",
      "Requirement already satisfied: pyparsing!=2.0.4,!=2.1.2,!=2.1.6,>=2.0.1 in c:\\users\\marylou\\anaconda3\\lib\\site-packages (from matplotlib->SALib) (2.4.0)\n",
      "Requirement already satisfied: python-dateutil>=2.1 in c:\\users\\marylou\\anaconda3\\lib\\site-packages (from matplotlib->SALib) (2.8.0)\n",
      "Requirement already satisfied: pytz>=2011k in c:\\users\\marylou\\anaconda3\\lib\\site-packages (from pandas->SALib) (2019.1)\n",
      "Requirement already satisfied: six in c:\\users\\marylou\\anaconda3\\lib\\site-packages (from cycler>=0.10->matplotlib->SALib) (1.12.0)\n",
      "Requirement already satisfied: setuptools in c:\\users\\marylou\\anaconda3\\lib\\site-packages (from kiwisolver>=1.0.1->matplotlib->SALib) (41.0.1)\n",
      "Building wheels for collected packages: SALib\n",
      "  Building wheel for SALib (setup.py): started\n",
      "  Building wheel for SALib (setup.py): finished with status 'done'\n",
      "  Stored in directory: C:\\Users\\MaryLou\\AppData\\Local\\pip\\Cache\\wheels\\be\\82\\be\\c7769493a512ba0863312f12627c1f2fadb4a96e1f24f295ee\n",
      "Successfully built SALib\n",
      "Installing collected packages: SALib\n",
      "Successfully installed SALib-1.3.8\n"
     ]
    },
    {
     "data": {
      "text/plain": [
       "'1.3.8'"
      ]
     },
     "execution_count": 10,
     "metadata": {},
     "output_type": "execute_result"
    }
   ],
   "source": [
    "! pip install SALib\n",
    "\n",
    "import SALib\n",
    "SALib.__version__"
   ]
  },
  {
   "cell_type": "code",
   "execution_count": 11,
   "metadata": {
    "slideshow": {
     "slide_type": "fragment"
    }
   },
   "outputs": [],
   "source": [
    "from SALib.sample import morris as ms\n",
    "from SALib.analyze import morris as ma\n",
    "from SALib.plotting import morris as mp"
   ]
  },
  {
   "cell_type": "markdown",
   "metadata": {
    "slideshow": {
     "slide_type": "subslide"
    }
   },
   "source": [
    "### Define a problem file\n",
    "\n",
    "In the code below, a problem file is used to define the variables we wish to explore"
   ]
  },
  {
   "cell_type": "code",
   "execution_count": 12,
   "metadata": {
    "slideshow": {
     "slide_type": "fragment"
    }
   },
   "outputs": [],
   "source": [
    "morris_problem = {\n",
    "    # There are seven variables\n",
    "    'num_vars': 7,\n",
    "    # These are their names\n",
    "    'names': ['conn', 'batt', 'dist', 'range', 'dri_eff', 'inv_eff', 'dispatch_time'],\n",
    "    # These are their plausible ranges over which we'll move the variables\n",
    "    'bounds': [[2.3, 22], # connection_power (kW)\n",
    "               [50, 100], # battery size (kWh)\n",
    "               [0, 80], # distance driven (km)\n",
    "               [0, 80], # range buffer (km)\n",
    "               [4,5.5], # driving efficiency (kWh/km)\n",
    "               [0.87,0.97], # inverter efficienct (%)\n",
    "               [0.5, 24] # dispatch time - hours of the day in which the energy is dispatched\n",
    "              ],\n",
    "    # I don't want to group any of these variables together\n",
    "    'groups': None\n",
    "    }"
   ]
  },
  {
   "cell_type": "code",
   "execution_count": 13,
   "metadata": {},
   "outputs": [
    {
     "data": {
      "text/plain": [
       "{'num_vars': 7,\n",
       " 'names': ['conn',\n",
       "  'batt',\n",
       "  'dist',\n",
       "  'range',\n",
       "  'dri_eff',\n",
       "  'inv_eff',\n",
       "  'dispatch_time'],\n",
       " 'bounds': [[2.3, 22],\n",
       "  [50, 100],\n",
       "  [0, 80],\n",
       "  [0, 80],\n",
       "  [4, 5.5],\n",
       "  [0.87, 0.97],\n",
       "  [0.5, 24]],\n",
       " 'groups': None}"
      ]
     },
     "execution_count": 13,
     "metadata": {},
     "output_type": "execute_result"
    }
   ],
   "source": [
    "morris_problem"
   ]
  },
  {
   "cell_type": "markdown",
   "metadata": {
    "slideshow": {
     "slide_type": "subslide"
    }
   },
   "source": [
    "### Generate a Sample\n",
    "\n",
    "We then generate a sample using the `morris.sample()` procedure from the SALib package."
   ]
  },
  {
   "cell_type": "code",
   "execution_count": 14,
   "metadata": {},
   "outputs": [],
   "source": [
    "ms.sample?"
   ]
  },
  {
   "cell_type": "code",
   "execution_count": 17,
   "metadata": {
    "slideshow": {
     "slide_type": "fragment"
    }
   },
   "outputs": [
    {
     "data": {
      "text/plain": [
       "(80000, 7)"
      ]
     },
     "execution_count": 17,
     "metadata": {},
     "output_type": "execute_result"
    }
   ],
   "source": [
    "num_levels = 4\n",
    "trajectories = int(1e4)\n",
    "sample = ms.sample(morris_problem, trajectories, num_levels)\n",
    "sample.shape"
   ]
  },
  {
   "cell_type": "markdown",
   "metadata": {
    "slideshow": {
     "slide_type": "subslide"
    }
   },
   "source": [
    "### Factor Prioritisation\n",
    "\n",
    "We'll run a sensitivity analysis of the power module to see which is the most influential parameter.\n",
    "\n",
    "The results parameters are called **mu**, **sigma** and **mu_star**.\n",
    "\n",
    "* **Mu** is the mean effect caused by the input parameter being moved over its range.\n",
    "* **Sigma** is the standard deviation of the mean effect.\n",
    "* **Mu_star** is the mean absolute effect."
   ]
  },
  {
   "cell_type": "code",
   "execution_count": 18,
   "metadata": {},
   "outputs": [
    {
     "name": "stdout",
     "output_type": "stream",
     "text": [
      "(7, 80000)\n",
      "[[22.         22.         22.         ...  2.3         2.3\n",
      "  15.43333333]\n",
      " [83.33333333 83.33333333 50.         ... 66.66666667 66.66666667\n",
      "  66.66666667]\n",
      " [26.66666667 80.         80.         ... 80.         80.\n",
      "  80.        ]\n",
      " ...\n",
      " [ 4.5         4.5         4.5        ...  4.          4.\n",
      "   4.        ]\n",
      " [ 0.97        0.97        0.97       ...  0.97        0.90333333\n",
      "   0.90333333]\n",
      " [ 0.5         0.5         0.5        ... 24.         24.\n",
      "  24.        ]]\n"
     ]
    }
   ],
   "source": [
    "print(sample.T.shape)\n",
    "print(sample.T)"
   ]
  },
  {
   "cell_type": "code",
   "execution_count": 19,
   "metadata": {},
   "outputs": [
    {
     "name": "stdout",
     "output_type": "stream",
     "text": [
      "(80000,)\n",
      "[0. 0. 0. ... 0. 0. 0.]\n"
     ]
    }
   ],
   "source": [
    "# Run the sample through the power model\n",
    "output = max_vehicle_power(*sample.T)\n",
    "print(output.shape)\n",
    "print(output)"
   ]
  },
  {
   "cell_type": "code",
   "execution_count": 20,
   "metadata": {},
   "outputs": [],
   "source": [
    "ma.analyze?"
   ]
  },
  {
   "cell_type": "code",
   "execution_count": 21,
   "metadata": {
    "slideshow": {
     "slide_type": "fragment"
    }
   },
   "outputs": [
    {
     "name": "stdout",
     "output_type": "stream",
     "text": [
      "Name                      mu mu_star   sigma\n",
      "conn                    5.87    5.87    8.85\n",
      "batt                    3.55    3.55    7.91\n",
      "dist                 -  7.34    7.34   10.54\n",
      "range                -  7.23    7.23   10.57\n",
      "dri_eff              -  0.14    0.14    0.54\n",
      "inv_eff                 0.22    0.22    1.11\n",
      "dispatch_time           2.76    2.76    7.05\n"
     ]
    }
   ],
   "source": [
    "# Store the results for plotting of the analysis\n",
    "Si = ma.analyze(morris_problem, \n",
    "                sample, \n",
    "                output, \n",
    "                print_to_console=False, \n",
    "                num_levels=num_levels)\n",
    "print(\"{:20s} {:>7s} {:>7s} {:>7s}\".format(\"Name\", \"mu\", \"mu_star\", \"sigma\"))\n",
    "for name, s1, st, mean in zip(morris_problem['names'], Si['mu'], Si['mu_star'], Si['sigma']):\n",
    "    print(\"{:20s} {:=7.2f} {:=7.2f} {:=7.2f}\".format(name, s1, st, mean))\n",
    "    \n",
    "    #mu is the avg sensitivity of that param"
   ]
  },
  {
   "cell_type": "markdown",
   "metadata": {
    "slideshow": {
     "slide_type": "subslide"
    }
   },
   "source": [
    "We can plot the results"
   ]
  },
  {
   "cell_type": "code",
   "execution_count": 41,
   "metadata": {
    "slideshow": {
     "slide_type": "fragment"
    }
   },
   "outputs": [
    {
     "data": {
      "text/plain": [
       "<matplotlib.collections.PathCollection at 0x1a18cfa780>"
      ]
     },
     "execution_count": 41,
     "metadata": {},
     "output_type": "execute_result"
    },
    {
     "data": {
      "image/png": "[encoded data removed]",
      "text/plain": [
       "<Figure size 864x720 with 2 Axes>"
      ]
     },
     "metadata": {
      "needs_background": "light"
     },
     "output_type": "display_data"
    }
   ],
   "source": [
    "fig, (ax1, ax2) = plt.subplots(1,2)\n",
    "mp.horizontal_bar_plot(ax1, Si, param_dict={})\n",
    "mp.covariance_plot(ax2, Si, {})"
   ]
  },
  {
   "cell_type": "markdown",
   "metadata": {
    "slideshow": {
     "slide_type": "slide"
    }
   },
   "source": [
    "## A More Complicated Example\n",
    "\n",
    "Lets look at a more complicated example.  This now integrates the previous power module into a simple cost-benefit analysis.\n",
    "\n",
    "Trying to work out anything with all those sliders is pretty difficult.  We need to strip out the uneccesssary parameters and focus our efforts on the influential inputs."
   ]
  },
  {
   "cell_type": "code",
   "execution_count": 22,
   "metadata": {
    "slideshow": {
     "slide_type": "skip"
    }
   },
   "outputs": [
    {
     "data": {
      "application/vnd.jupyter.widget-view+json": {
       "model_id": "4522bd2a7f09418abaf10f77533f5855",
       "version_major": 2,
       "version_minor": 0
      },
      "text/plain": [
       "interactive(children=(FloatSlider(value=24.0, description='battery_size', min=10.0, step=5.0), FloatSlider(val…"
      ]
     },
     "metadata": {},
     "output_type": "display_data"
    }
   ],
   "source": [
    "@interact(battery_size=widgets.FloatSlider(value=24, min=10, max=100, step=5), \n",
    "          battery_unit_cost=widgets.FloatSlider(value=350, min=100, max=400, step=50),\n",
    "          connector_power=widgets.FloatSlider(value=2.3, min=2.3, max=22, step=0.5), \n",
    "          lifetime_cycles=widgets.FloatSlider(value=2000, min=1000, max=10000, step=1000),\n",
    "          depth_of_discharge=widgets.FloatSlider(value=0.8, min=0.5, max=1.0, step=0.1),\n",
    "          electricity_price=widgets.FloatSlider(value=0.1, min=0.01, max=0.5, step=0.01),\n",
    "          purchased_energy_cost=widgets.FloatSlider(value=0.1, min=0.01, max=0.5, step=0.01),\n",
    "          capacity_price=widgets.FloatSlider(value=0.007, min=0.001, max=0.01, step=0.001),\n",
    "          round_trip_efficiency=widgets.FloatSlider(value=0.73, min=0.50, max=1.0, step=0.01),\n",
    "          cost_of_v2g_equip=widgets.FloatSlider(value=2000, min=100, max=5000, step=100),\n",
    "          discount_rate=widgets.FloatSlider(value=0.10, min=0.0, max=0.2, step=0.01),\n",
    "          economic_lifetime=widgets.FloatSlider(value=10, min=3, max=25, step=1),\n",
    "          ratio_dispatch_to_contract=widgets.FloatSlider(value=0.10, min=0.01, max=0.50, step=0.01),\n",
    "          distance_driven=widgets.FloatSlider(value=0, min=0, max=100, step=5), \n",
    "          range_buffer=widgets.FloatSlider(value=0, min=0, max=100, step=10),\n",
    "          hours_connected_per_day=widgets.FloatSlider(value=18, min=0.5, max=24, step=0.5))\n",
    "def plot_profit(battery_size,\n",
    "                battery_unit_cost,\n",
    "                connector_power,\n",
    "                lifetime_cycles,\n",
    "                depth_of_discharge,\n",
    "                electricity_price,\n",
    "                purchased_energy_cost,\n",
    "                capacity_price,\n",
    "                round_trip_efficiency,\n",
    "                cost_of_v2g_equip,\n",
    "                discount_rate,\n",
    "                economic_lifetime,\n",
    "                distance_driven,\n",
    "                range_buffer,\n",
    "                ratio_dispatch_to_contract,\n",
    "                hours_connected_per_day):\n",
    "    profit, revenue, cost = compute_profit(\n",
    "                                            battery_size,\n",
    "                                            battery_unit_cost,\n",
    "                                            connector_power,\n",
    "                                            lifetime_cycles,\n",
    "                                            depth_of_discharge,\n",
    "                                            electricity_price,\n",
    "                                            purchased_energy_cost,\n",
    "                                            capacity_price,\n",
    "                                            round_trip_efficiency,\n",
    "                                            cost_of_v2g_equip,\n",
    "                                            discount_rate,\n",
    "                                            economic_lifetime,\n",
    "                                            distance_driven,\n",
    "                                            range_buffer,\n",
    "                                            ratio_dispatch_to_contract,\n",
    "                                            hours_connected_per_day\n",
    "                                            )\n",
    "    return print(\"Profit £{} = £{} - £{}\".format(np.round(profit,2), np.round(revenue, 2), np.round(cost,2) ))"
   ]
  },
  {
   "cell_type": "markdown",
   "metadata": {
    "slideshow": {
     "slide_type": "subslide"
    }
   },
   "source": [
    "### Factor Fixing\n",
    "\n",
    "We'll perform a **factor fixing** sensitivity analysis using a different method - that of Sobol."
   ]
  },
  {
   "cell_type": "code",
   "execution_count": 23,
   "metadata": {
    "slideshow": {
     "slide_type": "skip"
    }
   },
   "outputs": [],
   "source": [
    "from SALib.sample.saltelli import sample as ss\n",
    "from SALib.analyze.sobol import analyze as sa\n",
    "\n",
    "problem = {\n",
    "    # There are sixteen variables\n",
    "    'num_vars': 16,\n",
    "    # These are their names\n",
    "    'names': ['battery_size',\n",
    "              'battery_unit_cost',\n",
    "              'connector_power',\n",
    "              'lifetime_cycles',\n",
    "              'depth_of_discharge',\n",
    "              'electricity_price',\n",
    "              'purchased_energy_cost',\n",
    "              'capacity_price',\n",
    "              'round_trip_efficiency',\n",
    "              'cost_of_v2g_equip',\n",
    "              'discount_rate',\n",
    "              'economic_lifetime',\n",
    "              'distance_driven',\n",
    "              'range_buffer',\n",
    "              'ratio_dispatch_to_contract',\n",
    "              'hours_connected_per_day'],\n",
    "    # These are their plausible ranges over which we'll move the variables\n",
    "    'bounds': [       \n",
    "                [10, 100],\n",
    "                [100, 400],\n",
    "                [2.3, 22],\n",
    "                [1000, 10000],\n",
    "                [0.5, 1.0],\n",
    "                [0.01, 0.2], \n",
    "                [0.01, 0.2],\n",
    "                [0.001, 0.01], \n",
    "                [0.65, 1.0],\n",
    "                [100, 5000],\n",
    "                [0.0, 0.2], \n",
    "                [3, 25],\n",
    "                [0, 100], \n",
    "                [0, 100], \n",
    "                [0.01, 0.50],\n",
    "                [0.5, 24],\n",
    "              ],\n",
    "    # I don't want to group any of these variables together\n",
    "    'groups': None\n",
    "    }"
   ]
  },
  {
   "cell_type": "code",
   "execution_count": 31,
   "metadata": {},
   "outputs": [],
   "source": [
    "sa?"
   ]
  },
  {
   "cell_type": "code",
   "execution_count": 35,
   "metadata": {
    "slideshow": {
     "slide_type": "fragment"
    }
   },
   "outputs": [
    {
     "name": "stdout",
     "output_type": "stream",
     "text": [
      "Name                           1st Total Mean of Input\n",
      "battery_size                  0.01  0.17 (       55.00)\n",
      "battery_unit_cost             0.01  0.03 (      249.98)\n",
      "connector_power              -0.00  0.04 (       12.15)\n",
      "lifetime_cycles               0.03  0.10 (     5499.95)\n",
      "depth_of_discharge            0.00  0.03 (        0.75)\n",
      "electricity_price             0.02  0.05 (        0.10)\n",
      "purchased_energy_cost         0.03  0.11 (        0.11)\n",
      "capacity_price                0.01  0.03 (        0.01)\n",
      "round_trip_efficiency         0.00  0.01 (        0.82)\n",
      "cost_of_v2g_equip             0.26  0.31 (     2550.01)\n",
      "discount_rate                 0.05  0.07 (        0.10)\n",
      "economic_lifetime             0.12  0.16 (       14.00)\n",
      "distance_driven              -0.00  0.03 (       50.00)\n",
      "range_buffer                 -0.00  0.03 (       50.00)\n",
      "ratio_dispatch_to_contract    0.07  0.27 (        0.25)\n",
      "hours_connected_per_day      -0.00  0.06 (       12.25)\n"
     ]
    },
    {
     "data": {
      "text/plain": [
       "{'S1': array([ 8.34414062e-03,  1.11980794e-02, -7.67790198e-04,  3.11616877e-02,\n",
       "         2.97447825e-04,  2.18645981e-02,  3.12211187e-02,  8.88702050e-03,\n",
       "         1.70049493e-03,  2.55112980e-01,  5.42759613e-02,  1.19984827e-01,\n",
       "        -3.01602191e-03, -2.42228092e-03,  6.97221504e-02, -3.51711256e-05]),\n",
       " 'S1_conf': array([0.01101049, 0.00447746, 0.00468505, 0.00825496, 0.00459197,\n",
       "        0.00594723, 0.0079096 , 0.0043628 , 0.0022348 , 0.01733066,\n",
       "        0.00854513, 0.01372181, 0.00481211, 0.00437975, 0.01507042,\n",
       "        0.00628813]),\n",
       " 'ST': array([0.17496188, 0.02956637, 0.03819191, 0.0964193 , 0.02995565,\n",
       "        0.05448779, 0.11338697, 0.03408728, 0.0077962 , 0.31050642,\n",
       "        0.07334163, 0.1554298 , 0.02878711, 0.02721946, 0.27250768,\n",
       "        0.06208453]),\n",
       " 'ST_conf': array([0.01507226, 0.00424043, 0.00570139, 0.0117149 , 0.00287534,\n",
       "        0.00367405, 0.01265363, 0.00286349, 0.00089229, 0.01401405,\n",
       "        0.00368295, 0.00896695, 0.00269764, 0.00284879, 0.02033779,\n",
       "        0.01094611]),\n",
       " 'S2': array([[            nan, -4.81550042e-03, -8.88697130e-03,\n",
       "          8.89892125e-03, -7.90602471e-03,  1.26987161e-03,\n",
       "          1.65082493e-02, -7.90862724e-04, -6.61180853e-03,\n",
       "         -8.50653757e-03,  4.46486948e-03, -6.56972419e-03,\n",
       "         -5.98711089e-03, -5.77013242e-03,  3.41851073e-02,\n",
       "         -6.96292738e-03],\n",
       "        [            nan,             nan, -9.43582903e-03,\n",
       "         -5.57579484e-03, -8.72595013e-03, -1.03516084e-02,\n",
       "         -6.37154423e-03, -9.66557356e-03, -8.78860549e-03,\n",
       "         -1.03360741e-02, -8.32660824e-03, -8.99125127e-03,\n",
       "         -7.64974294e-03, -8.01394386e-03, -6.81576916e-03,\n",
       "         -9.69405768e-03],\n",
       "        [            nan,             nan,             nan,\n",
       "         -3.57016031e-03, -3.97782904e-03, -2.34763023e-03,\n",
       "         -4.03172132e-03, -3.51124358e-03, -3.75157179e-03,\n",
       "         -3.08757797e-03, -3.32123729e-03, -3.16986296e-03,\n",
       "         -5.08617237e-03, -3.40029481e-03,  5.90422087e-03,\n",
       "         -3.04234809e-03],\n",
       "        [            nan,             nan,             nan,\n",
       "                     nan, -9.51224182e-03, -9.56864703e-03,\n",
       "         -7.10402314e-03, -6.32725910e-03, -8.79981598e-03,\n",
       "         -7.09413825e-03, -8.97898451e-03, -5.94086985e-03,\n",
       "         -6.93728771e-03, -9.70990394e-03,  5.93412913e-03,\n",
       "         -9.26151612e-03],\n",
       "        [            nan,             nan,             nan,\n",
       "                     nan,             nan, -9.23720565e-04,\n",
       "          3.11152697e-03,  2.77102246e-03, -1.92413238e-05,\n",
       "          1.76828643e-03,  1.05922450e-03,  4.26436219e-04,\n",
       "         -5.11730695e-04, -8.90537707e-05,  5.85826675e-03,\n",
       "          8.30534849e-04],\n",
       "        [            nan,             nan,             nan,\n",
       "                     nan,             nan,             nan,\n",
       "          5.97017731e-04,  6.86963289e-05,  2.08716080e-04,\n",
       "         -8.22879563e-04,  5.24968638e-04, -5.06320135e-04,\n",
       "          2.12029095e-03,  1.66585526e-03,  1.06326274e-02,\n",
       "          1.63286057e-03],\n",
       "        [            nan,             nan,             nan,\n",
       "                     nan,             nan,             nan,\n",
       "                     nan,  1.27194292e-03,  1.45009726e-03,\n",
       "         -4.70181715e-04,  5.42116631e-04, -1.81209885e-03,\n",
       "          1.94000246e-03,  2.45553950e-03,  1.33152481e-02,\n",
       "          4.42171223e-03],\n",
       "        [            nan,             nan,             nan,\n",
       "                     nan,             nan,             nan,\n",
       "                     nan,             nan,  2.40214053e-03,\n",
       "          5.14184767e-03,  3.95605346e-03,  2.42925116e-03,\n",
       "          2.54241712e-03,  3.23091659e-03,  5.81903801e-03,\n",
       "          4.57096633e-03],\n",
       "        [            nan,             nan,             nan,\n",
       "                     nan,             nan,             nan,\n",
       "                     nan,             nan,             nan,\n",
       "          1.17714621e-03,  1.48563525e-03,  1.31429070e-03,\n",
       "          1.71317442e-03,  1.68152581e-03,  2.66613502e-03,\n",
       "          1.45115139e-03],\n",
       "        [            nan,             nan,             nan,\n",
       "                     nan,             nan,             nan,\n",
       "                     nan,             nan,             nan,\n",
       "                     nan,  1.71349056e-02,  3.47545713e-02,\n",
       "         -1.78009751e-04,  2.79362588e-03,  1.33399028e-02,\n",
       "          6.54914536e-04],\n",
       "        [            nan,             nan,             nan,\n",
       "                     nan,             nan,             nan,\n",
       "                     nan,             nan,             nan,\n",
       "                     nan,             nan,  1.68788149e-03,\n",
       "          1.32179693e-03,  2.63299527e-03,  4.75209984e-03,\n",
       "          1.98932340e-03],\n",
       "        [            nan,             nan,             nan,\n",
       "                     nan,             nan,             nan,\n",
       "                     nan,             nan,             nan,\n",
       "                     nan,             nan,             nan,\n",
       "         -2.10260452e-03, -3.91382598e-03,  4.83329778e-03,\n",
       "         -2.21764460e-03],\n",
       "        [            nan,             nan,             nan,\n",
       "                     nan,             nan,             nan,\n",
       "                     nan,             nan,             nan,\n",
       "                     nan,             nan,             nan,\n",
       "                     nan, -1.31448293e-04,  6.53169745e-03,\n",
       "         -5.06930681e-04],\n",
       "        [            nan,             nan,             nan,\n",
       "                     nan,             nan,             nan,\n",
       "                     nan,             nan,             nan,\n",
       "                     nan,             nan,             nan,\n",
       "                     nan,             nan,  2.81026944e-03,\n",
       "         -3.21926979e-05],\n",
       "        [            nan,             nan,             nan,\n",
       "                     nan,             nan,             nan,\n",
       "                     nan,             nan,             nan,\n",
       "                     nan,             nan,             nan,\n",
       "                     nan,             nan,             nan,\n",
       "          2.32279096e-02],\n",
       "        [            nan,             nan,             nan,\n",
       "                     nan,             nan,             nan,\n",
       "                     nan,             nan,             nan,\n",
       "                     nan,             nan,             nan,\n",
       "                     nan,             nan,             nan,\n",
       "                     nan]]),\n",
       " 'S2_conf': array([[       nan, 0.01802191, 0.01884256, 0.01911423, 0.01819523,\n",
       "         0.01779066, 0.01754268, 0.01825435, 0.01826549, 0.01609828,\n",
       "         0.01824384, 0.01766045, 0.01865735, 0.01860794, 0.02153914,\n",
       "         0.01857217],\n",
       "        [       nan,        nan, 0.00745059, 0.00849925, 0.00769885,\n",
       "         0.00782789, 0.00768751, 0.00780341, 0.00736811, 0.00814037,\n",
       "         0.0073039 , 0.00718914, 0.00766917, 0.00757437, 0.00773104,\n",
       "         0.00800682],\n",
       "        [       nan,        nan,        nan, 0.00761892, 0.00730656,\n",
       "         0.00735711, 0.00717843, 0.00713759, 0.00739159, 0.00743498,\n",
       "         0.00685758, 0.00743243, 0.00736618, 0.00751825, 0.00754235,\n",
       "         0.00772361],\n",
       "        [       nan,        nan,        nan,        nan, 0.01325118,\n",
       "         0.01274809, 0.01280356, 0.01268474, 0.01278111, 0.01379052,\n",
       "         0.01319601, 0.01293015, 0.01341169, 0.011985  , 0.01593351,\n",
       "         0.0130392 ],\n",
       "        [       nan,        nan,        nan,        nan,        nan,\n",
       "         0.00688085, 0.00724854, 0.00721926, 0.00717441, 0.00772164,\n",
       "         0.00692781, 0.00686846, 0.00721114, 0.00725275, 0.00695209,\n",
       "         0.00755389],\n",
       "        [       nan,        nan,        nan,        nan,        nan,\n",
       "                nan, 0.00939288, 0.0093213 , 0.00902139, 0.00887107,\n",
       "         0.00941766, 0.00889259, 0.00962535, 0.00912203, 0.01008057,\n",
       "         0.00964563],\n",
       "        [       nan,        nan,        nan,        nan,        nan,\n",
       "                nan,        nan, 0.01243195, 0.01204533, 0.01259341,\n",
       "         0.01196689, 0.01169551, 0.0124984 , 0.0120652 , 0.01424709,\n",
       "         0.01272732],\n",
       "        [       nan,        nan,        nan,        nan,        nan,\n",
       "                nan,        nan,        nan, 0.00651969, 0.00735128,\n",
       "         0.00685552, 0.00700881, 0.00682575, 0.00667872, 0.00694783,\n",
       "         0.00702588],\n",
       "        [       nan,        nan,        nan,        nan,        nan,\n",
       "                nan,        nan,        nan,        nan, 0.00379793,\n",
       "         0.00384184, 0.0037956 , 0.00375058, 0.00363583, 0.00383428,\n",
       "         0.00358357],\n",
       "        [       nan,        nan,        nan,        nan,        nan,\n",
       "                nan,        nan,        nan,        nan,        nan,\n",
       "         0.02399949, 0.02604207, 0.02238946, 0.02227138, 0.02264638,\n",
       "         0.0222428 ],\n",
       "        [       nan,        nan,        nan,        nan,        nan,\n",
       "                nan,        nan,        nan,        nan,        nan,\n",
       "                nan, 0.01301426, 0.01132558, 0.0113578 , 0.01101528,\n",
       "         0.01111192],\n",
       "        [       nan,        nan,        nan,        nan,        nan,\n",
       "                nan,        nan,        nan,        nan,        nan,\n",
       "                nan,        nan, 0.01904836, 0.01935786, 0.01966719,\n",
       "         0.01962058],\n",
       "        [       nan,        nan,        nan,        nan,        nan,\n",
       "                nan,        nan,        nan,        nan,        nan,\n",
       "                nan,        nan,        nan, 0.0070456 , 0.00719208,\n",
       "         0.00709953],\n",
       "        [       nan,        nan,        nan,        nan,        nan,\n",
       "                nan,        nan,        nan,        nan,        nan,\n",
       "                nan,        nan,        nan,        nan, 0.00835105,\n",
       "         0.00726729],\n",
       "        [       nan,        nan,        nan,        nan,        nan,\n",
       "                nan,        nan,        nan,        nan,        nan,\n",
       "                nan,        nan,        nan,        nan,        nan,\n",
       "         0.02014704],\n",
       "        [       nan,        nan,        nan,        nan,        nan,\n",
       "                nan,        nan,        nan,        nan,        nan,\n",
       "                nan,        nan,        nan,        nan,        nan,\n",
       "                nan]])}"
      ]
     },
     "execution_count": 35,
     "metadata": {},
     "output_type": "execute_result"
    }
   ],
   "source": [
    "sample = ss(problem, 10000, calc_second_order=True)\n",
    "#profit, revenue, cost = compute_profit(sample[:,0], sample[:,1], sample[:,2], sample[:,3], sample[:,4], sample[:,5], sample[:,6]\n",
    "#                       , sample[:,7], sample[:,8], sample[:,9], sample[:,10], sample[:,11], sample[:,12], sample[:,13]\n",
    "#                       , sample[:,14], sample[:,15])\n",
    "profit, revenue, cost = compute_profit(*sample.T) # this is equivalent!\n",
    "SI = sa(problem, profit, calc_second_order=True, print_to_console=False)\n",
    "print(\"{:28s} {:>5s} {:>5s} {:>12s}\".format(\"Name\", \"1st\", \"Total\", \"Mean of Input\"))\n",
    "for name, s1, st, mean in zip(problem['names'], SI['S1'], SI['ST'], sample.mean(axis=0)):\n",
    "    print(\"{:28s} {:=5.2f} {:=5.2f} ({:=12.2f})\".format(name, s1, st, mean))\n",
    "    \n",
    "SI"
   ]
  },
  {
   "cell_type": "code",
   "execution_count": 39,
   "metadata": {},
   "outputs": [
    {
     "data": {
      "text/plain": [
       "array([[            nan, -4.81550042e-03, -8.88697130e-03,\n",
       "         8.89892125e-03, -7.90602471e-03,  1.26987161e-03,\n",
       "         1.65082493e-02, -7.90862724e-04, -6.61180853e-03,\n",
       "        -8.50653757e-03,  4.46486948e-03, -6.56972419e-03,\n",
       "        -5.98711089e-03, -5.77013242e-03,  3.41851073e-02,\n",
       "        -6.96292738e-03],\n",
       "       [            nan,             nan, -9.43582903e-03,\n",
       "        -5.57579484e-03, -8.72595013e-03, -1.03516084e-02,\n",
       "        -6.37154423e-03, -9.66557356e-03, -8.78860549e-03,\n",
       "        -1.03360741e-02, -8.32660824e-03, -8.99125127e-03,\n",
       "        -7.64974294e-03, -8.01394386e-03, -6.81576916e-03,\n",
       "        -9.69405768e-03],\n",
       "       [            nan,             nan,             nan,\n",
       "        -3.57016031e-03, -3.97782904e-03, -2.34763023e-03,\n",
       "        -4.03172132e-03, -3.51124358e-03, -3.75157179e-03,\n",
       "        -3.08757797e-03, -3.32123729e-03, -3.16986296e-03,\n",
       "        -5.08617237e-03, -3.40029481e-03,  5.90422087e-03,\n",
       "        -3.04234809e-03],\n",
       "       [            nan,             nan,             nan,\n",
       "                    nan, -9.51224182e-03, -9.56864703e-03,\n",
       "        -7.10402314e-03, -6.32725910e-03, -8.79981598e-03,\n",
       "        -7.09413825e-03, -8.97898451e-03, -5.94086985e-03,\n",
       "        -6.93728771e-03, -9.70990394e-03,  5.93412913e-03,\n",
       "        -9.26151612e-03],\n",
       "       [            nan,             nan,             nan,\n",
       "                    nan,             nan, -9.23720565e-04,\n",
       "         3.11152697e-03,  2.77102246e-03, -1.92413238e-05,\n",
       "         1.76828643e-03,  1.05922450e-03,  4.26436219e-04,\n",
       "        -5.11730695e-04, -8.90537707e-05,  5.85826675e-03,\n",
       "         8.30534849e-04],\n",
       "       [            nan,             nan,             nan,\n",
       "                    nan,             nan,             nan,\n",
       "         5.97017731e-04,  6.86963289e-05,  2.08716080e-04,\n",
       "        -8.22879563e-04,  5.24968638e-04, -5.06320135e-04,\n",
       "         2.12029095e-03,  1.66585526e-03,  1.06326274e-02,\n",
       "         1.63286057e-03],\n",
       "       [            nan,             nan,             nan,\n",
       "                    nan,             nan,             nan,\n",
       "                    nan,  1.27194292e-03,  1.45009726e-03,\n",
       "        -4.70181715e-04,  5.42116631e-04, -1.81209885e-03,\n",
       "         1.94000246e-03,  2.45553950e-03,  1.33152481e-02,\n",
       "         4.42171223e-03],\n",
       "       [            nan,             nan,             nan,\n",
       "                    nan,             nan,             nan,\n",
       "                    nan,             nan,  2.40214053e-03,\n",
       "         5.14184767e-03,  3.95605346e-03,  2.42925116e-03,\n",
       "         2.54241712e-03,  3.23091659e-03,  5.81903801e-03,\n",
       "         4.57096633e-03],\n",
       "       [            nan,             nan,             nan,\n",
       "                    nan,             nan,             nan,\n",
       "                    nan,             nan,             nan,\n",
       "         1.17714621e-03,  1.48563525e-03,  1.31429070e-03,\n",
       "         1.71317442e-03,  1.68152581e-03,  2.66613502e-03,\n",
       "         1.45115139e-03],\n",
       "       [            nan,             nan,             nan,\n",
       "                    nan,             nan,             nan,\n",
       "                    nan,             nan,             nan,\n",
       "                    nan,  1.71349056e-02,  3.47545713e-02,\n",
       "        -1.78009751e-04,  2.79362588e-03,  1.33399028e-02,\n",
       "         6.54914536e-04],\n",
       "       [            nan,             nan,             nan,\n",
       "                    nan,             nan,             nan,\n",
       "                    nan,             nan,             nan,\n",
       "                    nan,             nan,  1.68788149e-03,\n",
       "         1.32179693e-03,  2.63299527e-03,  4.75209984e-03,\n",
       "         1.98932340e-03],\n",
       "       [            nan,             nan,             nan,\n",
       "                    nan,             nan,             nan,\n",
       "                    nan,             nan,             nan,\n",
       "                    nan,             nan,             nan,\n",
       "        -2.10260452e-03, -3.91382598e-03,  4.83329778e-03,\n",
       "        -2.21764460e-03],\n",
       "       [            nan,             nan,             nan,\n",
       "                    nan,             nan,             nan,\n",
       "                    nan,             nan,             nan,\n",
       "                    nan,             nan,             nan,\n",
       "                    nan, -1.31448293e-04,  6.53169745e-03,\n",
       "        -5.06930681e-04],\n",
       "       [            nan,             nan,             nan,\n",
       "                    nan,             nan,             nan,\n",
       "                    nan,             nan,             nan,\n",
       "                    nan,             nan,             nan,\n",
       "                    nan,             nan,  2.81026944e-03,\n",
       "        -3.21926979e-05],\n",
       "       [            nan,             nan,             nan,\n",
       "                    nan,             nan,             nan,\n",
       "                    nan,             nan,             nan,\n",
       "                    nan,             nan,             nan,\n",
       "                    nan,             nan,             nan,\n",
       "         2.32279096e-02],\n",
       "       [            nan,             nan,             nan,\n",
       "                    nan,             nan,             nan,\n",
       "                    nan,             nan,             nan,\n",
       "                    nan,             nan,             nan,\n",
       "                    nan,             nan,             nan,\n",
       "                    nan]])"
      ]
     },
     "execution_count": 39,
     "metadata": {},
     "output_type": "execute_result"
    }
   ],
   "source": [
    "SI['S2']"
   ]
  },
  {
   "cell_type": "markdown",
   "metadata": {
    "slideshow": {
     "slide_type": "subslide"
    }
   },
   "source": [
    "The results show that the most important parameters are:\n",
    "* Capital cost of the V2G equipment\n",
    "* Ratio of dispatch to contract\n",
    "* Battery size\n",
    "* Economic lifetime\n",
    "* Purchased energy cost\n",
    "\n",
    "Other comments:\n",
    "* __Lifetime cycles__ has a reasonably important first order effect so we can include that too.\n",
    "* __Battery size__ has much more important interaction effects than first-order effects\n",
    "* Same for __Purchased_energy_cost__\n",
    "\n",
    "We can now fix the other parameters and revisit our slider model to perform some analysis."
   ]
  },
  {
   "cell_type": "code",
   "execution_count": 32,
   "metadata": {
    "slideshow": {
     "slide_type": "skip"
    }
   },
   "outputs": [
    {
     "data": {
      "application/vnd.jupyter.widget-view+json": {
       "model_id": "beff6bc7cbf64fb7a971090367f343ee",
       "version_major": 2,
       "version_minor": 0
      },
      "text/plain": [
       "interactive(children=(FloatSlider(value=70.0, description='battery_size', min=10.0, step=5.0), FloatSlider(val…"
      ]
     },
     "metadata": {},
     "output_type": "display_data"
    }
   ],
   "source": [
    "@interact(battery_size=widgets.FloatSlider(value=70, min=10, max=100, step=5), \n",
    "          purchased_energy_cost=widgets.FloatSlider(value=0.1, min=0.01, max=0.5, step=0.01),\n",
    "          cost_of_v2g_equip=widgets.FloatSlider(value=2000, min=100, max=5000, step=100),\n",
    "          economic_lifetime=widgets.FloatSlider(value=10, min=3, max=25, step=1),\n",
    "          ratio_dispatch_to_contract=widgets.FloatSlider(value=0.10, min=0.01, max=0.50, step=0.01),\n",
    "         lifetime_cycles=widgets.FloatSlider(value=2000, min=1000, max=10000, step=500))\n",
    "def plot_profit(battery_size,\n",
    "                purchased_energy_cost,\n",
    "                cost_of_v2g_equip,\n",
    "                economic_lifetime,\n",
    "                ratio_dispatch_to_contract,\n",
    "                lifetime_cycles):\n",
    "    profit, revenue, cost = compute_profit( lifetime_cycles=lifetime_cycles,\n",
    "                                            battery_size=battery_size,\n",
    "                                            purchased_energy_cost=purchased_energy_cost,\n",
    "                                            cost_of_v2g_equip=cost_of_v2g_equip,\n",
    "                                            economic_lifetime=economic_lifetime,\n",
    "                                            ratio_dispatch_to_contract=ratio_dispatch_to_contract\n",
    "                                            )\n",
    "    return print(\"Profit £{} = £{} - £{}\".format(np.round(profit,2), np.round(revenue, 2), np.round(cost,2) ))"
   ]
  },
  {
   "cell_type": "markdown",
   "metadata": {
    "slideshow": {
     "slide_type": "slide"
    }
   },
   "source": [
    "# Summary\n",
    "\n",
    "\n",
    "Sensitivity analysis helps you:\n",
    "* Think through your assumptions\n",
    "* Quantify uncertainty\n",
    "* Focus on the most influential uncertainties first\n",
    "* Learn [Python](https://www.python.org)\n",
    "\n",
    "Similar packages to [SALib]() for other languages/programmes:\n",
    "* [Matlab Toolbox **SAFE** for GSA](http://www.sciencedirect.com/science/article/pii/S1364815215001188)\n",
    "* [`sensitivity` package for R](https://cran.r-project.org/web/packages/sensitivity/index.html)\n",
    "* [Excel](http://crossfitjerseycity.org/wp-content/uploads/2015/01/keep-calm-and-good-luck-graphic1.png)"
   ]
  },
  {
   "cell_type": "code",
   "execution_count": null,
   "metadata": {},
   "outputs": [],
   "source": []
  }
 ],
 "metadata": {
  "anaconda-cloud": {},
  "kernelspec": {
   "display_name": "Python 3",
   "language": "python",
   "name": "python3"
  },
  "language_info": {
   "codemirror_mode": {
    "name": "ipython",
    "version": 3
   },
   "file_extension": ".py",
   "mimetype": "text/x-python",
   "name": "python",
   "nbconvert_exporter": "python",
   "pygments_lexer": "ipython3",
   "version": "3.7.3"
  },
  "widgets": {
   "state": {
    "0af50d23a45142508964140075b2e066": {
     "views": [
      {
       "cell_index": 57
      }
     ]
    },
    "ae65ad80404a40aa8821f66314680f84": {
     "views": [
      {
       "cell_index": 18
      }
     ]
    },
    "e752c1ad95a34a95855de8bb60b03c47": {
     "views": [
      {
       "cell_index": 51
      }
     ]
    }
   },
   "version": "1.2.0"
  }
 },
 "nbformat": 4,
 "nbformat_minor": 1
}
