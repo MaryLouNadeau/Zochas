{
 "cells": [
  {
   "cell_type": "code",
   "execution_count": 1,
   "metadata": {},
   "outputs": [],
   "source": [
    "import numpy as np\n",
    "%matplotlib inline\n",
    "from matplotlib import pyplot as plt\n",
    "from scipy.optimize import minimize\n",
    "from scipy.optimize import curve_fit\n",
    "import pandas as pd"
   ]
  },
  {
   "cell_type": "code",
   "execution_count": 110,
   "metadata": {},
   "outputs": [],
   "source": [
    "rho_g_per_cm3 = 1.255184 #g/cm^3, 6M KOH\n",
    "density = rho_g_per_cm3*1000 #kg/m^3\n",
    "g = 9.81 #m/s^2\n",
    "gamma = density*g #N/m^3"
   ]
  },
  {
   "cell_type": "markdown",
   "metadata": {},
   "source": [
    "#### Reynolds Number Calculation for Noncircular Ducts\n",
    "\n",
    "The Reynolds number is calculated using the hydraulic diameter, $D_h = 4A/P$ $[m]$, average linear velocity, $v$ $[m/s]$, and kinematic viscosity, $\\nu$ $[m^2/s]$.\n",
    "\n",
    "\\begin{equation}\n",
    "Re_h = \\frac{D_hv}{\\nu}\n",
    "\\end{equation}"
   ]
  },
  {
   "cell_type": "code",
   "execution_count": 52,
   "metadata": {},
   "outputs": [],
   "source": [
    "def calculate_reynolds(reactor_width, cat_length):\n",
    "    '''\n",
    "    takes in the length of the cathode [m], assuming a flat square cathode,\n",
    "    and the reactor width[m], and calculates Re for a square duct\n",
    "    '''\n",
    "    #D_h = 4A/P\n",
    "    hydraulic_diameter = 4*cat_length*reactor_width / (2*cat_length + 2*reactor_width)\n",
    "    linear_velocity = 0.13263 #m/s\n",
    "    kinematic_viscosity_cm = 0.0149 #cm^2/s\n",
    "    kinematic_viscosity = kinematic_viscosity_cm/(100**2) #m^2/s\n",
    "    \n",
    "    Re = hydraulic_diameter*linear_velocity/kinematic_viscosity\n",
    "    \n",
    "    ratio = cat_length/reactor_width\n",
    "#     print('Aspect ratio is {:.2f}'.format(ratio))\n",
    "#     print(reactor_width)\n",
    "    return Re, ratio"
   ]
  },
  {
   "cell_type": "code",
   "execution_count": 92,
   "metadata": {},
   "outputs": [
    {
     "name": "stdout",
     "output_type": "stream",
     "text": [
      "(2500, 2)\n"
     ]
    },
    {
     "data": {
      "text/plain": [
       "(0.3310810810810811, 0.01, 1337.4605662112901, 1762.6420360156824)"
      ]
     },
     "execution_count": 92,
     "metadata": {},
     "output_type": "execute_result"
    },
    {
     "data": {
      "image/png": "[encoded data removed]",
      "text/plain": [
       "<Figure size 432x288 with 1 Axes>"
      ]
     },
     "metadata": {
      "needs_background": "light"
     },
     "output_type": "display_data"
    }
   ],
   "source": [
    "widths = np.linspace(0.01, 1) #range of values from 1cm to 1m\n",
    "# heights = np.ones_like(widths)\n",
    "heights = np.linspace(0.01, 1)\n",
    "\n",
    "geometries = np.array(np.meshgrid(heights,widths)).T.reshape(-1,2)\n",
    "reynolds = np.zeros_like(geometries[:,0])\n",
    "ratios = np.zeros_like(geometries[:,0])\n",
    "print(np.shape(geometries))\n",
    "\n",
    "#reynolds = array of reynolds #s \n",
    "for i in range(len(geometries)):\n",
    "    reynolds[i], ratios[i] = calculate_reynolds(geometries[i,0],geometries[i,1])\n",
    "\n",
    "lam_re = []\n",
    "lam_ratios = []\n",
    "for i in range(len(reynolds)):\n",
    "    if reynolds[i] < 2300 and ratios[i]<1: #laminar\n",
    "        lam_re.append(reynolds[i])\n",
    "        lam_ratios.append(ratios[i])\n",
    "#         print(ratios[i])\n",
    "lam_re\n",
    "\n",
    "plt.plot(lam_ratios,lam_re)\n",
    "max(lam_ratios), min(lam_ratios), min(lam_re), max(lam_re)"
   ]
  },
  {
   "cell_type": "markdown",
   "metadata": {},
   "source": [
    "### Calculating the pressure drop in a noncircular duct\n",
    "\n",
    "For laminar flow in a noncircular duct:\n",
    "\\begin{equation}\n",
    "f = \\frac{C}{\\text{Re}_h}\n",
    "\\end{equation}\n",
    "\n",
    "head loss, $h_L$, can be calculated by:\n",
    "\\begin{equation}\n",
    "h_L = f\\frac{l}{D_h}\\frac{V^2}{2g}\n",
    "\\end{equation}\n",
    "\n",
    "Then the pressure drop can be found by: \n",
    "\\begin{equation}\n",
    "\\Delta p = \\gamma  h_L\n",
    "\\end{equation}"
   ]
  },
  {
   "cell_type": "markdown",
   "metadata": {},
   "source": [
    "<img src=\"Calculate_C.png\" alt=\"Drawing\" style=\"width: 800px;\"/>\n"
   ]
  },
  {
   "cell_type": "code",
   "execution_count": 93,
   "metadata": {},
   "outputs": [
    {
     "data": {
      "image/png": "[encoded data removed]",
      "text/plain": [
       "<Figure size 432x288 with 1 Axes>"
      ]
     },
     "metadata": {
      "needs_background": "light"
     },
     "output_type": "display_data"
    }
   ],
   "source": [
    "ratios = [0,0.05,0.1,0.25,0.5,0.75,1.0]\n",
    "Cs = [96.0,89.9,84.7,72.9,62.2,57.9,56.9]\n",
    "plt.plot(ratios,Cs,'-*')\n",
    "plt.xlabel('Height/width')\n",
    "plt.ylabel('C = $f*Re_h$')\n",
    "plt.show()"
   ]
  },
  {
   "cell_type": "code",
   "execution_count": 97,
   "metadata": {},
   "outputs": [
    {
     "data": {
      "text/plain": [
       "70.76"
      ]
     },
     "execution_count": 97,
     "metadata": {},
     "output_type": "execute_result"
    }
   ],
   "source": [
    "#interpolating tabulated data \n",
    "def find_C(ratio):\n",
    "    ratios = [0,0.05,0.1,0.25,0.5,0.75,1.0]\n",
    "    Cs = [96.0,89.9,84.7,72.9,62.2,57.9,56.9]\n",
    "    return np.interp(ratio,ratios,Cs)\n",
    "\n",
    "find_C(.3)"
   ]
  },
  {
   "cell_type": "code",
   "execution_count": 98,
   "metadata": {},
   "outputs": [],
   "source": [
    "def pressure_drop(h,w):\n",
    "    \n",
    "    L = h #square catalyst as side\n",
    "    hydraulic_diameter = 4*h*w/(2*h+2*w)\n",
    "    linear_velocity = 0.13263 #m/s\n",
    "    kinematic_viscosity_cm = 0.0149 #cm^2/s\n",
    "    kinematic_viscosity = kinematic_viscosity_cm/(100**2)\n",
    "    \n",
    "    Re_h = hydraulic_diameter*linear_velocity/kinematic_viscosity\n",
    "    ratio = h/w #or vice versa? \n",
    "    \n",
    "    C = find_C(ratio)\n",
    "    f = C/Re_h\n",
    "    \n",
    "    head_loss = f*L/hydraulic_diameter*linear_velocity**2/(2*g)\n",
    "    pressure_drop = gamma*head_loss\n",
    "     \n",
    "    return pressure_drop, head_loss #N/m^2"
   ]
  },
  {
   "cell_type": "code",
   "execution_count": 130,
   "metadata": {},
   "outputs": [
    {
     "name": "stdout",
     "output_type": "stream",
     "text": [
      "Pressure drop: 1.80e-04 bar\n"
     ]
    }
   ],
   "source": [
    "final_height,final_width = 1, .01\n",
    "\n",
    "pd, head = pressure_drop(final_height,final_width)\n",
    "p_bar = 1e-5*pd\n",
    "print('Pressure drop: {:.2e} bar'.format(p_bar))"
   ]
  },
  {
   "cell_type": "markdown",
   "metadata": {},
   "source": [
    "### Calculating Pump Power\n",
    "\n",
    "source: https://www.aiche.org/resources/publications/cep/2016/december/pump-sizing-bridging-gap-between-theory-and-practice\n",
    "\n",
    "\\begin{equation}\n",
    "P = \\frac{Q \\rho g H}{3.6x10^6 \\eta}\n",
    "\\end{equation}\n",
    "\n",
    "where P is the pump power (kW), Q is the flowrate (m3/hr), H is the total pump head (m of fluid), and η is the pump efficiency (if you do not know the efficiency, use η = 0.7). "
   ]
  },
  {
   "cell_type": "code",
   "execution_count": 128,
   "metadata": {},
   "outputs": [
    {
     "name": "stdout",
     "output_type": "stream",
     "text": [
      "Pump power = 3.41e-05 kW\n",
      "Note: This is only based on the pressure drop across 1 cell. \n",
      "Consider adding considerations for piping, fittings, geometry change.\n"
     ]
    }
   ],
   "source": [
    "#flowrate = hw*linear_velocity\n",
    "h = final_height\n",
    "w = final_width\n",
    "linear_velocity = 0.13263 #m/s\n",
    "Q = h*w*linear_velocity #m^3/s\n",
    "Q_hr = 3600*Q\n",
    "pump_efficiency = 0.7 #AichE Paper said to use this if we don't know\n",
    "\n",
    "Power = Q_hr*density*g*head/(pump_efficiency*3.6e6) #kW\n",
    "Power\n",
    "\n",
    "# print(Q*60)\n",
    "print('Pump power = {:.2e} kW'.format(Power)) #kW\n",
    "print('Note: This is only based on the pressure drop across 1 cell. \\nConsider adding considerations for piping, fittings, geometry change.')"
   ]
  },
  {
   "cell_type": "markdown",
   "metadata": {},
   "source": [
    "### Calculating Pump power for a given width [m]"
   ]
  },
  {
   "cell_type": "code",
   "execution_count": 131,
   "metadata": {},
   "outputs": [],
   "source": [
    "from __future__ import print_function\n",
    "from ipywidgets import interact, interactive, fixed, interact_manual\n",
    "import ipywidgets as widgets"
   ]
  },
  {
   "cell_type": "code",
   "execution_count": 156,
   "metadata": {},
   "outputs": [
    {
     "data": {
      "application/vnd.jupyter.widget-view+json": {
       "model_id": "d9c9b4e230394354a3db995bc75f97bb",
       "version_major": 2,
       "version_minor": 0
      },
      "text/plain": [
       "interactive(children=(FloatSlider(value=0.2525, description='w', max=0.5, min=0.005), Output()), _dom_classes=…"
      ]
     },
     "metadata": {},
     "output_type": "display_data"
    },
    {
     "data": {
      "text/plain": [
       "<function __main__.POWER(w)>"
      ]
     },
     "execution_count": 156,
     "metadata": {},
     "output_type": "execute_result"
    }
   ],
   "source": [
    "def POWER(w):\n",
    "    \n",
    "    h = 1\n",
    "    L = h #square catalyst as side\n",
    "    hydraulic_diameter = 4*h*w/(2*h+2*w)\n",
    "    linear_velocity = 0.13263 #m/s\n",
    "    kinematic_viscosity_cm = 0.0149 #cm^2/s\n",
    "    kinematic_viscosity = kinematic_viscosity_cm/(100**2)\n",
    "    \n",
    "    Re_h = hydraulic_diameter*linear_velocity/kinematic_viscosity\n",
    "    ratio = h/w  \n",
    "    \n",
    "    C = find_C(ratio)\n",
    "    f = C/Re_h\n",
    "    \n",
    "    head_loss = f*L/hydraulic_diameter*linear_velocity**2/(2*g)\n",
    "    pressure_drop = gamma*head_loss\n",
    "    linear_velocity = 0.13263 #m/s\n",
    "    \n",
    "    Q = h*w*linear_velocity #m^3/s\n",
    "    Q_hr = 3600*Q\n",
    "    pump_efficiency = 0.7 #AichE Paper said to use this if we don't know\n",
    "\n",
    "    Power = Q_hr*density*g*head/(pump_efficiency*3.6e6) #kW\n",
    "     \n",
    "    return Power #kW\n",
    "\n",
    "#pass 'interact' the function and then the variable name u will change\n",
    "#=(min,max,step)\n",
    "interact(POWER,w=(.005,.5)) #kW for widths from .5cm to 50cm"
   ]
  },
  {
   "cell_type": "code",
   "execution_count": 149,
   "metadata": {},
   "outputs": [
    {
     "data": {
      "image/png": "[encoded data removed]",
      "text/plain": [
       "<Figure size 432x288 with 1 Axes>"
      ]
     },
     "metadata": {
      "needs_background": "light"
     },
     "output_type": "display_data"
    }
   ],
   "source": [
    "ws = np.linspace(.005,.5) #0.5 to 50cm\n",
    "powers = POWER(ws)\n",
    "plt.plot(ws*100,powers*1000)\n",
    "plt.xlabel('Width [cm]')\n",
    "plt.ylabel('Power [W]')\n",
    "plt.title('Power vs width for 1m height cell')\n",
    "plt.show()"
   ]
  },
  {
   "cell_type": "code",
   "execution_count": 155,
   "metadata": {},
   "outputs": [
    {
     "data": {
      "text/plain": [
       "0.03409919992738097"
      ]
     },
     "execution_count": 155,
     "metadata": {},
     "output_type": "execute_result"
    }
   ],
   "source": [
    "from scipy.stats import linregress\n",
    "ans = linregress(ws*100,powers*1000) \n",
    "slope = ans[0] #W/cm\n",
    "slope"
   ]
  }
 ],
 "metadata": {
  "kernelspec": {
   "display_name": "Python 3",
   "language": "python",
   "name": "python3"
  },
  "language_info": {
   "codemirror_mode": {
    "name": "ipython",
    "version": 3
   },
   "file_extension": ".py",
   "mimetype": "text/x-python",
   "name": "python",
   "nbconvert_exporter": "python",
   "pygments_lexer": "ipython3",
   "version": "3.7.3"
  }
 },
 "nbformat": 4,
 "nbformat_minor": 2
}
