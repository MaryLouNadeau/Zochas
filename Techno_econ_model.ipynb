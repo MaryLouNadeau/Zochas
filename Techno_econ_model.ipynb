{
 "cells": [
  {
   "cell_type": "markdown",
   "metadata": {},
   "source": [
    "# Preliminary Techno-Economic Model\n",
    "Based on Noack et al. (energies paper)"
   ]
  },
  {
   "cell_type": "code",
   "execution_count": 1,
   "metadata": {},
   "outputs": [],
   "source": [
    "import numpy as np\n",
    "%matplotlib inline\n",
    "from matplotlib import pyplot as plt\n",
    "from scipy.optimize import minimize\n",
    "from scipy.optimize import least_squares"
   ]
  },
  {
   "cell_type": "code",
   "execution_count": 2,
   "metadata": {},
   "outputs": [],
   "source": [
    "def battery_cost(power_C, energy_C, area_C, facilities_C):\n",
    "    cost = power_C + energy_C + area_C + facilities_C\n",
    "    return cost"
   ]
  },
  {
   "cell_type": "markdown",
   "metadata": {},
   "source": [
    "Constants:"
   ]
  },
  {
   "cell_type": "code",
   "execution_count": 3,
   "metadata": {},
   "outputs": [],
   "source": [
    "R = 8.3144626 #J/mol-K\n",
    "F = 96485.33212 #C/mol"
   ]
  },
  {
   "cell_type": "code",
   "execution_count": 4,
   "metadata": {},
   "outputs": [],
   "source": [
    "things_to_look_up_or_think_about = {}"
   ]
  },
  {
   "cell_type": "code",
   "execution_count": 5,
   "metadata": {},
   "outputs": [],
   "source": [
    "def Nernst(temp,Concentrations):\n",
    "    '''\n",
    "    Takes molar concentrations of the oxidant and reductant at the cathode and anode  \n",
    "    Returns the standard open circuit voltage of a STACK? \n",
    "    '''\n",
    "    E0_C = 0.401 #V vs SHE for cathode (air electrode)\n",
    "    E0_A = -.763 #V vs SHE for anode (zinc electrode)\n",
    "    R = 8.3144626 #J/mol-K\n",
    "    F = 96485.33212 #C/mol\n",
    "    T = temp\n",
    "    z = 2 #electrons?? lol\n",
    "    C_O2, C_air_OH, C_zinc_zincate, C_zinc_OH = Concentrations\n",
    "    \n",
    "    E_C = E0_C + R*T*(z*F)**(-1)* np.log(C_O2**0.5/C_air_OH**2)\n",
    "    E_A = E0_A + R*T*(z*F)**(-1)* np.log(C_zinc_zincate/C_zinc_OH**4)\n",
    "    \n",
    "    #U_rev = (E0_C - E0_A) + R*T*(z*F)**(-1) * np.log(c_C_ox*c_A_red/(c_C_red*c_A_ox))\n",
    "    U_rev = E_C - E_A\n",
    "    \n",
    "    return U_rev"
   ]
  },
  {
   "cell_type": "code",
   "execution_count": 6,
   "metadata": {},
   "outputs": [
    {
     "data": {
      "text/plain": [
       "1.1640000000000001"
      ]
     },
     "execution_count": 6,
     "metadata": {},
     "output_type": "execute_result"
    }
   ],
   "source": [
    "Nernst(298,[1,1,1,1])\n"
   ]
  },
  {
   "cell_type": "code",
   "execution_count": 7,
   "metadata": {},
   "outputs": [],
   "source": [
    "def activation_overpotential():\n",
    "    '''\n",
    "    the paper said alpha, i_0 and the limiting current density, i_L\n",
    "    were too difficult to obtain so they were left as constants\n",
    "    but they supplement the model with measured values later ? \n",
    "    '''\n",
    "    #U_act = alpha*np.log(i/i0)\n",
    "    \n",
    "    U_act = 0.005 #V from paper Table 1\n",
    "    return U_act"
   ]
  },
  {
   "cell_type": "code",
   "execution_count": 8,
   "metadata": {},
   "outputs": [],
   "source": [
    "def concentration_overpotential():\n",
    "    '''\n",
    "    the paper said alpha, i_0 and the limiting current density, i_L\n",
    "    were too difficult to obtain so they were left as constants\n",
    "    but they supplement the model with measured values later ? \n",
    "    '''\n",
    "    #U_conc = R*T/(z*F)*np.log(i_L/(i_L - i))\n",
    "    \n",
    "    U_conc = 0.02 #V from paper Table 1\n",
    "    return U_conc"
   ]
  },
  {
   "cell_type": "code",
   "execution_count": 9,
   "metadata": {},
   "outputs": [],
   "source": [
    "def ohmic_losses(current):\n",
    "    '''\n",
    "    Takes in current and returns ohmic losses based on resistances in cell\n",
    "    '''\n",
    "    I = current #constant??\n",
    "    \n",
    "    b_membrane = .1 #membrane thickness - this is a guess [units?] \n",
    "    A_active = 580 #cm^2 [from paper] \n",
    "    specific_conductivity_membrane = 1.44 #S/m from paper \n",
    "    \n",
    "    R_membrane = b_membrane/(A_active*specific_conductivity_membrane)\n",
    "    R_contact = 1 # look up\n",
    "    R_electrolyte = .0002 #look up\n",
    "    R_what_else = 0 #think?\n",
    "    R = R_membrane + R_contact + R_electrolyte + R_what_else\n",
    "    U_ohm = I*(R)\n",
    "    \n",
    "    return U_ohm"
   ]
  },
  {
   "cell_type": "code",
   "execution_count": 10,
   "metadata": {},
   "outputs": [],
   "source": [
    "def effective_cell_voltage(voltages):\n",
    "    U_rev, U_act, U_con, U_ohm = voltages\n",
    "    #U_cell = U_rev + U_act + U_con + U_ohm\n",
    "    U_cell = U_rev - U_act - U_con - U_ohm\n",
    "    return U_cell"
   ]
  },
  {
   "cell_type": "code",
   "execution_count": 11,
   "metadata": {},
   "outputs": [],
   "source": [
    "def power_function(U_cell, N, i, active_area):\n",
    "    power = U_cell*N*i*active_area\n",
    "    return power"
   ]
  },
  {
   "cell_type": "markdown",
   "metadata": {},
   "source": [
    "### Example Framework:\n",
    "\n",
    "I guess this only works if you set your current"
   ]
  },
  {
   "cell_type": "code",
   "execution_count": 12,
   "metadata": {},
   "outputs": [
    {
     "name": "stdout",
     "output_type": "stream",
     "text": [
      "Effective cell voltage is 0.18 V!\n",
      "Power is 0.18 mystery units!\n"
     ]
    }
   ],
   "source": [
    "T = 298 #K\n",
    "example_concs = [1,2,3,4]\n",
    "Current = 1 #idk \n",
    "\n",
    "V_rev = Nernst(T,example_concs)\n",
    "V_act = activation_overpotential()\n",
    "V_con = concentration_overpotential()\n",
    "V_ohm = ohmic_losses(Current)\n",
    "\n",
    "Vs = V_rev, V_act, V_con, V_ohm\n",
    "V_cell = effective_cell_voltage(Vs) #calculates the effective cell voltage based on the other voltages.\n",
    "\n",
    "print ('Effective cell voltage is %.2f V!' %(V_cell))\n",
    "\n",
    "active_area = 1\n",
    "ex_current_density = Current/active_area\n",
    "print ('Power is %.2f mystery units!' %(power_function(V_cell,1,ex_current_density,active_area)))"
   ]
  },
  {
   "cell_type": "code",
   "execution_count": 13,
   "metadata": {},
   "outputs": [
    {
     "data": {
      "text/plain": [
       "1.0003197318007662"
      ]
     },
     "execution_count": 13,
     "metadata": {},
     "output_type": "execute_result"
    }
   ],
   "source": [
    "ohmic_losses(1)"
   ]
  },
  {
   "cell_type": "markdown",
   "metadata": {},
   "source": [
    "# We choose power, it calculates current needed\n",
    "\n",
    "Right now only ohmic losses ($U_{ohm}$) is a funtion of current. \n",
    "\n",
    "P = IV, so if we set a power we also get a set current"
   ]
  },
  {
   "cell_type": "code",
   "execution_count": 14,
   "metadata": {},
   "outputs": [],
   "source": [
    "from __future__ import print_function\n",
    "from ipywidgets import interact, interactive, fixed, interact_manual\n",
    "import ipywidgets as widgets"
   ]
  },
  {
   "cell_type": "code",
   "execution_count": 15,
   "metadata": {},
   "outputs": [
    {
     "data": {
      "application/vnd.jupyter.widget-view+json": {
       "model_id": "7e4588a10ce14db78f7ddb0a70dcf384",
       "version_major": 2,
       "version_minor": 0
      },
      "text/plain": [
       "interactive(children=(IntSlider(value=0, description='test_current', max=1000, min=-1000, step=100), Output())…"
      ]
     },
     "metadata": {},
     "output_type": "display_data"
    },
    {
     "data": {
      "text/plain": [
       "<function __main__.helppp(test_current)>"
      ]
     },
     "execution_count": 15,
     "metadata": {},
     "output_type": "execute_result"
    }
   ],
   "source": [
    "def helppp(test_current):\n",
    "    T = 293 #K\n",
    "    # C_O2, C_air_OH, C_zinc_zincate, C_zinc_OH = Concentrations\n",
    "    example_concs = [0.2095,6,0.2,6]\n",
    "    V_rev = Nernst(T,example_concs)\n",
    "    V_act = activation_overpotential()\n",
    "    V_con = concentration_overpotential()\n",
    "    Vs = V_rev, V_act, V_con, ohmic_losses(test_current)\n",
    "    test_P = test_current*effective_cell_voltage(Vs)\n",
    "    return test_P\n",
    "\n",
    "#pass 'interact' the function and then the variable name u will change\n",
    "#=(min,max,step)\n",
    "interact(helppp,test_current=(-1000,1000,100))\n",
    "# interact(helppp,test_current=(-38,-37,.01))"
   ]
  },
  {
   "cell_type": "code",
<<<<<<< HEAD
<<<<<<< HEAD
   "execution_count": 16,
=======
   "execution_count": 72,
>>>>>>> mlou
=======

   "execution_count": 16,
>>>>>>> ca41103688d1f4e48689b8df87120bfee4aca8ff
   "metadata": {},
   "outputs": [
    {
     "data": {
<<<<<<< HEAD
<<<<<<< HEAD
      "image/png": "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\n",
=======
=======
>>>>>>> ca41103688d1f4e48689b8df87120bfee4aca8ff
      "text/plain": [
       "Text(0, 0.5, 'Power')"
      ]
     },
     "execution_count": 72,
     "metadata": {},
     "output_type": "execute_result"
    },
    {
     "data": {
      "image/png": "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\n",
<<<<<<< HEAD
>>>>>>> mlou
=======
>>>>>>> ca41103688d1f4e48689b8df87120bfee4aca8ff
      "text/plain": [
       "<Figure size 432x288 with 1 Axes>"
      ]
     },
     "metadata": {
      "needs_background": "light"
     },
     "output_type": "display_data"
    }
   ],
   "source": [
    "#VIsualize\n",
    "x = np.linspace(-50,50)\n",
    "c_of_x = helppp(x)\n",
    "\n",
    "plt.plot(x,c_of_x)\n",
    "plt.plot(x,np.ones_like(x)*500)\n",
    "plt.xlabel('Current')\n",
    "plt.ylabel( 'Power' )"
   ]
  },
  {
   "cell_type": "code",
   "execution_count": 17,
   "metadata": {},
   "outputs": [
    {
     "name": "stdout",
     "output_type": "stream",
     "text": [
      "[0.60896765 0.60887401]\n",
      "yay it matches above!\n"
     ]
    }
   ],
   "source": [
    "Power = 500\n",
    "\n",
    "def objective_function(guess_current, *power):\n",
    "    T = 600 #K\n",
    "    example_concs = [1,2,3,4]\n",
    "    \n",
    "    V_rev = Nernst(T,example_concs)\n",
    "    V_act = activation_overpotential()\n",
    "    V_con = concentration_overpotential()\n",
    "    V_ohm = ohmic_losses(guess_current)\n",
    "\n",
    "    Vs = V_rev, V_act, V_con, V_ohm\n",
    "    V = effective_cell_voltage(Vs)\n",
    "\n",
    "    return power - guess_current*V\n",
    "\n",
    "current_maybe = least_squares(objective_function, [-1000,100],args=([Power]))\n",
    "# print('Calculated current is %.4f'%(current_maybe.x[0]))\n",
    "print(current_maybe.x )\n",
    "print('yay it matches above!')"
   ]
  },
  {
   "cell_type": "markdown",
   "metadata": {},
   "source": [
    "depending on what we want, we could also have a function that minimizes (maximizes? idk is it supposed to be negative?/ confused)ohmic losses based on the possible currents that would work for our desired power. "
   ]
  },
  {
   "cell_type": "code",
   "execution_count": 18,
   "metadata": {},
   "outputs": [
    {
     "name": "stdout",
     "output_type": "stream",
     "text": [
      "minimum ohmic loss for your power setting of 500 watts (units?) is 0.6 volts(?) at a current of 0.61 amps(units?)\n"
     ]
    }
   ],
   "source": [
    "def minimize_ohmic_losses(possible_currents):\n",
    "    '''\n",
    "    pass me the least_squares solution array from the \n",
    "    get_current_from_power function and I will tell you\n",
    "    which one gives minimum ohmic losses\n",
    "    '''\n",
    "    losses = ohmic_losses(possible_currents)\n",
    "    min_ohmic_loss = np.min(losses)\n",
    "    index = np.argmin(losses)\n",
    "    corresponding_current = possible_currents[index]\n",
    "    return min_ohmic_loss, corresponding_current\n",
    "\n",
    "answer = minimize_ohmic_losses(current_maybe.x)\n",
    "print('minimum ohmic loss for your power setting of %d watts (units?) is %.1f volts(?) at a current of %.2f amps(units?)'%(Power, *answer))"
   ]
  },
  {
   "cell_type": "markdown",
   "metadata": {},
   "source": [
    "## Simplifying for now "
   ]
  },
  {
   "cell_type": "code",
   "execution_count": 19,
   "metadata": {},
   "outputs": [],
   "source": [
    "#E0_C = 0.401 #V vs SHE\n",
    "#E0_A = -.763 #V vs SHE\n",
    "#V_cell = E0_C - E0_A\n",
    "# C_O2 = .21/22.4/1000 #mol O2 per cm^3\n",
    "\n",
    "\n",
    "\n",
    "P = 1000 #kW\n",
    "def area_needed(power):\n",
    "    \n",
    "    F = 96485.33212 #C/mol\n",
    "    C_O2_paper = .008452 #mol/dm^3\n",
    "    C_O2 = C_O2_paper/1000 #mol/cm^3\n",
    "\n",
    "    V_cell = Nernst(298, [0.2095,6,0.2,6])\n",
    "\n",
    "    #The relationship between k_f (cm/s) and Voltage (V) from kinetics proj.\n",
    "    k_f = 6e-5 * np.exp(4.7921*V_cell) #cm/s\n",
    "\n",
    "    i_k_amps = F*k_f*C_O2 # [C/mol * cm/s * mol/cm^3 = C/s-cm^2] = amps/cm^2\n",
    "    i_k_mA = i_k_amps*1000\n",
    "    i_k = i_k_mA\n",
    "    \n",
    "    A_required = power*(F*k_f*C_O2*V_cell)**(-1) #cm^2\n",
    "    A_required_m = A_required/10000 #m^2\n",
    "    \n",
    "    return A_required_m\n"
   ]
  },
  {
   "cell_type": "code",
   "execution_count": 23,
   "metadata": {},
   "outputs": [
    {
     "data": {
      "image/png": "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\n",
      "text/plain": [
       "<Figure size 432x288 with 1 Axes>"
      ]
     },
     "metadata": {
      "needs_background": "light"
     },
     "output_type": "display_data"
    }
   ],
   "source": [
    "powers = np.linspace(1,1000)\n",
    "areas = np.ones_like(powers)\n",
    "for i in range(len(powers)):\n",
    "    areas[i] = area_needed(powers[i])\n",
    "    \n",
    "\n",
    "plt.plot(powers,areas)\n",
    "#plt.xlabel('Power')\n",
    "plt.ylabel('Active Area ($m^2$)')\n",
    "plt.xlabel('Power (kW)')\n",
    "plt.show()"
   ]
  }
 ],
 "metadata": {
  "kernelspec": {
   "display_name": "Python 3",
   "language": "python",
   "name": "python3"
  },
  "language_info": {
   "codemirror_mode": {
    "name": "ipython",
    "version": 3
   },
   "file_extension": ".py",
   "mimetype": "text/x-python",
   "name": "python",
   "nbconvert_exporter": "python",
   "pygments_lexer": "ipython3",
   "version": "3.7.4"
  }
 },
 "nbformat": 4,
 "nbformat_minor": 2
}
