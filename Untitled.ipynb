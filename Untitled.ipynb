{
 "cells": [
  {
   "cell_type": "code",
   "execution_count": 1,
   "metadata": {},
   "outputs": [],
   "source": [
    "import numpy as np\n",
    "%matplotlib inline\n",
    "from matplotlib import pyplot as plt"
   ]
  },
  {
   "cell_type": "code",
   "execution_count": 8,
   "metadata": {},
   "outputs": [],
   "source": [
    "from ipywidgets import interact, interactive, fixed, interact_manual\n",
    "import ipywidgets as widgets"
   ]
  },
  {
   "cell_type": "code",
   "execution_count": 27,
   "metadata": {},
   "outputs": [
    {
     "name": "stdout",
     "output_type": "stream",
     "text": [
      "Price to transport X tons of Zn from Willacy to Gulfport:\n",
      "\n",
      "Slide the widget to an amount of Zn you would like to transport, \n",
      "then see the corresponding cost.\n",
      "Upper limit is the maximum weight for a Class 8 Truck.\n"
     ]
    },
    {
     "data": {
      "application/vnd.jupyter.widget-view+json": {
       "model_id": "24ba242f06dd4a33b64387ab160ad37d",
       "version_major": 2,
       "version_minor": 0
      },
      "text/plain": [
       "interactive(children=(FloatSlider(value=8.1, description='Tons_Zn', max=16.5, min=0.1, step=1.0), Output()), _…"
      ]
     },
     "metadata": {},
     "output_type": "display_data"
    }
   ],
   "source": [
    "total_Zn = 430.37 #tons\n",
    "\n",
    "amts = np.linspace(0,.01*430.37)\n",
    "def transport_price(Tons_Zn):\n",
    "    '''takes amount of zinc (tons) and returns price \n",
    "    based on travelling 710.4 miles at an avg cost of\n",
    "    15.6 cents per ton mile'''\n",
    "    miles = 710.4 #from Wilacy to Gulfport\n",
    "    dol_per_ton_mile = 0.156 #15.6 cents per ton mile avg cost\n",
    "    price = Tons_Zn*miles*dol_per_ton_mile\n",
    "    return price\n",
    "\n",
    "print('Price to transport X tons of Zn from Willacy to Gulfport:\\n')\n",
    "print('Slide the widget to an amount of Zn you would like to transport, \\nthen see the corresponding cost.\\nUpper limit is the maximum weight for a Class 8 Truck.')\n",
    "#=(min,max,step)\n",
    "a = interact(transport_price,Tons_Zn=(0.1,16.5,1))"
   ]
  },
  {
   "cell_type": "code",
   "execution_count": 5,
   "metadata": {},
   "outputs": [
    {
     "data": {
      "text/plain": [
       "(110.8224, 55.4112)"
      ]
     },
     "execution_count": 5,
     "metadata": {},
     "output_type": "execute_result"
    }
   ],
   "source": [
    "transport_price(1), transport_price(.5)\n",
    "\n",
    "'''\n",
    "Class 8 trucks: heaviest trucks, with 33,000 lbs (16.5 tons) max weight\n",
    "Delivery truck\n",
    "data from epa: Worksheet available at afdc.energy.gov/data/\n",
    "'''\n",
    "class_8_mpg = 5.3\n",
    "delivery_truck_mpg = 6.7\n"
   ]
  }
 ],
 "metadata": {
  "kernelspec": {
   "display_name": "Python 3",
   "language": "python",
   "name": "python3"
  },
  "language_info": {
   "codemirror_mode": {
    "name": "ipython",
    "version": 3
   },
   "file_extension": ".py",
   "mimetype": "text/x-python",
   "name": "python",
   "nbconvert_exporter": "python",
   "pygments_lexer": "ipython3",
   "version": "3.7.4"
  }
 },
 "nbformat": 4,
 "nbformat_minor": 2
}
